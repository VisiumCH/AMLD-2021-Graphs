{
  "nbformat": 4,
  "nbformat_minor": 0,
  "metadata": {
    "colab": {
      "name": "Copy of GNN Explanation.ipynb",
      "provenance": [],
      "collapsed_sections": []
    },
    "kernelspec": {
      "name": "python3",
      "display_name": "Python 3"
    },
    "accelerator": "GPU"
  },
  "cells": [
    {
      "cell_type": "code",
      "metadata": {
        "id": "F1op-CbyLuN4",
        "colab": {
          "base_uri": "https://localhost:8080/"
        },
        "outputId": "46caaebd-1fc6-4e40-fbe0-675b70911a47"
      },
      "source": [
        "# Install required packages.\n",
        "!pip install -q torch-scatter -f https://pytorch-geometric.com/whl/torch-1.8.0+cu101.html\n",
        "!pip install -q torch-sparse -f https://pytorch-geometric.com/whl/torch-1.8.0+cu101.html\n",
        "!pip install -q torch-geometric\n",
        "!pip install -q captum\n",
        "\n",
        "# Helper function for visualization.\n",
        "%matplotlib inline\n",
        "import matplotlib.pyplot as plt"
      ],
      "execution_count": 1,
      "outputs": [
        {
          "output_type": "stream",
          "text": [
            "\u001b[K     |████████████████████████████████| 2.6MB 7.0MB/s \n",
            "\u001b[K     |████████████████████████████████| 1.5MB 6.8MB/s \n",
            "\u001b[K     |████████████████████████████████| 194kB 10.1MB/s \n",
            "\u001b[K     |████████████████████████████████| 235kB 13.3MB/s \n",
            "\u001b[K     |████████████████████████████████| 2.2MB 13.2MB/s \n",
            "\u001b[K     |████████████████████████████████| 51kB 8.7MB/s \n",
            "\u001b[?25h  Building wheel for torch-geometric (setup.py) ... \u001b[?25l\u001b[?25hdone\n",
            "\u001b[K     |████████████████████████████████| 4.4MB 7.8MB/s \n",
            "\u001b[?25h"
          ],
          "name": "stdout"
        }
      ]
    },
    {
      "cell_type": "markdown",
      "metadata": {
        "id": "nMTL0kk0seBw"
      },
      "source": [
        "# Explaining GNN Model Predictions using Captum\n",
        "\n",
        "In this tutorial we demonstrate how to apply feature attribution methods to graphs. Specifically, we try to find the most important edges for each instance prediction.  \n",
        "\n",
        "We use the Mutagenicity dataset from [TUDatasets](https://chrsmrrs.github.io/datasets/). This dataset consists of 4337 molecule graphs where the task is to predict the molecule mutagenicity."
      ]
    },
    {
      "cell_type": "markdown",
      "metadata": {
        "id": "mJtgD2A1uJAa"
      },
      "source": [
        "## Loading the dataset\n",
        "\n",
        "We load the dataset and use 10% of the data as the test split."
      ]
    },
    {
      "cell_type": "code",
      "metadata": {
        "id": "SE2iREv4q2dL",
        "colab": {
          "base_uri": "https://localhost:8080/"
        },
        "outputId": "b37f4609-202f-49e5-f807-c3b08bf7f67e"
      },
      "source": [
        "from torch_geometric.data import DataLoader\n",
        "from torch_geometric.datasets import TUDataset\n",
        "\n",
        "path = '.'\n",
        "dataset = TUDataset(path, name='Mutagenicity').shuffle()\n",
        "test_dataset = dataset[:len(dataset) // 10]\n",
        "train_dataset = dataset[len(dataset) // 10:]\n",
        "test_loader = DataLoader(test_dataset, batch_size=128)\n",
        "train_loader = DataLoader(train_dataset, batch_size=128)"
      ],
      "execution_count": 2,
      "outputs": [
        {
          "output_type": "stream",
          "text": [
            "Downloading https://www.chrsmrrs.com/graphkerneldatasets/Mutagenicity.zip\n",
            "Extracting ./Mutagenicity/Mutagenicity.zip\n",
            "Processing...\n",
            "Done!\n"
          ],
          "name": "stdout"
        }
      ]
    },
    {
      "cell_type": "code",
      "metadata": {
        "id": "5fEdk-Ggq2yf",
        "colab": {
          "base_uri": "https://localhost:8080/"
        },
        "outputId": "92b0a98b-64ef-49e1-b590-5a0b30674682"
      },
      "source": [
        "print()\n",
        "print(f'Dataset: {dataset}:')\n",
        "print('====================')\n",
        "print(f'Number of graphs: {len(dataset)}')\n",
        "print(f'Number of features: {dataset.num_features}')\n",
        "print(f'Number of classes: {dataset.num_classes}')\n",
        "\n",
        "data = dataset[0]  # Get the first graph object.\n",
        "\n",
        "print()\n",
        "print(data)\n",
        "print('=============================================================')\n",
        "\n",
        "# Gather some statistics about the first graph.\n",
        "print(f'Number of nodes: {data.num_nodes}')\n",
        "print(f'Number of edges: {data.num_edges}')\n",
        "print(f'Average node degree: {data.num_edges / data.num_nodes:.2f}')\n",
        "print(f'Contains isolated nodes: {data.contains_isolated_nodes()}')\n",
        "print(f'Contains self-loops: {data.contains_self_loops()}')\n",
        "print(f'Is undirected: {data.is_undirected()}')"
      ],
      "execution_count": 3,
      "outputs": [
        {
          "output_type": "stream",
          "text": [
            "\n",
            "Dataset: Mutagenicity(4337):\n",
            "====================\n",
            "Number of graphs: 4337\n",
            "Number of features: 14\n",
            "Number of classes: 2\n",
            "\n",
            "Data(edge_attr=[22, 3], edge_index=[2, 22], x=[11, 14], y=[1])\n",
            "=============================================================\n",
            "Number of nodes: 11\n",
            "Number of edges: 22\n",
            "Average node degree: 2.00\n",
            "Contains isolated nodes: False\n",
            "Contains self-loops: False\n",
            "Is undirected: True\n"
          ],
          "name": "stdout"
        }
      ]
    },
    {
      "cell_type": "markdown",
      "metadata": {
        "id": "g35SSQ3oukNM"
      },
      "source": [
        "## Visualizing the data\n",
        "\n",
        "We define some utility functions for visualizing the molecules and draw a random molecule."
      ]
    },
    {
      "cell_type": "code",
      "metadata": {
        "id": "9Hh3YNASuYxm"
      },
      "source": [
        "import networkx as nx\n",
        "import numpy as np\n",
        "\n",
        "from torch_geometric.utils import to_networkx\n",
        "\n",
        "\n",
        "def draw_molecule(g, edge_mask=None, draw_edge_labels=False):\n",
        "    g = g.copy().to_undirected()\n",
        "    node_labels = {}\n",
        "    for u, data in g.nodes(data=True):\n",
        "        node_labels[u] = data['name']\n",
        "    #pos = nx.kamada_kawai_layout(g)\n",
        "    pos = nx.planar_layout(g)\n",
        "    pos = nx.spring_layout(g, pos=pos)\n",
        "    if edge_mask is None:\n",
        "        edge_color = 'black'\n",
        "        widths = None\n",
        "    else:\n",
        "        edge_color = [edge_mask[(u, v)] for u, v in g.edges()]\n",
        "        widths = [x * 10 for x in edge_color]\n",
        "    nx.draw(g, pos=pos, labels=node_labels, width=widths,\n",
        "            edge_color=edge_color, edge_cmap=plt.cm.Blues,\n",
        "            node_color='azure')\n",
        "    \n",
        "    if draw_edge_labels and edge_mask is not None:\n",
        "        edge_labels = {k: ('%.2f' % v) for k, v in edge_mask.items()}    \n",
        "        nx.draw_networkx_edge_labels(g, pos, edge_labels=edge_labels,\n",
        "                                    font_color='red')\n",
        "    plt.show()\n",
        "\n",
        "\n",
        "def to_molecule(data):\n",
        "    ATOM_MAP = ['C', 'O', 'Cl', 'H', 'N', 'F',\n",
        "                'Br', 'S', 'P', 'I', 'Na', 'K', 'Li', 'Ca']\n",
        "    g = to_networkx(data, node_attrs=['x'])\n",
        "    g.remove_nodes_from(list(nx.isolates(g)))\n",
        "\n",
        "    for u, data in g.nodes(data=True):\n",
        "        data['name'] = ATOM_MAP[data['x'].index(1.0)]\n",
        "        del data['x']\n",
        "    return g\n"
      ],
      "execution_count": 4,
      "outputs": []
    },
    {
      "cell_type": "code",
      "metadata": {
        "id": "J87g_7OrIpjy",
        "colab": {
          "base_uri": "https://localhost:8080/"
        },
        "outputId": "2068289a-6c98-480f-b4a7-d9a67fbf0547"
      },
      "source": [
        "import torch\n",
        "\n",
        "tr_class1 = torch.cat([data.y for data in train_loader]).sum()\n",
        "tr_class0 = len(train_dataset) - tr_class1\n",
        "\n",
        "te_class1 = torch.cat([data.y for data in test_loader]).sum()\n",
        "te_class0 = len(test_dataset) - te_class1\n",
        "\n",
        "print(f\"Class 1 in tr : {tr_class1} | {tr_class1 / len(train_dataset):.2%}\")\n",
        "print(f\"Class 1 in te : {te_class1} | {te_class1 / len(test_dataset):.2%}\")"
      ],
      "execution_count": 5,
      "outputs": [
        {
          "output_type": "stream",
          "text": [
            "Class 1 in tr : 1738 | 44.52%\n",
            "Class 1 in te : 198 | 45.73%\n"
          ],
          "name": "stdout"
        }
      ]
    },
    {
      "cell_type": "markdown",
      "metadata": {
        "id": "cJ3JuTH1vV1V"
      },
      "source": [
        "## Sample visualization\n",
        "\n",
        "We sample a single molecule from train_dataset and visualize it"
      ]
    },
    {
      "cell_type": "code",
      "metadata": {
        "id": "Y7RATneVqXLq",
        "colab": {
          "base_uri": "https://localhost:8080/",
          "height": 391
        },
        "outputId": "23dd728f-3c2f-4dc2-8b0d-0eb845a0db8a"
      },
      "source": [
        "import random\n",
        "\n",
        "data = random.choice([t for t in train_dataset])\n",
        "mol = to_molecule(data)\n",
        "plt.figure(figsize=(10, 5))\n",
        "draw_molecule(mol)"
      ],
      "execution_count": 6,
      "outputs": [
        {
          "output_type": "display_data",
          "data": {
            "image/png": "[encoded data removed]",
            "text/plain": [
              "<Figure size 720x360 with 1 Axes>"
            ]
          },
          "metadata": {
            "tags": []
          }
        }
      ]
    },
    {
      "cell_type": "markdown",
      "metadata": {
        "id": "6kZo9g1hwCGG"
      },
      "source": [
        "## Training the model\n",
        "\n",
        "In the next section, we train a GNN model with 5 convolution layers. We use GraphConv which supports `edge_weight` as a parameter. Many convolution layers in Pytorch Geometric supoort this argument."
      ]
    },
    {
      "cell_type": "markdown",
      "metadata": {
        "id": "GBVIOfMCCHAb"
      },
      "source": [
        "### Define the model"
      ]
    },
    {
      "cell_type": "code",
      "metadata": {
        "id": "iI1qpFUhrA2p"
      },
      "source": [
        "import torch\n",
        "import torch.nn.functional as F\n",
        "from torch.nn import Linear\n",
        "\n",
        "from torch_geometric.nn import global_add_pool, GraphConv\n",
        "\n",
        "class Net(torch.nn.Module):\n",
        "    def __init__(self, dim):\n",
        "        super(Net, self).__init__()\n",
        "\n",
        "        num_features = dataset.num_features\n",
        "        self.dim = dim\n",
        "\n",
        "        self.conv1 = GraphConv(num_features, dim)\n",
        "        self.conv2 = GraphConv(dim, dim)\n",
        "        self.conv3 = GraphConv(dim, dim)\n",
        "        self.conv4 = GraphConv(dim, dim)\n",
        "        self.conv5 = GraphConv(dim, dim)\n",
        "\n",
        "        self.fc1 = Linear(dim, dim)\n",
        "        self.fc2 = Linear(dim, dataset.num_classes)\n",
        "\n",
        "    def forward(self, x, edge_index, batch, edge_weight=None):\n",
        "        x = F.relu(self.conv1(x, edge_index, edge_weight))\n",
        "        x = F.relu(self.conv2(x, edge_index, edge_weight))\n",
        "        x = F.relu(self.conv3(x, edge_index, edge_weight))\n",
        "        x = F.relu(self.conv4(x, edge_index, edge_weight))\n",
        "        x = F.relu(self.conv5(x, edge_index, edge_weight))\n",
        "        x = global_add_pool(x, batch)\n",
        "        x = F.relu(self.fc1(x))\n",
        "        x = F.dropout(x, p=0.5, training=self.training)\n",
        "        x = self.fc2(x)\n",
        "        return F.log_softmax(x, dim=-1)\n"
      ],
      "execution_count": 7,
      "outputs": []
    },
    {
      "cell_type": "markdown",
      "metadata": {
        "id": "L3WOZ40OCKO5"
      },
      "source": [
        "### Define train and test functions"
      ]
    },
    {
      "cell_type": "code",
      "metadata": {
        "id": "ExNsODp3rKjN"
      },
      "source": [
        "def train(epoch):\n",
        "    model.train()\n",
        "\n",
        "    if epoch == 51:\n",
        "        for param_group in optimizer.param_groups:\n",
        "            param_group['lr'] = 0.5 * param_group['lr']\n",
        "\n",
        "    loss_all = 0\n",
        "    for data in train_loader:\n",
        "        data = data.to(device)\n",
        "        optimizer.zero_grad()\n",
        "        output = model(data.x, data.edge_index, data.batch)\n",
        "        loss = F.nll_loss(output, data.y)\n",
        "        loss.backward()\n",
        "        loss_all += loss.item() * data.num_graphs\n",
        "        optimizer.step()\n",
        "    return loss_all / len(train_dataset)\n",
        "\n",
        "\n",
        "def test(loader):\n",
        "    model.eval()\n",
        "\n",
        "    correct = 0\n",
        "    for data in loader:\n",
        "        data = data.to(device)\n",
        "        output = model(data.x, data.edge_index, data.batch)\n",
        "        pred = output.max(dim=1)[1]\n",
        "        correct += pred.eq(data.y).sum().item()\n",
        "    return correct / len(loader.dataset)"
      ],
      "execution_count": 8,
      "outputs": []
    },
    {
      "cell_type": "markdown",
      "metadata": {
        "id": "rsv9CQ6hCNMI"
      },
      "source": [
        "### Train the model for 100 epochs\n",
        "\n",
        "The accuracy should be around 80% in the end"
      ]
    },
    {
      "cell_type": "code",
      "metadata": {
        "id": "4imSoTlMrQdN",
        "colab": {
          "base_uri": "https://localhost:8080/"
        },
        "outputId": "dcf3e71a-5fcc-46e4-b1ca-01a4a9a314e8"
      },
      "source": [
        "device = torch.device('cuda' if torch.cuda.is_available() else 'cpu')\n",
        "model = Net(dim=32).to(device)\n",
        "optimizer = torch.optim.Adam(model.parameters(), lr=0.001)\n",
        "\n",
        "for epoch in range(1, 101):\n",
        "    train_loss = train(epoch)\n",
        "    train_acc = test(train_loader)\n",
        "    test_acc = test(test_loader)\n",
        "    print('Epoch: {:03d}, Train Loss: {:.7f}, '\n",
        "          'Train Acc: {:.7f}, Test Acc: {:.7f}'.format(epoch, train_loss,\n",
        "                                                       train_acc, test_acc), end=\"\\r\")\n"
      ],
      "execution_count": 9,
      "outputs": [
        {
          "output_type": "stream",
          "text": [
            ""
          ],
          "name": "stdout"
        }
      ]
    },
    {
      "cell_type": "markdown",
      "metadata": {
        "id": "PzX9xwFxCTff"
      },
      "source": [
        "## Explaining the predictions\n",
        "\n",
        "Now we look at two popular attribution methods. First, we calculate the gradient of the output with respect to the edge weights $w_{e_i}$. Edge weights are initially one for all edges.\n",
        "For the saliency method, we use the absolute value of the gradient as the attribution value for each edge:\n",
        "\n",
        "$$\n",
        "Attribution_{e_i} = |\\frac{\\partial F(x)}{\\partial w_{e_i}}|\n",
        "$$\n",
        "\n",
        "Where $x$ is the input and $F(x)$ is the output of the GNN model on input $x$.\n",
        "\n",
        "For Integrated Gradients method, we interpolate between the current input and a baseline input where the weight of all edges is zero and accumulate the gradient values for each edge:\n",
        "\n",
        "$$\n",
        "Attribution_{e_i} = \\int_{\\alpha =0}^1 \\frac{\\partial F(x_{\\alpha)}}{\\partial w_{e_i}} d\\alpha\n",
        "$$\n",
        "\n",
        "Where $x_{\\alpha}$ is the same as the original input graph but the weight of all edges is set to $\\alpha$. Integrated Gradients complete formulation is more complicated but since our initial edge weights are equal to one and the baseline is zero, it can be simplified to the formulation above. You can read more about this method [here](https://arxiv.org/abs/1703.01365). Of course, this can not be calculated directly and is approximated by a discrete sum.\n",
        "\n",
        "We use the [captum](https://captum.ai/) library for calculating the attribution values. We define the `model_forward` function which calculates the `batch` argument assuming that we are only explaining a single graph at a time.\n",
        "\n"
      ]
    },
    {
      "cell_type": "code",
      "metadata": {
        "id": "Wz6B1NgorzAX"
      },
      "source": [
        "from captum.attr import Saliency, IntegratedGradients\n",
        "\n",
        "def model_forward(edge_mask, data):\n",
        "    batch = torch.zeros(data.x.shape[0], dtype=int).to(device)\n",
        "    out = model(data.x, data.edge_index, batch, edge_mask)\n",
        "    return out\n",
        "\n",
        "\n",
        "def explain(method, data, target=0):\n",
        "    input_mask = torch.ones(data.edge_index.shape[1]).requires_grad_(True).to(device)\n",
        "    if method == 'ig':\n",
        "        ig = IntegratedGradients(model_forward)\n",
        "        mask = ig.attribute(input_mask, target=target,\n",
        "                            additional_forward_args=(data,),\n",
        "                            internal_batch_size=data.edge_index.shape[1])\n",
        "    elif method == 'saliency':\n",
        "        saliency = Saliency(model_forward)\n",
        "        mask = saliency.attribute(input_mask, target=target,\n",
        "                                  additional_forward_args=(data,))\n",
        "    else:\n",
        "        raise Exception('Unknown explanation method')\n",
        "\n",
        "    edge_mask = np.abs(mask.cpu().detach().numpy())\n",
        "    if edge_mask.max() > 0:  # avoid division by zero\n",
        "        edge_mask = edge_mask / edge_mask.max()\n",
        "    return edge_mask"
      ],
      "execution_count": 10,
      "outputs": []
    },
    {
      "cell_type": "markdown",
      "metadata": {
        "id": "0FPGLRtSFacR"
      },
      "source": [
        "Finally we take a random sample from the test dataset and run the explanation methods. For a simpler visualization, we make the graph undirected and merge the explanations of each edge in both directions.\n",
        "\n",
        "It is known that NO2 substructure makes the molecules mutagenic in many cases and you can verify this by the model explanations.\n",
        "\n",
        "Mutagenic molecules have label 0 in this dataset and we only sample from those molecules but you can change the code and see the explanations for the other class as well.\n",
        "\n",
        "In this visualization, edge colors and thickness represent the importance. You can also see the numeric value by passing `draw_edge_labels` to `draw_molecule` function.\n",
        "\n",
        "As you can see Integrated Gradients tend to create more accurate explanations."
      ]
    },
    {
      "cell_type": "code",
      "metadata": {
        "id": "Z1mJVbKorh5y",
        "colab": {
          "base_uri": "https://localhost:8080/",
          "height": 709
        },
        "outputId": "0f1da367-b629-4e34-8254-e2762d67456e"
      },
      "source": [
        "import random\n",
        "from collections import defaultdict\n",
        "\n",
        "def aggregate_edge_directions(edge_mask, data):\n",
        "    edge_mask_dict = defaultdict(float)\n",
        "    for val, u, v in list(zip(edge_mask, *data.edge_index)):\n",
        "        u, v = u.item(), v.item()\n",
        "        if u > v:\n",
        "            u, v = v, u\n",
        "        edge_mask_dict[(u, v)] += val\n",
        "    return edge_mask_dict\n",
        "    \n",
        "\n",
        "data = random.choice([t for t in test_dataset if not t.y.item()]).to(device)\n",
        "mol = to_molecule(data)\n",
        "\n",
        "for title, method in [('Integrated Gradients', 'ig'), ('Saliency', 'saliency')]:\n",
        "    edge_mask = explain(method, data, target=0)\n",
        "    edge_mask_dict = aggregate_edge_directions(edge_mask, data)\n",
        "    plt.figure(figsize=(10, 5))\n",
        "    plt.title(title)\n",
        "    draw_molecule(mol, edge_mask_dict)"
      ],
      "execution_count": 12,
      "outputs": [
        {
          "output_type": "display_data",
          "data": {
            "image/png": "[encoded data removed]",
            "text/plain": [
              "<Figure size 720x360 with 1 Axes>"
            ]
          },
          "metadata": {
            "tags": []
          }
        },
        {
          "output_type": "stream",
          "text": [
            "/usr/local/lib/python3.7/dist-packages/captum/_utils/gradient.py:58: UserWarning: The .grad attribute of a Tensor that is not a leaf Tensor is being accessed. Its .grad attribute won't be populated during autograd.backward(). If you indeed want the gradient for a non-leaf Tensor, use .retain_grad() on the non-leaf Tensor. If you access the non-leaf Tensor by mistake, make sure you access the leaf Tensor instead. See github.com/pytorch/pytorch/pull/30531 for more informations.\n",
            "  if input.grad is not None:\n",
            "/usr/local/lib/python3.7/dist-packages/captum/_utils/gradient.py:87: UserWarning: The .grad attribute of a Tensor that is not a leaf Tensor is being accessed. Its .grad attribute won't be populated during autograd.backward(). If you indeed want the gradient for a non-leaf Tensor, use .retain_grad() on the non-leaf Tensor. If you access the non-leaf Tensor by mistake, make sure you access the leaf Tensor instead. See github.com/pytorch/pytorch/pull/30531 for more informations.\n",
            "  if input.grad is not None:\n"
          ],
          "name": "stderr"
        },
        {
          "output_type": "display_data",
          "data": {
            "image/png": "[encoded data removed]",
            "text/plain": [
              "<Figure size 720x360 with 1 Axes>"
            ]
          },
          "metadata": {
            "tags": []
          }
        }
      ]
    },
    {
      "cell_type": "code",
      "metadata": {
        "id": "M3QEpIirLkfR"
      },
      "source": [
        "from math import sqrt\n",
        "from copy import deepcopy\n",
        "\n",
        "import torch\n",
        "import networkx as nx\n",
        "from torch_geometric.nn import MessagePassing\n",
        "from torch_geometric.data import Data\n",
        "from torch_geometric.utils import to_networkx\n",
        "EPS = 1e-15\n",
        "\n",
        "\n",
        "class GNNExplainer(torch.nn.Module):\n",
        "    \"\"\"The GNN-Explainer model from the `\"GNNExplainer: Generating\n",
        "    Explanations for Graph Neural Networks\"\n",
        "    <https://arxiv.org/abs/1903.03894>`_ paper for identifying compact subgraph\n",
        "    structures and small subsets node features that play a crucial role in a\n",
        "    GNN’s graph-prediction.\n",
        "    \"\"\"\n",
        "\n",
        "    coeffs = {\n",
        "        'edge_size': 0.001,\n",
        "        'node_feat_size': 1.0,\n",
        "        'edge_ent': 1.0,\n",
        "        'node_feat_ent': 0.1,\n",
        "    }\n",
        "\n",
        "    def __init__(self, model, epochs=100, lr=0.01, log=True):\n",
        "        \"\"\" Initialize GNNExplainer Class.\n",
        "\n",
        "        Args:\n",
        "            model (torch.nn.Module): The GNN module to explain.\n",
        "            epochs (int, optional): The number of epochs to train.\n",
        "                (default: :obj:`100`)\n",
        "            lr (float, optional): The learning rate to apply.\n",
        "                (default: :obj:`0.01`)\n",
        "        \"\"\"\n",
        "        super(GNNExplainer, self).__init__()\n",
        "        self.model = model\n",
        "        self.epochs = epochs\n",
        "        self.lr = lr\n",
        "        self.log = log\n",
        "\n",
        "    def __set_masks__(self, x, edge_index):\n",
        "        \"\"\" Initialize the masks for edges and node features.\n",
        "\n",
        "        For each module contained in the GNN model, the attribute\n",
        "        __edge_mask__ is set to the initialized edge mask, so that\n",
        "        this is automatically taken into account during message passing.\n",
        "\n",
        "        Args:\n",
        "            x (torch tensor): node features\n",
        "            edge_index (torch tensor): pytorch geometric edge index\n",
        "        \"\"\"\n",
        "        (N, F), E = x.size(), edge_index.size(1)\n",
        "\n",
        "        # Node feature mask.\n",
        "        self.node_feat_mask = torch.nn.Parameter(torch.randn(F) * 0.1)\n",
        "\n",
        "        # Edge mask.\n",
        "        std = torch.nn.init.calculate_gain('relu') * sqrt(2.0 / (2 * N))\n",
        "        edge_mask = torch.randn(E) * std\n",
        "        self.edge_mask = torch.nn.Parameter(edge_mask)\n",
        "        # TODO: at some point we should enforce the mask to be symmetric?\n",
        "        # Maybe do this iteratively in explain graph? --> but then should\n",
        "        # maybe reset the module.__edge_mask__ as below\n",
        "\n",
        "        for module in self.model.modules():\n",
        "            if isinstance(module, MessagePassing):\n",
        "                module.__explain__ = True\n",
        "                module.__edge_mask__ = self.edge_mask\n",
        "\n",
        "    def __clear_masks__(self):\n",
        "        \"\"\"Deletes the node and edge masks.\n",
        "        \"\"\"\n",
        "        for module in self.model.modules():\n",
        "            if isinstance(module, MessagePassing):\n",
        "                module.__explain__ = False\n",
        "                module.__edge_mask__ = None\n",
        "        self.node_feat_masks = None\n",
        "        self.edge_mask = None\n",
        "\n",
        "    def __graph_loss__(self, pred_proba, pred_label):\n",
        "        \"\"\"Computes the explainer loss function for explanation\n",
        "        of graph classificaiton tasks.\n",
        "\n",
        "        Args:\n",
        "            pred_proba: predicted probabilities for the different\n",
        "                classes from the model on the masked input\n",
        "            pred_label: model prediction on the entire original\n",
        "                graph (i.e. not masked in features or edges)\n",
        "        Returns:\n",
        "            loss (torch.tensor): explainer loss function, which\n",
        "                is a weight sum of different terms.\n",
        "\n",
        "        \"\"\"\n",
        "        # Prediction loss.\n",
        "        # TODO: 0 removes the batch dimension? So this works only\n",
        "        # for batchsize = 1 currently?\n",
        "        loss = -torch.log(pred_proba[0, pred_label])\n",
        "\n",
        "        # Edge mask size loss.\n",
        "        m = self.edge_mask.sigmoid()\n",
        "        loss = loss + self.coeffs['edge_size'] * m.sum()\n",
        "\n",
        "        # Edge mask entropy loss.\n",
        "        ent = -m * torch.log(m + EPS) - (1 - m) * torch.log(1 - m + EPS)\n",
        "        loss = loss + self.coeffs['edge_ent'] * ent.mean()\n",
        "\n",
        "        # Feature mask size loss.\n",
        "        m = self.node_feat_mask.sigmoid()\n",
        "        loss = loss + self.coeffs['node_feat_size'] * m.mean()\n",
        "\n",
        "        return loss\n",
        "\n",
        "    def explain_graph(self, data, **kwargs):\n",
        "        \"\"\"Learns and returns a node feature mask and an edge mask that play a\n",
        "        crucial role to explain the prediction made by the GNN for graph\n",
        "        classification.\n",
        "\n",
        "        Args:\n",
        "            x (Tensor): The node feature matrix.\n",
        "            edge_index (LongTensor): The edge indices.\n",
        "            batch_index (LongTensor): The batch index.\n",
        "\n",
        "            **kwargs (optional): Additional arguments passed to the GNN module.\n",
        "\n",
        "        Returns:\n",
        "            (torch.tensor, torch.tensor): the node feature mask and edge mask\n",
        "        \"\"\"\n",
        "\n",
        "        self.model.eval()\n",
        "        self.__clear_masks__()\n",
        "\n",
        "        # Get the initial prediction.\n",
        "        with torch.no_grad():\n",
        "            model_pred = self.model(data.x ,data.edge_index, data.batch, **kwargs)\n",
        "            probs_Y = torch.softmax(model_pred, 1)\n",
        "            pred_label = probs_Y.argmax(dim=-1)\n",
        "\n",
        "        self.__set_masks__(data.x, data.edge_index)\n",
        "        self.to(x.device)\n",
        "\n",
        "        optimizer = torch.optim.Adam([self.node_feat_mask, self.edge_mask],\n",
        "                                     lr=self.lr)\n",
        "\n",
        "        epoch_losses = []\n",
        "\n",
        "        for epoch in range(1, self.epochs + 1):\n",
        "            epoch_loss = 0\n",
        "            optimizer.zero_grad()\n",
        "\n",
        "            # Mask node features\n",
        "            h = x * self.node_feat_mask.view(1, -1).sigmoid()\n",
        "\n",
        "            model_pred = self.model(data.x ,data.edge_index, data.batch, **kwargs)\n",
        "            pred_proba = torch.softmax(model_pred, 1)\n",
        "            loss = self.__graph_loss__(pred_proba, pred_label)\n",
        "            loss.backward()\n",
        "            # print(\"egde_grad:\",self.edge_mask.grad)\n",
        "\n",
        "            optimizer.step()\n",
        "            epoch_loss += loss.detach().item()\n",
        "            # print('Epoch {}, loss {:.4f}'.format(epoch, epoch_loss))\n",
        "            epoch_losses.append(epoch_loss)\n",
        "\n",
        "        node_feat_mask = self.node_feat_mask.detach().sigmoid()\n",
        "        edge_mask = self.edge_mask.detach().sigmoid()\n",
        "\n",
        "        self.__clear_masks__()\n",
        "\n",
        "        return node_feat_mask, edge_mask\n",
        "\n",
        "    def visualize_subgraph(self, data, edge_mask, y=None,\n",
        "                           threshold=0.5):\n",
        "        \"\"\"Visualizes the explanation subgraph.\n",
        "        Args:\n",
        "            edge_index (LongTensor): The edge indices.\n",
        "            edge_mask (Tensor): The edge mask.\n",
        "            threshold (float): Sets a threshold for visualizing\n",
        "                important edges.\n",
        "\n",
        "        Returns:\n",
        "            (G_original, G_new): two networkx graphs, the original\n",
        "                one and its subgraph explanation.\n",
        "        \"\"\"\n",
        "\n",
        "        assert edge_mask.size(0) == data.edge_index.size(1)\n",
        "\n",
        "        # Filter mask based on threshold\n",
        "        print('Edge Threshold:', threshold)\n",
        "        edge_mask = (edge_mask >= threshold).to(torch.float)\n",
        "\n",
        "        subset = set()\n",
        "        for index, mask in enumerate(edge_mask):\n",
        "            node_a = edge_index[0, index]\n",
        "            node_b = edge_index[1, index]\n",
        "            if node_a not in subset:\n",
        "                subset.add(node_a.cpu().item())\n",
        "            if node_b not in subset:\n",
        "                subset.add(node_b.cpu().item())\n",
        "\n",
        "        edge_index_new = [[], []]\n",
        "        for index, edge in enumerate(edge_mask):\n",
        "            if edge:\n",
        "                edge_index_new[0].append(data.edge_index[0, index].cpu())\n",
        "                edge_index_new[1].append(data.edge_index[1, index].cpu())\n",
        "\n",
        "        # data = Data(edge_index=edge_index.cpu(), att=edge_mask, y=y,\n",
        "        #             num_nodes=y.size(0)).to('cpu')\n",
        "        # data_new = Data(edge_index=torch.tensor(edge_index_new).cpu().long(), att=edge_mask, y=y,\n",
        "        #                 num_nodes=len(subset)).to('cpu')\n",
        "\n",
        "        data_new = deepcopy(data)\n",
        "        data_new.edge_index = torch.tensor(edge_index_new)\n",
        "\n",
        "        mol = to_molecule(data_new)\n",
        "\n",
        "        draw_molecule(mol)\n",
        "\n",
        "        print(\"Removed {} edges -- K = {} remain.\".format(data.num_edges -\n",
        "                                                          data_new.num_edges, data_new.num_edges))\n",
        "        print(\"Removed {} nodes -- K = {} remain.\".format(data.num_nodes -\n",
        "                                                          data_new.num_nodes, data_new.num_nodes))\n",
        "\n",
        "        return mol\n"
      ],
      "execution_count": 13,
      "outputs": []
    },
    {
      "cell_type": "code",
      "metadata": {
        "id": "G7OFGVUCOwt1",
        "colab": {
          "base_uri": "https://localhost:8080/"
        },
        "outputId": "0e144a10-df47-4c3c-fadf-8b863e6abe47"
      },
      "source": [
        "loader = DataLoader(dataset, batch_size=1, shuffle=True)\n",
        "data = next(iter(loader)).to(device)\n",
        "\n",
        "x = data.x\n",
        "edge_index = data.edge_index\n",
        "print(f'Number of nodes: {x.shape[0]}\\nNumber of edges: {edge_index.shape[1]}')"
      ],
      "execution_count": 14,
      "outputs": [
        {
          "output_type": "stream",
          "text": [
            "Number of nodes: 33\n",
            "Number of edges: 68\n"
          ],
          "name": "stdout"
        }
      ]
    },
    {
      "cell_type": "code",
      "metadata": {
        "id": "NASvqC44OUJ9"
      },
      "source": [
        "# Initialize explainer\n",
        "explainer = GNNExplainer(model, epochs=200).to(device)\n",
        "# Train explainer\n",
        "feat_mask, edge_mask = explainer.explain_graph(data)"
      ],
      "execution_count": 15,
      "outputs": []
    },
    {
      "cell_type": "code",
      "metadata": {
        "id": "ODzFKSTmOyll",
        "colab": {
          "base_uri": "https://localhost:8080/",
          "height": 370
        },
        "outputId": "2f2c9981-69ef-4fa8-b228-f180ceed6b58"
      },
      "source": [
        "# Visualize explanation subgraph\n",
        "mol = explainer.visualize_subgraph(data, edge_mask, y=data.y, threshold=0.75)\n"
      ],
      "execution_count": 16,
      "outputs": [
        {
          "output_type": "stream",
          "text": [
            "Edge Threshold: 0.75\n"
          ],
          "name": "stdout"
        },
        {
          "output_type": "display_data",
          "data": {
            "image/png": "[encoded data removed]",
            "text/plain": [
              "<Figure size 432x288 with 1 Axes>"
            ]
          },
          "metadata": {
            "tags": []
          }
        },
        {
          "output_type": "stream",
          "text": [
            "Removed 44 edges -- K = 24 remain.\n",
            "Removed 0 nodes -- K = 33 remain.\n"
          ],
          "name": "stdout"
        }
      ]
    },
    {
      "cell_type": "code",
      "metadata": {
        "id": "2vSiuCkXPX11",
        "colab": {
          "base_uri": "https://localhost:8080/",
          "height": 319
        },
        "outputId": "b51a4ab5-1916-4571-cc58-09e55d016cda"
      },
      "source": [
        "mol0 = to_molecule(data)\n",
        "\n",
        "draw_molecule(mol0)"
      ],
      "execution_count": 17,
      "outputs": [
        {
          "output_type": "display_data",
          "data": {
            "image/png": "[encoded data removed]",
            "text/plain": [
              "<Figure size 432x288 with 1 Axes>"
            ]
          },
          "metadata": {
            "tags": []
          }
        }
      ]
    },
    {
      "cell_type": "code",
      "metadata": {
        "id": "RGrlUzLddYSx"
      },
      "source": [
        ""
      ],
      "execution_count": null,
      "outputs": []
    }
  ]
}