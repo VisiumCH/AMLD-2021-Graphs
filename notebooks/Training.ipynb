{
 "cells": [
  {
   "cell_type": "code",
   "execution_count": 13,
   "metadata": {},
   "outputs": [],
   "source": [
    "from ogb.graphproppred import PygGraphPropPredDataset\n",
    "from torch_geometric.data import DataLoader\n",
    "from collections import namedtuple\n",
    "from tensorboardX import SummaryWriter\n",
    "import torch\n",
    "import time\n",
    "from torch.autograd import Variable\n",
    "from torch_geometric.datasets import TUDataset\n",
    "import pytorch_lightning as pl\n",
    "import torch_geometric.transforms as T\n",
    "from sklearn.metrics import confusion_matrix\n",
    "import seaborn as sns\n",
    "import numpy as np\n",
    "import os\n",
    "from pytorch_lightning.loggers import MLFlowLogger\n",
    "import pytorch_lightning as pl\n",
    "from pytorch_lightning.callbacks import ModelCheckpoint\n",
    "import torch\n",
    "from src.models import GraphLevelGNN"
   ]
  },
  {
   "cell_type": "code",
   "execution_count": 2,
   "metadata": {},
   "outputs": [],
   "source": [
    "# For OGBG-MOLHIV\n",
    "#dataset = PygGraphPropPredDataset(name = \"ogbg-molhiv\", root = '/io/ogbg')\n",
    "# For reddit-binary\n",
    "dataset = TUDataset(root='/io/reddit', name='REDDIT-BINARY', transform=T.Constant(1))"
   ]
  },
  {
   "cell_type": "markdown",
   "metadata": {},
   "source": [
    "## Some Pytorch-geometric examples"
   ]
  },
  {
   "cell_type": "code",
   "execution_count": 3,
   "metadata": {},
   "outputs": [
    {
     "name": "stdout",
     "output_type": "stream",
     "text": [
      "\n",
      "Dataset: REDDIT-BINARY(2000):\n",
      "====================\n",
      "Number of graphs: 2000\n",
      "Number of features: 1\n",
      "Number of classes: 2\n",
      "\n",
      "Data(edge_index=[2, 480], x=[218, 1], y=[1])\n",
      "=============================================================\n",
      "Number of nodes: 218\n",
      "Number of edges: 480\n",
      "Average node degree: 2.20\n",
      "Contains isolated nodes: False\n",
      "Contains self-loops: False\n",
      "Is undirected: True\n"
     ]
    }
   ],
   "source": [
    "print()\n",
    "print(f'Dataset: {dataset}:')\n",
    "print('====================')\n",
    "print(f'Number of graphs: {len(dataset)}')\n",
    "print(f'Number of features: {dataset.num_features}')\n",
    "print(f'Number of classes: {dataset.num_classes}')\n",
    "\n",
    "data = dataset[0]  # Get the first graph object.\n",
    "\n",
    "print()\n",
    "print(data)\n",
    "print('=============================================================')\n",
    "\n",
    "# Gather some statistics about the first graph.\n",
    "print(f'Number of nodes: {data.num_nodes}')\n",
    "print(f'Number of edges: {data.num_edges}')\n",
    "print(f'Average node degree: {data.num_edges / data.num_nodes:.2f}')\n",
    "print(f'Contains isolated nodes: {data.contains_isolated_nodes()}')\n",
    "print(f'Contains self-loops: {data.contains_self_loops()}')\n",
    "print(f'Is undirected: {data.is_undirected()}')"
   ]
  },
  {
   "cell_type": "code",
   "execution_count": 4,
   "metadata": {},
   "outputs": [
    {
     "name": "stdout",
     "output_type": "stream",
     "text": [
      "Number of training graphs: 1500\n",
      "Number of test graphs: 500\n"
     ]
    }
   ],
   "source": [
    "torch.manual_seed(12345)\n",
    "dataset = dataset.shuffle()\n",
    "\n",
    "train_dataset = dataset[:1500]\n",
    "test_dataset = dataset[1500:]\n",
    "\n",
    "print(f'Number of training graphs: {len(train_dataset)}')\n",
    "print(f'Number of test graphs: {len(test_dataset)}')"
   ]
  },
  {
   "cell_type": "code",
   "execution_count": 5,
   "metadata": {
    "scrolled": true
   },
   "outputs": [
    {
     "name": "stdout",
     "output_type": "stream",
     "text": [
      "Step 1:\n",
      "=======\n",
      "Number of graphs in the current batch: 64\n",
      "Batch(batch=[26406], edge_index=[2, 61042], x=[26406, 1], y=[64])\n",
      "\n",
      "Step 2:\n",
      "=======\n",
      "Number of graphs in the current batch: 64\n",
      "Batch(batch=[30471], edge_index=[2, 69260], x=[30471, 1], y=[64])\n",
      "\n",
      "Step 3:\n",
      "=======\n",
      "Number of graphs in the current batch: 64\n",
      "Batch(batch=[27038], edge_index=[2, 62574], x=[27038, 1], y=[64])\n",
      "\n",
      "Step 4:\n",
      "=======\n",
      "Number of graphs in the current batch: 64\n",
      "Batch(batch=[21653], edge_index=[2, 50846], x=[21653, 1], y=[64])\n",
      "\n",
      "Step 5:\n",
      "=======\n",
      "Number of graphs in the current batch: 64\n",
      "Batch(batch=[34406], edge_index=[2, 79612], x=[34406, 1], y=[64])\n",
      "\n",
      "Step 6:\n",
      "=======\n",
      "Number of graphs in the current batch: 64\n",
      "Batch(batch=[18666], edge_index=[2, 43914], x=[18666, 1], y=[64])\n",
      "\n",
      "Step 7:\n",
      "=======\n",
      "Number of graphs in the current batch: 64\n",
      "Batch(batch=[37943], edge_index=[2, 86086], x=[37943, 1], y=[64])\n",
      "\n",
      "Step 8:\n",
      "=======\n",
      "Number of graphs in the current batch: 64\n",
      "Batch(batch=[26932], edge_index=[2, 62426], x=[26932, 1], y=[64])\n",
      "\n",
      "Step 9:\n",
      "=======\n",
      "Number of graphs in the current batch: 64\n",
      "Batch(batch=[35099], edge_index=[2, 81918], x=[35099, 1], y=[64])\n",
      "\n",
      "Step 10:\n",
      "=======\n",
      "Number of graphs in the current batch: 64\n",
      "Batch(batch=[26243], edge_index=[2, 60380], x=[26243, 1], y=[64])\n",
      "\n",
      "Step 11:\n",
      "=======\n",
      "Number of graphs in the current batch: 64\n",
      "Batch(batch=[22416], edge_index=[2, 51358], x=[22416, 1], y=[64])\n",
      "\n",
      "Step 12:\n",
      "=======\n",
      "Number of graphs in the current batch: 64\n",
      "Batch(batch=[23723], edge_index=[2, 55768], x=[23723, 1], y=[64])\n",
      "\n",
      "Step 13:\n",
      "=======\n",
      "Number of graphs in the current batch: 64\n",
      "Batch(batch=[24985], edge_index=[2, 58006], x=[24985, 1], y=[64])\n",
      "\n",
      "Step 14:\n",
      "=======\n",
      "Number of graphs in the current batch: 64\n",
      "Batch(batch=[29693], edge_index=[2, 68570], x=[29693, 1], y=[64])\n",
      "\n",
      "Step 15:\n",
      "=======\n",
      "Number of graphs in the current batch: 64\n",
      "Batch(batch=[19696], edge_index=[2, 45096], x=[19696, 1], y=[64])\n",
      "\n",
      "Step 16:\n",
      "=======\n",
      "Number of graphs in the current batch: 64\n",
      "Batch(batch=[28804], edge_index=[2, 66230], x=[28804, 1], y=[64])\n",
      "\n",
      "Step 17:\n",
      "=======\n",
      "Number of graphs in the current batch: 64\n",
      "Batch(batch=[26194], edge_index=[2, 60754], x=[26194, 1], y=[64])\n",
      "\n",
      "Step 18:\n",
      "=======\n",
      "Number of graphs in the current batch: 64\n",
      "Batch(batch=[26127], edge_index=[2, 60170], x=[26127, 1], y=[64])\n",
      "\n",
      "Step 19:\n",
      "=======\n",
      "Number of graphs in the current batch: 64\n",
      "Batch(batch=[25604], edge_index=[2, 61070], x=[25604, 1], y=[64])\n",
      "\n",
      "Step 20:\n",
      "=======\n",
      "Number of graphs in the current batch: 64\n",
      "Batch(batch=[32260], edge_index=[2, 73608], x=[32260, 1], y=[64])\n",
      "\n",
      "Step 21:\n",
      "=======\n",
      "Number of graphs in the current batch: 64\n",
      "Batch(batch=[26214], edge_index=[2, 61132], x=[26214, 1], y=[64])\n",
      "\n",
      "Step 22:\n",
      "=======\n",
      "Number of graphs in the current batch: 64\n",
      "Batch(batch=[28722], edge_index=[2, 65500], x=[28722, 1], y=[64])\n",
      "\n",
      "Step 23:\n",
      "=======\n",
      "Number of graphs in the current batch: 64\n",
      "Batch(batch=[23716], edge_index=[2, 54894], x=[23716, 1], y=[64])\n",
      "\n",
      "Step 24:\n",
      "=======\n",
      "Number of graphs in the current batch: 28\n",
      "Batch(batch=[16090], edge_index=[2, 37118], x=[16090, 1], y=[28])\n",
      "\n"
     ]
    }
   ],
   "source": [
    "from torch_geometric.data import DataLoader\n",
    "\n",
    "train_loader = DataLoader(train_dataset, batch_size=64, shuffle=True)\n",
    "test_loader = DataLoader(test_dataset, batch_size=64, shuffle=False)\n",
    "\n",
    "for step, data in enumerate(train_loader):\n",
    "    print(f'Step {step + 1}:')\n",
    "    print('=======')\n",
    "    print(f'Number of graphs in the current batch: {data.num_graphs}')\n",
    "    print(data)\n",
    "    print()"
   ]
  },
  {
   "cell_type": "markdown",
   "metadata": {},
   "source": [
    "## Train GNN on REDDIT-BINATY\n",
    "\n",
    "Progress can be visualized on ml-flow by running ``` mlflow ui --backend-store-uri ml-runs ``` on the command line."
   ]
  },
  {
   "cell_type": "code",
   "execution_count": null,
   "metadata": {},
   "outputs": [],
   "source": [
    "dataset = TUDataset(root='/io/reddit', name='REDDIT-BINARY', transform=T.Constant(1))\n",
    "\n",
    "torch.manual_seed(42)\n",
    "dataset = dataset.shuffle()\n",
    "train_dataset = dataset[:1500]\n",
    "val_dataset = dataset[1500:1750]\n",
    "test_dataset = dataset[1750:]\n",
    "\n",
    "train_loader = DataLoader(train_dataset, batch_size=64, shuffle=True)\n",
    "val_loader = DataLoader(val_dataset, batch_size=64, shuffle=False)\n",
    "test_loader = DataLoader(test_dataset, batch_size=64, shuffle=False)\n",
    "\n",
    "pl.seed_everything(42)\n",
    "CHECKPOINT_PATH = '/io/ckpt'\n",
    "model_name = \"GCN\"\n",
    "device = 'cpu'\n",
    "\n",
    "# Create a PyTorch Lightning trainer with the generation callback\n",
    "root_dir = os.path.join(CHECKPOINT_PATH)\n",
    "os.makedirs(root_dir, exist_ok=True)\n",
    "mlf_logger = MLFlowLogger(experiment_name=\"default\", tracking_uri=\"file:./ml-runs\")\n",
    "\n",
    "trainer = pl.Trainer(default_root_dir=root_dir,\n",
    "                     checkpoint_callback=ModelCheckpoint(save_weights_only=True, mode=\"min\", monitor=\"val_loss\"),\n",
    "                     gpus=1 if str(device).startswith(\"cuda\") else 0,\n",
    "                     max_epochs=200,\n",
    "                     logger=mlf_logger)\n",
    "\n",
    "pl.seed_everything(42)\n",
    "model = GraphLevelGNN(hidden_channels=64, num_node_features=1, num_classes=2)\n",
    "trainer.fit(model, train_loader, val_loader)\n",
    "\n",
    "MODEL_PATH = os.path.join(CHECKPOINT_PATH, \"pretrained_model.ckpt\")\n",
    "trainer.save_checkpoint(MODEL_PATH)\n",
    "mlf_logger.experiment.log_artifact(mlf_logger.run_id, MODEL_PATH)\n",
    "\n",
    "# Test best model on validation and test set\n",
    "model = GraphLevelGNN.load_from_checkpoint(trainer.checkpoint_callback.best_model_path)\n",
    "test_result = trainer.test(model, test_dataloaders=test_loader, verbose=False)\n",
    "print(test_result)"
   ]
  },
  {
   "cell_type": "markdown",
   "metadata": {},
   "source": [
    "## Visualize Confusion Matrix"
   ]
  },
  {
   "cell_type": "code",
   "execution_count": 16,
   "metadata": {},
   "outputs": [],
   "source": [
    "model = torch.load('/io/pretrained_reddit')\n",
    "y_true = []\n",
    "y_pred = []\n",
    "for data in test_loader:\n",
    "    y_true.extend(data.y.squeeze())\n",
    "    y_pred.extend(model(data.x, data.edge_index, data.batch).argmax(dim=1))\n",
    "y_true = np.array(y_true)\n",
    "y_pred = np.array(y_pred)\n",
    "cm = confusion_matrix(y_true, y_pred)\n"
   ]
  },
  {
   "cell_type": "code",
   "execution_count": 21,
   "metadata": {},
   "outputs": [
    {
     "data": {
      "text/plain": [
       "<matplotlib.axes._subplots.AxesSubplot at 0x7fd59c3ed450>"
      ]
     },
     "execution_count": 21,
     "metadata": {},
     "output_type": "execute_result"
    },
    {
     "data": {
      "image/png": "[encoded data removed]",
      "text/plain": [
       "<Figure size 432x288 with 2 Axes>"
      ]
     },
     "metadata": {
      "needs_background": "light"
     },
     "output_type": "display_data"
    }
   ],
   "source": [
    "sns.heatmap(cm, annot=True, annot_kws={\"size\": 16}, cmap='Blues', fmt='g')"
   ]
  }
 ],
 "metadata": {
  "kernelspec": {
   "display_name": "Python 3",
   "language": "python",
   "name": "python3"
  },
  "language_info": {
   "codemirror_mode": {
    "name": "ipython",
    "version": 3
   },
   "file_extension": ".py",
   "mimetype": "text/x-python",
   "name": "python",
   "nbconvert_exporter": "python",
   "pygments_lexer": "ipython3",
   "version": "3.7.9"
  }
 },
 "nbformat": 4,
 "nbformat_minor": 2
}
