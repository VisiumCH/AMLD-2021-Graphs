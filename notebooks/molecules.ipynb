{
 "metadata": {
  "language_info": {
   "codemirror_mode": {
    "name": "ipython",
    "version": 3
   },
   "file_extension": ".py",
   "mimetype": "text/x-python",
   "name": "python",
   "nbconvert_exporter": "python",
   "pygments_lexer": "ipython3",
   "version": "3.7.9-final"
  },
  "orig_nbformat": 2,
  "kernelspec": {
   "name": "python3",
   "display_name": "Python 3.7.9 64-bit ('env')",
   "metadata": {
    "interpreter": {
     "hash": "3f9a800dfd4937aaf5915b9b3651c6a325ec28e4e6583e144cef767ca01f35a9"
    }
   }
  }
 },
 "nbformat": 4,
 "nbformat_minor": 2,
 "cells": [
  {
   "cell_type": "code",
   "execution_count": 134,
   "metadata": {},
   "outputs": [],
   "source": [
    "from ipywidgets import interact, interact_manual"
   ]
  },
  {
   "source": [
    "# Molecules classification\n",
    "\n",
    "## The dataset\n",
    "\n",
    "We study the [`ogbg-molhiv` dataset][1].\n",
    "Each graph represents a molecule, where nodes are atoms, and edges are chemical bonds. Input node features are 9-dimensional, containing atomic number and chirality, as well as other additional atom features such as formal charge and whether the atom is in the ring or not.\n",
    "\n",
    "## The task\n",
    "\n",
    "We want to predict whether a molecule inhibits HIV virus replication or not, as accurately as possible,\n",
    "\n",
    "[1]: https://ogb.stanford.edu/docs/graphprop/"
   ],
   "cell_type": "markdown",
   "metadata": {}
  },
  {
   "source": [
    "## Data Loading"
   ],
   "cell_type": "markdown",
   "metadata": {}
  },
  {
   "cell_type": "code",
   "execution_count": 61,
   "metadata": {},
   "outputs": [],
   "source": [
    "# IMPORTS\n",
    "from ogb.graphproppred import PygGraphPropPredDataset # Dataset package\n",
    "from torch_geometric.data import DataLoader # Utility to load data\n",
    "\n",
    "import pandas as pd"
   ]
  },
  {
   "cell_type": "code",
   "execution_count": 73,
   "metadata": {},
   "outputs": [],
   "source": [
    "# Download and process data at './dataset/ogbg_molhiv/'\n",
    "dataset = PygGraphPropPredDataset(name = \"ogbg-molhiv\", root = '/io/ogbg/')\n",
    "\n",
    "elements = pd.read_csv(\"/io/data/external/elementlist.csv\", index_col=0)"
   ]
  },
  {
   "cell_type": "code",
   "execution_count": 70,
   "metadata": {},
   "outputs": [
    {
     "output_type": "stream",
     "name": "stdout",
     "text": [
      "5\n"
     ]
    }
   ],
   "source": [
    "print(el0.x[1,0].item())"
   ]
  },
  {
   "cell_type": "code",
   "execution_count": 74,
   "metadata": {},
   "outputs": [
    {
     "output_type": "stream",
     "name": "stdout",
     "text": [
      "\nFirst element : Data(edge_attr=[40, 3], edge_index=[2, 40], x=[19, 9], y=[1, 1])\n\nAttributes : \n    - Node features : 9\n    - Edge features : 3\n\nelements in el0.x[0] : ['C', 'C', 'C', 'O', 'Cu', 'O', 'C', 'C', 'C', 'C', 'O', 'C', 'C', 'C', 'C', 'C', 'C', 'C', 'O']\n\n"
     ]
    }
   ],
   "source": [
    "el0 = dataset[0]\n",
    "print(f\"\"\"\n",
    "First element : {el0}\n",
    "\n",
    "Attributes : \n",
    "    - Node features : {el0.num_node_features}\n",
    "    - Edge features : {el0.num_edge_features}\n",
    "\n",
    "elements in el0.x[0] : {[elements.iloc[el0.x[i,0].item()].symbol for i in range(el0.num_nodes)]}\n",
    "\"\"\")"
   ]
  },
  {
   "source": [
    "### Features\n",
    "\n",
    "From the [doc](https://github.com/snap-stanford/ogb/blob/master/ogb/utils/features.py).\n",
    "\n",
    "**Atom** (node) features:\n",
    "- atomic_num : cat (118 vals)\n",
    "- chirality : cat (4 vals)\n",
    "- degree : int (0 to 10)\n",
    "- formal_charge : int (-5 to 5)\n",
    "- numH : int (0 to 8)\n",
    "- number_radical_e : int (0 to 4)\n",
    "- possible hybridization : cat (5 vals)\n",
    "- is_aromatic : bool\n",
    "- is_in_ring : bool\n",
    "\n",
    "**Bond** (edge) features:\n",
    "- bond_type : cat (4 vals)\n",
    "- bond_stereo : cat (6 vals)\n",
    "- is_conjugated : bool"
   ],
   "cell_type": "markdown",
   "metadata": {}
  },
  {
   "source": [
    "## Visualization\n",
    "\n",
    "We will use a graph visualization library to represent the molecules."
   ],
   "cell_type": "markdown",
   "metadata": {}
  },
  {
   "cell_type": "code",
   "execution_count": 115,
   "metadata": {},
   "outputs": [],
   "source": [
    "# IMPORTS\n",
    "import networkx as nx  # Graph manipulation library\n",
    "from torch_geometric.utils import to_networkx # Conversion function\n",
    "\n",
    "import matplotlib.pyplot as plt\n",
    "import torch"
   ]
  },
  {
   "cell_type": "code",
   "execution_count": 138,
   "metadata": {},
   "outputs": [],
   "source": [
    "def plot_mol(torch_graph):\n",
    "    fig, ax = plt.subplots(dpi=120)\n",
    "\n",
    "    G = to_networkx(\n",
    "        torch_graph,\n",
    "        to_undirected=True\n",
    "    )\n",
    "    \n",
    "    pos = nx.kamada_kawai_layout(G)\n",
    "\n",
    "\n",
    "    atoms = torch_graph.x[:,0]\n",
    "    single_bonds = torch.where(torch_graph.edge_attr[:,0] == 0)[0]\n",
    "    double_bonds = torch.where(torch_graph.edge_attr[:,0] == 1)[0]\n",
    "    triple_bonds = torch.where(torch_graph.edge_attr[:,0] == 2)[0]\n",
    "    aromatic = torch.where(torch_graph.edge_attr[:,0] == 3)[0]\n",
    "\n",
    "    nx.draw_networkx(\n",
    "        G, pos,\n",
    "        node_color = atoms,  # color coded by atomic number\n",
    "        cmap=\"prism\",\n",
    "        node_size=10 * atoms,    # size give by atomic number\n",
    "        with_labels=False,\n",
    "        width = torch_graph.edge_attr[:,0] + 1 \n",
    "    )\n",
    "\n",
    "    offset = 0.05\n",
    "    nx.draw_networkx_labels(\n",
    "        G,\n",
    "        {\n",
    "            node : (p[0] - offset, p[1] + 1.5 * offset)\n",
    "            for node, p in pos.items()\n",
    "        },\n",
    "        labels={\n",
    "            i: elements.iloc[torch_graph.x[i,0].item()].symbol\n",
    "            for i in range(torch_graph.num_nodes)\n",
    "        },\n",
    "    )\n",
    "\n",
    "    fig.tight_layout()\n",
    "    plt.show()"
   ]
  },
  {
   "cell_type": "code",
   "execution_count": 141,
   "metadata": {},
   "outputs": [
    {
     "output_type": "display_data",
     "data": {
      "text/plain": "interactive(children=(Dropdown(description='x', options=(0, 1, 2, 3, 4, 5, 6, 7, 8, 9, 10, 11, 12, 13, 14, 15,…",
      "application/vnd.jupyter.widget-view+json": {
       "version_major": 2,
       "version_minor": 0,
       "model_id": "09900efdecb14ef88ff4dac3b35258e5"
      }
     },
     "metadata": {}
    },
    {
     "output_type": "execute_result",
     "data": {
      "text/plain": [
       "<function __main__.<lambda>(x)>"
      ]
     },
     "metadata": {},
     "execution_count": 141
    }
   ],
   "source": [
    "interact(lambda x: plot_mol(dataset[x]), x=range(len(dataset)))"
   ]
  },
  {
   "cell_type": "code",
   "execution_count": null,
   "metadata": {},
   "outputs": [],
   "source": []
  }
 ]
}