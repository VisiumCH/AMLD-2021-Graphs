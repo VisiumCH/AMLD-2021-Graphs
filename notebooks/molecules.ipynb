{
  "nbformat": 4,
  "nbformat_minor": 0,
  "metadata": {
    "language_info": {
      "codemirror_mode": {
        "name": "ipython",
        "version": 3
      },
      "file_extension": ".py",
      "mimetype": "text/x-python",
      "name": "python",
      "nbconvert_exporter": "python",
      "pygments_lexer": "ipython3",
      "version": "3.7.9-final"
    },
    "orig_nbformat": 2,
    "kernelspec": {
      "name": "python3",
      "display_name": "Python 3.7.9 64-bit ('env')",
      "metadata": {
        "interpreter": {
          "hash": "3f9a800dfd4937aaf5915b9b3651c6a325ec28e4e6583e144cef767ca01f35a9"
        }
      }
    },
    "colab": {
      "name": "molecules.ipynb",
      "provenance": [],
      "collapsed_sections": []
    },
    "accelerator": "GPU"
  },
  "cells": [
    {
      "cell_type": "code",
      "metadata": {
        "colab": {
          "base_uri": "https://localhost:8080/"
        },
        "id": "SU8lTDxjxMJJ",
        "outputId": "f0bdcbb7-f6cd-4203-9c7c-38cc871467a4"
      },
      "source": [
        "# Install required packages.\n",
        "!pip install -q torch-scatter -f https://pytorch-geometric.com/whl/torch-1.8.0+cu101.html\n",
        "!pip install -q torch-sparse -f https://pytorch-geometric.com/whl/torch-1.8.0+cu101.html\n",
        "!pip install -q torch-geometric\n",
        "!pip install -q ogb>=1.3.0\n",
        "\n",
        "# Helper function for visualization.\n",
        "%matplotlib inline\n",
        "import matplotlib.pyplot as plt\n",
        "from time import time\n",
        "\n",
        "from ipywidgets import interact, interact_manual\n",
        "import pandas as pd\n",
        "\n",
        "# Periodic table thanks to Chris Andrejewski <christopher.andrejewski@gmail.com>\n",
        "link = \"https://raw.githubusercontent.com/andrejewski/periodic-table/master/data.csv\"\n",
        "elements = pd.read_csv(link, index_col=0, sep=\", \", engine=\"python\")"
      ],
      "execution_count": 1,
      "outputs": [
        {
          "output_type": "stream",
          "text": [
            "\u001b[K     |████████████████████████████████| 2.6MB 5.0MB/s \n",
            "\u001b[K     |████████████████████████████████| 1.5MB 4.0MB/s \n",
            "\u001b[K     |████████████████████████████████| 194kB 5.4MB/s \n",
            "\u001b[K     |████████████████████████████████| 235kB 6.6MB/s \n",
            "\u001b[K     |████████████████████████████████| 2.2MB 7.8MB/s \n",
            "\u001b[K     |████████████████████████████████| 51kB 6.3MB/s \n",
            "\u001b[?25h  Building wheel for torch-geometric (setup.py) ... \u001b[?25l\u001b[?25hdone\n"
          ],
          "name": "stdout"
        }
      ]
    },
    {
      "cell_type": "markdown",
      "metadata": {
        "id": "9ia02CScxMJO"
      },
      "source": [
        "# Molecules classification\n",
        "\n",
        "## The dataset\n",
        "\n",
        "We study the [`ogbg-molhiv` dataset][1].\n",
        "Each graph represents a molecule, where nodes are atoms, and edges are chemical bonds. Input node features are 9-dimensional, containing atomic number and chirality, as well as other additional atom features such as formal charge and whether the atom is in the ring or not.\n",
        "\n",
        "## The task\n",
        "\n",
        "We want to predict whether a molecule inhibits HIV virus replication or not, as accurately as possible,\n",
        "\n",
        "[1]: https://ogb.stanford.edu/docs/graphprop/"
      ]
    },
    {
      "cell_type": "markdown",
      "metadata": {
        "id": "i0v0fSk2xMJP"
      },
      "source": [
        "## Data Loading"
      ]
    },
    {
      "cell_type": "code",
      "metadata": {
        "id": "-aPyko3iX_3w"
      },
      "source": [
        "class AddSymbols(object):\n",
        "    \"\"\"\n",
        "    Add the symbol of the elements, from the atomic number, as a key of the graph\n",
        "    \"\"\"\n",
        "    def __call__(self, graph):\n",
        "        graph.symbols = elements.loc[graph.x[:,0] + 1, \"symbol\"].values\n",
        "        \n",
        "        return graph\n"
      ],
      "execution_count": 54,
      "outputs": []
    },
    {
      "cell_type": "code",
      "metadata": {
        "id": "tqASXKDlS1Y7"
      },
      "source": [
        "from torch.nn.functional import one_hot\n",
        "\n",
        "class OneHot(object):\n",
        "    \"\"\" \n",
        "    Takes LongTensor with index values of shape (*) and returns a tensor of shape\n",
        "    (*, num_classes) that have zeros everywhere except where the index of last\n",
        "    dimension matches the corresponding value of the input tensor, in which case\n",
        "    it will be 1.\n",
        "    \"\"\"\n",
        "    def __init__(self, column=0, num_classes=-1):\n",
        "        self.column = column\n",
        "        self.num_classes = num_classes\n",
        "\n",
        "    def __call__(self, graph):\n",
        "        enc = one_hot(\n",
        "            graph.x[:, self.column],\n",
        "            num_classes=self.num_classes\n",
        "        )\n",
        "\n",
        "        x = torch.empty(\n",
        "            (enc.shape[0], atoms.shape[1] + graph.x.shape[1] - 1)\n",
        "        )\n",
        "    \n",
        "        x[:, :self.column] = graph.x[:, :self.column]\n",
        "        x[:, self.column:(self.column + enc.shape[1])] = enc\n",
        "        x[:, (self.column + enc.shape[1]):] = graph.x[:, (self.column + 1):]\n",
        "        graph.x = x\n",
        "\n",
        "        return graph\n",
        "\n",
        "    def __repr__(self):\n",
        "        return f\"OneHot(self.column={self.self.column}, num_classes={self.num_classes})\""
      ],
      "execution_count": 55,
      "outputs": []
    },
    {
      "cell_type": "code",
      "metadata": {
        "id": "5e8puvAexMJP"
      },
      "source": [
        "# IMPORTS\n",
        "from ogb.graphproppred import PygGraphPropPredDataset # Dataset package\n",
        "from torch_geometric.data import DataLoader # Utility to load data\n",
        "from torch_geometric.transforms import Compose"
      ],
      "execution_count": 56,
      "outputs": []
    },
    {
      "cell_type": "code",
      "metadata": {
        "id": "9e-Cf6dvxMJQ"
      },
      "source": [
        "# Download and process data at './dataset/ogbg_molhiv/'\n",
        "dataset = PygGraphPropPredDataset(\n",
        "    name = \"ogbg-molhiv\", root = '.',\n",
        "    transform=Compose([\n",
        "        AddSymbols(),\n",
        "        OneHot(column=0,num_classes=118),\n",
        "    ])\n",
        ")"
      ],
      "execution_count": 57,
      "outputs": []
    },
    {
      "cell_type": "markdown",
      "metadata": {
        "id": "RgnJ8tbAxMJQ"
      },
      "source": [
        "### Features\n",
        "\n",
        "From the [doc](https://github.com/snap-stanford/ogb/blob/master/ogb/utils/features.py).\n",
        "\n",
        "**Atom** (node) features:\n",
        "- atomic_num : cat (118 vals)\n",
        "- chirality : cat (4 vals)\n",
        "- degree : int (0 to 10)\n",
        "- formal_charge : int (-5 to 5)\n",
        "- numH : int (0 to 8)\n",
        "- number_radical_e : int (0 to 4)\n",
        "- possible hybridization : cat (5 vals)\n",
        "- is_aromatic : bool\n",
        "- is_in_ring : bool\n",
        "\n",
        "**Bond** (edge) features:\n",
        "- bond_type : cat (4 vals)\n",
        "- bond_stereo : cat (6 vals)\n",
        "- is_conjugated : bool"
      ]
    },
    {
      "cell_type": "code",
      "metadata": {
        "colab": {
          "base_uri": "https://localhost:8080/"
        },
        "id": "NTC8v0eTxMJQ",
        "outputId": "3de674af-17e8-4e2a-86b1-377081c2cb9f"
      },
      "source": [
        "el0 = dataset[0]\n",
        "print(f\"\"\"\n",
        "First element : {el0}\n",
        "\n",
        "Attributes : \n",
        "    - Node features : {el0.num_node_features}\n",
        "    - Edge features : {el0.num_edge_features}\n",
        "\"\"\")"
      ],
      "execution_count": 58,
      "outputs": [
        {
          "output_type": "stream",
          "text": [
            "\n",
            "First element : Data(edge_attr=[40, 3], edge_index=[2, 40], symbols=['C ' 'C ' 'C ' 'O ' 'Cu ' 'O ' 'C ' 'C ' 'C ' 'C ' 'O ' 'C ' 'C ' 'C '\n",
            " 'C ' 'C ' 'C ' 'C ' 'O '], x=[19, 126], y=[1, 1])\n",
            "\n",
            "Attributes : \n",
            "    - Node features : 126\n",
            "    - Edge features : 3\n",
            "\n"
          ],
          "name": "stdout"
        }
      ]
    },
    {
      "cell_type": "code",
      "metadata": {
        "id": "_ZqpOC9H0IX8"
      },
      "source": [
        "import numpy as np\n",
        "\n",
        "all_atoms = np.concatenate(\n",
        "    [graph.symbols for graph in dataset]\n",
        ")"
      ],
      "execution_count": 62,
      "outputs": []
    },
    {
      "cell_type": "code",
      "metadata": {
        "colab": {
          "base_uri": "https://localhost:8080/"
        },
        "id": "qtNcYKWE0sN0",
        "outputId": "fa5eaec3-5c9e-4630-dc53-57d13c31fd30"
      },
      "source": [
        "print(f\"Unique: {len(np.unique(all_atoms))}\")\n",
        "print(np.unique(all_atoms))"
      ],
      "execution_count": 64,
      "outputs": [
        {
          "output_type": "stream",
          "text": [
            "Unique: 55\n",
            "['Ac ' 'Ag ' 'Al ' 'As ' 'Au ' 'B ' 'Bi ' 'Br ' 'C ' 'Ca ' 'Cl ' 'Co '\n",
            " 'Cr ' 'Cs ' 'Cu ' 'F ' 'Fe ' 'Ga ' 'Gd ' 'Ge ' 'H ' 'Hg ' 'Ho ' 'I '\n",
            " 'Ir ' 'K ' 'Li ' 'Mg ' 'Mn ' 'Mo ' 'N ' 'Na ' 'Ni ' 'O ' 'P ' 'Pb ' 'Pd '\n",
            " 'Pt ' 'Re ' 'Rh ' 'Ru ' 'S ' 'Sb ' 'Se ' 'Si ' 'Sn ' 'Tb ' 'Te ' 'Ti '\n",
            " 'Tl ' 'U ' 'V ' 'W ' 'Zn ' 'Zr ']\n"
          ],
          "name": "stdout"
        }
      ]
    },
    {
      "cell_type": "code",
      "metadata": {
        "colab": {
          "base_uri": "https://localhost:8080/"
        },
        "id": "Q3hD_bSJPK9e",
        "outputId": "4db9945c-3e8e-4f4d-9959-b99514db26ef"
      },
      "source": [
        "print()\n",
        "print(f'Dataset: {dataset}:')\n",
        "print('====================')\n",
        "print(f'Number of graphs: {len(dataset)}')\n",
        "print(f'Number of features: {dataset.num_features}')\n",
        "print(f'Number of classes: {dataset.num_classes}')\n",
        "\n",
        "_el0 = dataset[0]  # Get the first graph object.\n",
        "\n",
        "print()\n",
        "print(_el0)\n",
        "print('=============================================================')\n",
        "\n",
        "# Gather some statistics about the first graph.\n",
        "print(f'Number of nodes: {_el0.num_nodes}')\n",
        "print(f'Number of edges: {_el0.num_edges}')\n",
        "print(f'Average node degree: {_el0.num_edges / _el0.num_nodes:.2f}')\n",
        "print(f'Contains isolated nodes: {_el0.contains_isolated_nodes()}')\n",
        "print(f'Contains self-loops: {_el0.contains_self_loops()}')\n",
        "print(f'Is undirected: {_el0.is_undirected()}')"
      ],
      "execution_count": 65,
      "outputs": [
        {
          "output_type": "stream",
          "text": [
            "\n",
            "Dataset: PygGraphPropPredDataset(41127):\n",
            "====================\n",
            "Number of graphs: 41127\n",
            "Number of features: 126\n",
            "Number of classes: 2\n",
            "\n",
            "Data(edge_attr=[40, 3], edge_index=[2, 40], symbols=['C ' 'C ' 'C ' 'O ' 'Cu ' 'O ' 'C ' 'C ' 'C ' 'C ' 'O ' 'C ' 'C ' 'C '\n",
            " 'C ' 'C ' 'C ' 'C ' 'O '], x=[19, 126], y=[1, 1])\n",
            "=============================================================\n",
            "Number of nodes: 19\n",
            "Number of edges: 40\n",
            "Average node degree: 2.11\n",
            "Contains isolated nodes: False\n",
            "Contains self-loops: False\n",
            "Is undirected: True\n"
          ],
          "name": "stdout"
        }
      ]
    },
    {
      "cell_type": "markdown",
      "metadata": {
        "id": "eTeRlZbExMJR"
      },
      "source": [
        "## Visualization\n",
        "\n",
        "We will use a graph visualization library to represent the molecules.\n",
        "\n",
        "_NOTE: consider writing interactively the basic plot function:_\n",
        "```\n",
        "    torch_graph -> networkx.Graph\n",
        "    networkx.draw(networkx.Graph)\n",
        "```"
      ]
    },
    {
      "cell_type": "code",
      "metadata": {
        "colab": {
          "base_uri": "https://localhost:8080/",
          "height": 317
        },
        "id": "U_H7wJ_1xMJR",
        "outputId": "91cc0bdc-81c0-4c57-db33-e078a209bc48"
      },
      "source": [
        "# IMPORTS\n",
        "from src.visualization import plot_mol  #refactored function"
      ],
      "execution_count": 66,
      "outputs": [
        {
          "output_type": "error",
          "ename": "ModuleNotFoundError",
          "evalue": "ignored",
          "traceback": [
            "\u001b[0;31m---------------------------------------------------------------------------\u001b[0m",
            "\u001b[0;31mModuleNotFoundError\u001b[0m                       Traceback (most recent call last)",
            "\u001b[0;32m<ipython-input-66-20ff9b1a6897>\u001b[0m in \u001b[0;36m<module>\u001b[0;34m()\u001b[0m\n\u001b[1;32m      1\u001b[0m \u001b[0;31m# IMPORTS\u001b[0m\u001b[0;34m\u001b[0m\u001b[0;34m\u001b[0m\u001b[0;34m\u001b[0m\u001b[0m\n\u001b[0;32m----> 2\u001b[0;31m \u001b[0;32mfrom\u001b[0m \u001b[0msrc\u001b[0m\u001b[0;34m.\u001b[0m\u001b[0mvisualization\u001b[0m \u001b[0;32mimport\u001b[0m \u001b[0mplot_mol\u001b[0m  \u001b[0;31m#refactored function\u001b[0m\u001b[0;34m\u001b[0m\u001b[0;34m\u001b[0m\u001b[0m\n\u001b[0m",
            "\u001b[0;31mModuleNotFoundError\u001b[0m: No module named 'src'",
            "",
            "\u001b[0;31m---------------------------------------------------------------------------\u001b[0;32m\nNOTE: If your import is failing due to a missing package, you can\nmanually install dependencies using either !pip or !apt.\n\nTo view examples of installing some common dependencies, click the\n\"Open Examples\" button below.\n\u001b[0;31m---------------------------------------------------------------------------\u001b[0m\n"
          ]
        }
      ]
    },
    {
      "cell_type": "code",
      "metadata": {
        "colab": {
          "referenced_widgets": [
            "978ebbd3de7f4f4d83798cefe058ac62"
          ]
        },
        "id": "ylT--7HhxMJS",
        "outputId": "112eec66-334d-4f44-8295-30ea1dc6eb04"
      },
      "source": [
        "interact(\n",
        "    lambda x, layout: plot_mol(dataset[x], layout),\n",
        "    x=range(len(dataset)), layout=[\"kamada_kawai\", \"spring\"]\n",
        ")"
      ],
      "execution_count": null,
      "outputs": [
        {
          "output_type": "display_data",
          "data": {
            "text/plain": [
              "interactive(children=(Dropdown(description='x', options=(0, 1, 2, 3, 4, 5, 6, 7, 8, 9, 10, 11, 12, 13, 14, 15,…"
            ],
            "application/vnd.jupyter.widget-view+json": {
              "version_major": 2,
              "version_minor": 0,
              "model_id": "978ebbd3de7f4f4d83798cefe058ac62"
            }
          },
          "metadata": {
            "tags": []
          }
        },
        {
          "output_type": "execute_result",
          "data": {
            "text/plain": [
              "<function __main__.<lambda>(x, layout)>"
            ]
          },
          "metadata": {
            "tags": []
          },
          "execution_count": 6
        }
      ]
    },
    {
      "cell_type": "markdown",
      "metadata": {
        "id": "7kPXvM8OxMJS"
      },
      "source": [
        "## Graph neural networks\n",
        "\n",
        "We will use the [**Pytorch Geometric**][1] library to define a message passing network and use it for classification.\n",
        "\n",
        "_NOTE: One should use this notebook to explain some backgroud on graph convolutions_\n",
        "\n",
        "[1]: https://pytorch-geometric.readthedocs.io/en/latest/"
      ]
    },
    {
      "cell_type": "code",
      "metadata": {
        "id": "0hTT-njwxMJS"
      },
      "source": [
        "# IMPORTS\n",
        "import torch  # Computational module\n",
        "\n",
        "from torch.nn import Linear, NLLLoss, Sigmoid, LogSoftmax\n",
        "import torch.nn.functional as F\n",
        "from torch_geometric.nn import GCNConv, global_mean_pool"
      ],
      "execution_count": null,
      "outputs": []
    },
    {
      "cell_type": "markdown",
      "metadata": {
        "id": "zLrxvAxixMJT"
      },
      "source": [
        "### Model definition\n",
        "\n",
        "Let's start with an easy example.\n",
        "We will use on of the most simple GNN operators, the **GCN layer** ([Kipf et al. (2017)](https://arxiv.org/abs/1609.02907)), which is defined as\n",
        "\n",
        "$$\n",
        "\\mathbf{x}_v^{(\\ell + 1)} = \\mathbf{W}^{(\\ell + 1)} \\sum_{w \\in \\mathcal{N}(v) \\, \\cup \\, \\{ v \\}} \\frac{1}{c_{w,v}} \\cdot \\mathbf{x}_w^{(\\ell)}\n",
        "$$\n",
        "\n",
        "where $\\mathbf{W}^{(\\ell + 1)}$ denotes a trainable weight matrix of shape `[num_output_features, num_input_features]` and $c_{w,v}$ refers to a fixed normalization coefficient for each edge.\n",
        "\n",
        "PyG implements this layer via [`GCNConv`](https://pytorch-geometric.readthedocs.io/en/latest/modules/nn.html#torch_geometric.nn.conv.GCNConv), which can be executed by passing in the node feature representation `x` and the COO graph connectivity representation `edge_index`.\n",
        "\n",
        "\n",
        "_Note_ that the features of each atom need to be embedded prior to using them.\n",
        "For this we just use the functions provided by the OGB package"
      ]
    },
    {
      "cell_type": "code",
      "metadata": {
        "id": "V_alqrUSxMJT"
      },
      "source": [
        "from ogb.graphproppred.mol_encoder import AtomEncoder, BondEncoder"
      ],
      "execution_count": null,
      "outputs": []
    },
    {
      "cell_type": "code",
      "metadata": {
        "id": "oYesK88JxMJT"
      },
      "source": [
        "class GNN(torch.nn.Module):\n",
        "    def __init__(\n",
        "        self,\n",
        "        hidden_channels,\n",
        "        hidden_nodes,\n",
        "        atom_emb_dim=dataset.num_node_features,\n",
        "        bond_emb_dim=dataset.num_edge_features\n",
        "    ):\n",
        "        super(GNN, self).__init__()\n",
        "        self.atom_encoder = AtomEncoder(emb_dim = atom_emb_dim)\n",
        "        self.bond_encoder = BondEncoder(emb_dim = bond_emb_dim)\n",
        "        \n",
        "        self.conv1 = GCNConv(atom_emb_dim, hidden_channels)\n",
        "        self.conv2 = GCNConv(hidden_channels, hidden_channels)\n",
        "        self.conv3 = GCNConv(hidden_channels, hidden_nodes)\n",
        "        self.lin = Linear(hidden_nodes, dataset.num_classes)\n",
        "        self.readout = LogSoftmax(dim=1)\n",
        "\n",
        "    \n",
        "    def forward(self, data):\n",
        "        x, edge_index = data.x, data.edge_index\n",
        "\n",
        "        # 1. Obtain node embeddings\n",
        "        x = x.type(torch.FloatTensor)\n",
        "        \n",
        "        x = self.conv1(x, edge_index)\n",
        "        x = x.relu()\n",
        "        x = F.dropout(x, training=self.training)\n",
        "        x = self.conv2(x, edge_index)\n",
        "        x = x.relu()\n",
        "        x = F.dropout(x, training=self.training)\n",
        "        x = x.relu()\n",
        "\n",
        "\n",
        "        # 2. Readout layer\n",
        "        x = global_mean_pool(x, data.batch)  # [batch_size, hidden_channels]\n",
        "\n",
        "        # 3. Apply a final classifier\n",
        "        x = self.lin(x)\n",
        "\n",
        "        return self.readout(x)"
      ],
      "execution_count": null,
      "outputs": []
    },
    {
      "cell_type": "markdown",
      "metadata": {
        "id": "NkaZbc2AxMJU"
      },
      "source": [
        "### Training"
      ]
    },
    {
      "cell_type": "code",
      "metadata": {
        "id": "y84IqkKoxMJU"
      },
      "source": [
        "from torch_geometric.data import DataLoader\n",
        "\n",
        "from tqdm.auto import tqdm"
      ],
      "execution_count": null,
      "outputs": []
    },
    {
      "cell_type": "code",
      "metadata": {
        "id": "EX3f7NiMxMJU"
      },
      "source": [
        "def test(loader):\n",
        "     model.eval()\n",
        "\n",
        "     correct = 0\n",
        "     for data in loader:  # Iterate in batches over the training/test dataset.\n",
        "         out = model(data)  \n",
        "         pred = out.argmax(dim=1)  # Use the class with highest probability.\n",
        "         correct += int((pred == data.y).sum())  # Check against ground-truth labels.\n",
        "     return correct / len(loader.dataset)  # Derive ratio of correct predictions."
      ],
      "execution_count": null,
      "outputs": []
    },
    {
      "cell_type": "code",
      "metadata": {
        "id": "NTyQLoMjxMJU"
      },
      "source": [
        "idx_tr, idx_val, idx_te = dataset.get_idx_split().values()\n",
        "\n",
        "# NOTE: time per epoch by batch_size\n",
        "# 128 -> 5.35s\n",
        "# 256 -> 5.20s\n",
        "batch_size = 128\n",
        "\n",
        "loader_tr = DataLoader(dataset[idx_tr], batch_size=batch_size, shuffle=True)\n",
        "loader_val = DataLoader(dataset[idx_val], batch_size=batch_size, shuffle=True)\n",
        "loader_te = DataLoader(dataset[idx_te], batch_size=batch_size, shuffle=False)"
      ],
      "execution_count": null,
      "outputs": []
    },
    {
      "cell_type": "code",
      "metadata": {
        "id": "zEmcZw3ZxMJU"
      },
      "source": [
        "device = \"cuda\" if torch.cuda.is_available() else \"cpu\"\n",
        "\n",
        "model = GNN(\n",
        "    hidden_channels=64,\n",
        "    hidden_nodes=64\n",
        ").to(device)\n",
        "optimizer = torch.optim.Adam(params=model.parameters())\n",
        "loss_function = NLLLoss()"
      ],
      "execution_count": null,
      "outputs": []
    },
    {
      "cell_type": "code",
      "metadata": {
        "tags": [],
        "colab": {
          "referenced_widgets": [
            "7a7c2d77fb0f467fae194384cff4ffef",
            "c03ec0ed0c514afbbc3b2434f42180fd",
            "e6e12ff0f54447bea57f42bd789b7505",
            "1c678f92db0145e9ae05a21a26294c27",
            "895ca3b10b964c24adff6a3e90ceaebb",
            "fb99e6c26ce74164b673b14afe6e4663",
            "6ef27fbfcc5849de839e1c4ef319a134",
            "9e43157e92e940bcab3f3c44926afdc8",
            "b38093cdbdac45038a9c2f38d9434f46",
            "fc9378f00f16411c8f04826699f9a211",
            "ecabf5c7c05f480c9c86517ab411bea5",
            "46de7d816d4a49f58a0b6dcc8f52eb86",
            "6297aa3139234be2a3c4db77a9239d0f",
            "ef594120286449438af7d8b8e4a3fb23",
            "4964564e747c4ecd8cead53b1977af7b",
            "d49c63d81eff43d18866f21708f39a92",
            "7734e2dac03c4821bcdbd7025a59b119",
            "454874712711402f8ed909865577bd73",
            "c053fb0e649447469afebff2f136c0d1",
            "c49cdacbfd6948daa8bb38eca8f67a3b",
            "c50f963a04c24ff1a0d0ef0cbc34dd76",
            "f7c978fe6e2b4fa29061f30d8c739687",
            "14bfa9c5b13a46c89d1c1e33c55fb081",
            "5a0c75053fac44b995e5cd49d8b75f60",
            "df97288acd5043b598673d39f08c1f38",
            "cd177edae6d849dc96680d5b80353d6c",
            "8c98184d252a49719fe617900053a7b4",
            "0dfc370285b7477da5508c35afdd1b27",
            "1c15d60d1c2647a9b53f6f4ac1ef1169",
            "ccb8aeaee25149fd960b442ab901c2de",
            "38cae4d324de4c2c96c17b492b63dd87",
            "4a9e4926615440dcbae08e07074e4c83",
            "e64e7a72f6324d29afa2f4b908d7ebe5",
            "3fc757e5026745b598ee69643bb1278d",
            "934404e50543477181e717755f5d8f72",
            "892d45d52437421bb35cbfd2321f05cc",
            "a96b258200714bc191ad7984af9d7005",
            "67d9b14c26324781964adbd83d46923e",
            "ac24e40571d0412a8d217322a333b132",
            "683abc22268b4ddda34ed86a4126021a",
            "a9214c629f1a4a059febec39698e98e0",
            "f0e633e92dcc4007bf26059fed79620a",
            "42490fad8ec34fe9b2cabfc423443966",
            "d928ab9d69bb4f0a91568a53780695a3",
            "52a30f2dc64745f080ccca3cc9fae959",
            "cab67a3c3c4e47789bc3ebe61ad09819",
            "b58acf17ed6e4cff8b1ff0bd9f22fa3b",
            "5546d31a0d4347979ef89c7d406ccb03",
            "bbd0eda545684d2db4ff0058d2788b99",
            "4d4e9cb86ed2482cb34d6b79476359ba",
            "6ce4beb12cd74fd795ac2659a58251c4",
            "59299e6674b9464e9b85c657d52e5798",
            "c6b767b75a2e400eb5acd1df80769052",
            "f781dd4bb376426c93fecf100136573d",
            "5242974750514287a64a1a450874b54d",
            "88cbe0e5b71c4a668f679e7502ffab2d",
            "d1a30182a40f40dda2a0206ec3a6a2f5",
            "f9e5e1fb4d1a42b082c88b2dde00a9af",
            "e55feeb6c6984af1be166dc99cb91b0c",
            "2e7e9059e42348a4afbd2bd7792c73dc",
            "7b8e3578d68c4ccf9fb6132030a49c5c",
            "bf6c46b9359546b3b0186af0bc56e2e4",
            "f9be6cff198b4c02809e5c1512812ead",
            "33a0ffb679ab42a2a3d2074aeadf385e",
            "f586cddc945b471597c038c90d12910d",
            "d460367e54c14be381a1f5429985b806",
            "6c8dea7151524cc69d81d603d567d445",
            "574e0ed123024dc3b29f5f9b1ccc633e",
            "21820d96a32d4b97aa3bbed642a9554b",
            "5caa9b439e644abc83477f27eed60e61",
            "37bd6cad921643ad942d5f23d142792f",
            "667a2a252fc44d1ca7e3c8135d5632d4",
            "e7befe4f7521495b91b5519ec8b54c24",
            "a5c7fc016ac24dfcb025d197235d2053",
            "7ef6e13af2fa40ce8405cabfdcf8dd25",
            "a151f3a61ce5459a888e17833639d430",
            "b8819ae846794b5a99dc73f38e8f4015",
            "5e9103c458044bff8a2a402b283a550c",
            "dfffaf42c5d8459a8a2712fae1b5130e",
            "bff277f29cbe44069315740c1edd4e7b",
            "946cd25fc871433c9218469295b52a9f",
            "4fc78b78ca10487096fb83e973f94da1",
            "446418762e3e407d80247c87f15fa7a3",
            "a1f31dbaf52544f8aa9a611383334b44",
            "2e064181ce184cbea2f759d2ad879cc8",
            "b75a1f0ed6724deca77c786a147d2dcc",
            "3631dabdeec14010a2354f63f3f2a92f",
            "4165a044758241188b3579cba736e86b",
            "3cc65fd849b24d228294305cc17dabef",
            "8f3ca7e6c70046ab90238b0f727c34e9",
            "1207f0e52653471aa54d345631228315",
            "f7af4f77c3b04210b8b3242584d185b3",
            "64f9026a8c544a29b44c25308c3ab58a",
            "b59316c486ae4bcbb321bb9bc4ec7e4d",
            "b2ca1cfb8f4b4b8c81060bbb6c139824",
            "dbc9c901b1ec46ee84593cd55c77f9bd",
            "3f1d977d43a24a8f905d788eb6f4efda",
            "fbb8dd21140b4da38d9247614ddeddcf",
            "cee288ea623f474c97ba36ac89cd1c90",
            "2a66a4b988e74a92b5e7c076e382421a",
            "71313b94064749669751faad02340280",
            "0286c3eee2c640c285d559c16047c087",
            "915ec161a2e542ef816a87f3a47d9edd",
            "5885771f10c24ad1bc3dc2351bf801f4",
            "84ae5bc061dd4ae984f4723c1d649eb2",
            "86c031ec5ed64500b67ae99e1ab010a1",
            "002150e8099348c499e386481fec1716",
            "43f49db90315439687c9a06392957c1f",
            "73a05bba76b4469696ed7a5c17e4ef94",
            "85e0ab1348f64480b80dec6a5f2d29e4",
            "acd2a0eb4dec4b9396205613ff31b6ee",
            "15e20aac71364245be5244b268b618cb",
            "d322452685ee4e87860a49b7defa3455",
            "31029178c9f14740ae2daa471f311ea1",
            "217216b40bcb4060af39e4edcc2e0fc2",
            "38250059589c451a9c66f28a1075e4d8",
            "defb02953fd145a0b77024c2efa20954",
            "7c50850491d245fdb8214a8d23041fd8",
            "eacf0bb925024abe8d9a20065aa6445a",
            "bc7ba5c75d894117861a76001f20bdfe",
            "2ccd645fb14740e2bb6f846989941a0a",
            "6020f3f8f106452982c16e15b0742d30",
            "dec2d209f8ff4ce4a29095d86c094eba",
            "bb24d9bd97ca4f04bc266016e0d6d14c",
            "a45ff4c230f04f5194b998782a3b4f90",
            "5c08ce62c6054d2ca836d87c2f8a84b7",
            "6e57f120422f47df94570def71bdf198",
            "39659407dfa747dcb2819d3ff7ca1f2c",
            "f0199ac0591b47ea869c30a8c4e2f0c0",
            "c4c63f81fe604c83867f7dc76893e98a",
            "f420697fa4cc4039b8f10611bd0124b5",
            "6b5df9aced27462faad2011fcca5792a",
            "398ab196b5684d78b93d9a1b8600c039",
            "58d2078c1f3d42589376df7c4873ee59",
            "159330995749434ca43996ac30865afa",
            "27c9e76e8cfb4e53a6f8cccfa5cf71af",
            "167c70435f84416cbd92c57a16ebea88",
            "c3c887e63437493788c2f1dbc5f907ef",
            "3768cfffa623401b9ec9d635bceacc43",
            "a7b792490e154d7a9719b397c7f26bf7",
            "ff0c498829504bebb29fcb502786ae87",
            "bc0beed801574ad183bbafa00dbe75c1",
            "fda1812fae52424a9e642c91c3cdd605",
            "22970a15c82a49b09db118e5006a4548",
            "ee48db16370e4daea27a700f288703ce",
            "008d217412254d549c242a79e3b784ab",
            "ae318c7197a1462891e909724058bb52",
            "db73977d95f145748d6f585fbe4f2cbe",
            "66bf290c6b0c4fc4ad401722795f8dee",
            "bbf9fa565fda43a59c31e84365eec167",
            "608a7cde049b4ef5ae13f6cd4722006c",
            "77c0aea08fd74d718815e3bb043fa245",
            "724d7e6a67b84b0a945a2389493d3164",
            "15fb49e7c2d04da28e366b222657bd1e",
            "1179f37fef4a4de39d8b5f4cf0aedfff",
            "575dc5e2d6484c10b78bd483c982c255",
            "f64640cd5da04166bc96ab09c5cdbb16",
            "c4f4e4ae8f6f4547a9379cadbf69b557",
            "2fd2bacd98924c02a60ba0b78bea3e3e",
            "6c70c0e0e9b84804a452e622c9762ea8",
            "56ca384a64f54b199c6e6a143b3596bb",
            "1033ad879b75403884b5a9d628c90fee",
            "292ad24159e049628ec02ee022aaee21",
            "0ab66b58fe6e457197539ed4fb13030f",
            "ebba63b6339849848d6686e67c296aef",
            "be53cde350774861a569f3a40764ca56",
            "3c0ad701587c491abb06c91476409730",
            "a97fea578a074397b428c41d85554d10",
            "37d2a22623234d99982499371516da18",
            "00398ee3adc14570bbf03aeed5acd710",
            "4f9f4e320ea444b583f28abfbe7693f8",
            "e0989023e52449b6957a5708a64a5e6b",
            "cd0c10c60db248fdb2e9845fa3fd3fc1",
            "fc214327fa3d4e62980aa4d33158c303",
            "a7917ae09d7644559636803fbd46baa7",
            "1703c99399b84ea482414f1f6a794489",
            "1e77c2adff5a49f182722230f4d2884f",
            "9ea3e31bcf0740b9b614589d161dbab5",
            "1edeac094234431f8377202e91d131cb",
            "4aa51b6ebe1243bc9cd7f18f831eef45",
            "c41676cfcbd44cd5843326abb6ab661a",
            "ec1dd0bbbb2e4e4daaffd5245dd2655d",
            "6fce0b7699ae431f927ee0dbe54c09c9",
            "084549f40bf241b7bd5a7f2ae2df99ae",
            "3ee5646108654361988846368921abf3",
            "846a5e0d217c4faf8d417677de2baf6e",
            "e03a7898655b45d7af154c30752dfc19",
            "0709b03562ab4ca3a951ff86dbadb9f4",
            "75b1d760dac246bfb00aa4554c8c5928",
            "152df105436b4cd486ca67bdc23fe54b",
            "0b9158d3c2da4288922e13cc05f6eaa5",
            "a88a4b6a99354db3af01751e3e956646",
            "d3d352de94204720ba04ac235792119f",
            "5833e38d527741d3843f5c5eabeebaff",
            "75e68fd14b0840af8009fe37e77c0763",
            "ba8381a2d25d4c01b3b0457c61307847",
            "088842d6d9ad449680752501f280a6b2",
            "5a7baa59aa9b4d1abdd9c13fa26e5847",
            "75eb2153d0d44a43b70901217d0cc101",
            "b880837c137f4ad08cf12eb4296125bd",
            "cc3c29ec4400414e983bdf48aaf46b8d"
          ]
        },
        "id": "hz87Qj08xMJV",
        "outputId": "b7652d1a-70d8-4187-f4f9-0ef509eb771c"
      },
      "source": [
        "train_accs = []\n",
        "val_accs = []\n",
        "for epoch in tqdm(range(200)):\n",
        "    for batch in tqdm(loader_tr, leave=False):\n",
        "        optimizer.zero_grad()\n",
        "        pred = model(batch)\n",
        "        loss = loss_function(pred, batch.y.flatten())\n",
        "        loss.backward()\n",
        "        optimizer.step()\n",
        "\n",
        "    with torch.no_grad():\n",
        "        train_accs.append(test(loader_tr))\n",
        "        val_accs.append(test(loader_val))"
      ],
      "execution_count": null,
      "outputs": [
        {
          "output_type": "display_data",
          "data": {
            "text/plain": [
              "  0%|          | 0/200 [00:00<?, ?it/s]"
            ],
            "application/vnd.jupyter.widget-view+json": {
              "version_major": 2,
              "version_minor": 0,
              "model_id": "7a7c2d77fb0f467fae194384cff4ffef"
            }
          },
          "metadata": {
            "tags": []
          }
        },
        {
          "output_type": "display_data",
          "data": {
            "text/plain": [
              "  0%|          | 0/258 [00:00<?, ?it/s]"
            ],
            "application/vnd.jupyter.widget-view+json": {
              "version_major": 2,
              "version_minor": 0,
              "model_id": "c03ec0ed0c514afbbc3b2434f42180fd"
            }
          },
          "metadata": {
            "tags": []
          }
        },
        {
          "output_type": "display_data",
          "data": {
            "text/plain": [
              "  0%|          | 0/258 [00:00<?, ?it/s]"
            ],
            "application/vnd.jupyter.widget-view+json": {
              "version_major": 2,
              "version_minor": 0,
              "model_id": "e6e12ff0f54447bea57f42bd789b7505"
            }
          },
          "metadata": {
            "tags": []
          }
        },
        {
          "output_type": "display_data",
          "data": {
            "text/plain": [
              "  0%|          | 0/258 [00:00<?, ?it/s]"
            ],
            "application/vnd.jupyter.widget-view+json": {
              "version_major": 2,
              "version_minor": 0,
              "model_id": "1c678f92db0145e9ae05a21a26294c27"
            }
          },
          "metadata": {
            "tags": []
          }
        },
        {
          "output_type": "display_data",
          "data": {
            "text/plain": [
              "  0%|          | 0/258 [00:00<?, ?it/s]"
            ],
            "application/vnd.jupyter.widget-view+json": {
              "version_major": 2,
              "version_minor": 0,
              "model_id": "895ca3b10b964c24adff6a3e90ceaebb"
            }
          },
          "metadata": {
            "tags": []
          }
        },
        {
          "output_type": "display_data",
          "data": {
            "text/plain": [
              "  0%|          | 0/258 [00:00<?, ?it/s]"
            ],
            "application/vnd.jupyter.widget-view+json": {
              "version_major": 2,
              "version_minor": 0,
              "model_id": "fb99e6c26ce74164b673b14afe6e4663"
            }
          },
          "metadata": {
            "tags": []
          }
        },
        {
          "output_type": "display_data",
          "data": {
            "text/plain": [
              "  0%|          | 0/258 [00:00<?, ?it/s]"
            ],
            "application/vnd.jupyter.widget-view+json": {
              "version_major": 2,
              "version_minor": 0,
              "model_id": "6ef27fbfcc5849de839e1c4ef319a134"
            }
          },
          "metadata": {
            "tags": []
          }
        },
        {
          "output_type": "display_data",
          "data": {
            "text/plain": [
              "  0%|          | 0/258 [00:00<?, ?it/s]"
            ],
            "application/vnd.jupyter.widget-view+json": {
              "version_major": 2,
              "version_minor": 0,
              "model_id": "9e43157e92e940bcab3f3c44926afdc8"
            }
          },
          "metadata": {
            "tags": []
          }
        },
        {
          "output_type": "display_data",
          "data": {
            "text/plain": [
              "  0%|          | 0/258 [00:00<?, ?it/s]"
            ],
            "application/vnd.jupyter.widget-view+json": {
              "version_major": 2,
              "version_minor": 0,
              "model_id": "b38093cdbdac45038a9c2f38d9434f46"
            }
          },
          "metadata": {
            "tags": []
          }
        },
        {
          "output_type": "display_data",
          "data": {
            "text/plain": [
              "  0%|          | 0/258 [00:00<?, ?it/s]"
            ],
            "application/vnd.jupyter.widget-view+json": {
              "version_major": 2,
              "version_minor": 0,
              "model_id": "fc9378f00f16411c8f04826699f9a211"
            }
          },
          "metadata": {
            "tags": []
          }
        },
        {
          "output_type": "display_data",
          "data": {
            "text/plain": [
              "  0%|          | 0/258 [00:00<?, ?it/s]"
            ],
            "application/vnd.jupyter.widget-view+json": {
              "version_major": 2,
              "version_minor": 0,
              "model_id": "ecabf5c7c05f480c9c86517ab411bea5"
            }
          },
          "metadata": {
            "tags": []
          }
        },
        {
          "output_type": "display_data",
          "data": {
            "text/plain": [
              "  0%|          | 0/258 [00:00<?, ?it/s]"
            ],
            "application/vnd.jupyter.widget-view+json": {
              "version_major": 2,
              "version_minor": 0,
              "model_id": "46de7d816d4a49f58a0b6dcc8f52eb86"
            }
          },
          "metadata": {
            "tags": []
          }
        },
        {
          "output_type": "display_data",
          "data": {
            "text/plain": [
              "  0%|          | 0/258 [00:00<?, ?it/s]"
            ],
            "application/vnd.jupyter.widget-view+json": {
              "version_major": 2,
              "version_minor": 0,
              "model_id": "6297aa3139234be2a3c4db77a9239d0f"
            }
          },
          "metadata": {
            "tags": []
          }
        },
        {
          "output_type": "display_data",
          "data": {
            "text/plain": [
              "  0%|          | 0/258 [00:00<?, ?it/s]"
            ],
            "application/vnd.jupyter.widget-view+json": {
              "version_major": 2,
              "version_minor": 0,
              "model_id": "ef594120286449438af7d8b8e4a3fb23"
            }
          },
          "metadata": {
            "tags": []
          }
        },
        {
          "output_type": "display_data",
          "data": {
            "text/plain": [
              "  0%|          | 0/258 [00:00<?, ?it/s]"
            ],
            "application/vnd.jupyter.widget-view+json": {
              "version_major": 2,
              "version_minor": 0,
              "model_id": "4964564e747c4ecd8cead53b1977af7b"
            }
          },
          "metadata": {
            "tags": []
          }
        },
        {
          "output_type": "display_data",
          "data": {
            "text/plain": [
              "  0%|          | 0/258 [00:00<?, ?it/s]"
            ],
            "application/vnd.jupyter.widget-view+json": {
              "version_major": 2,
              "version_minor": 0,
              "model_id": "d49c63d81eff43d18866f21708f39a92"
            }
          },
          "metadata": {
            "tags": []
          }
        },
        {
          "output_type": "display_data",
          "data": {
            "text/plain": [
              "  0%|          | 0/258 [00:00<?, ?it/s]"
            ],
            "application/vnd.jupyter.widget-view+json": {
              "version_major": 2,
              "version_minor": 0,
              "model_id": "7734e2dac03c4821bcdbd7025a59b119"
            }
          },
          "metadata": {
            "tags": []
          }
        },
        {
          "output_type": "display_data",
          "data": {
            "text/plain": [
              "  0%|          | 0/258 [00:00<?, ?it/s]"
            ],
            "application/vnd.jupyter.widget-view+json": {
              "version_major": 2,
              "version_minor": 0,
              "model_id": "454874712711402f8ed909865577bd73"
            }
          },
          "metadata": {
            "tags": []
          }
        },
        {
          "output_type": "display_data",
          "data": {
            "text/plain": [
              "  0%|          | 0/258 [00:00<?, ?it/s]"
            ],
            "application/vnd.jupyter.widget-view+json": {
              "version_major": 2,
              "version_minor": 0,
              "model_id": "c053fb0e649447469afebff2f136c0d1"
            }
          },
          "metadata": {
            "tags": []
          }
        },
        {
          "output_type": "display_data",
          "data": {
            "text/plain": [
              "  0%|          | 0/258 [00:00<?, ?it/s]"
            ],
            "application/vnd.jupyter.widget-view+json": {
              "version_major": 2,
              "version_minor": 0,
              "model_id": "c49cdacbfd6948daa8bb38eca8f67a3b"
            }
          },
          "metadata": {
            "tags": []
          }
        },
        {
          "output_type": "display_data",
          "data": {
            "text/plain": [
              "  0%|          | 0/258 [00:00<?, ?it/s]"
            ],
            "application/vnd.jupyter.widget-view+json": {
              "version_major": 2,
              "version_minor": 0,
              "model_id": "c50f963a04c24ff1a0d0ef0cbc34dd76"
            }
          },
          "metadata": {
            "tags": []
          }
        },
        {
          "output_type": "display_data",
          "data": {
            "text/plain": [
              "  0%|          | 0/258 [00:00<?, ?it/s]"
            ],
            "application/vnd.jupyter.widget-view+json": {
              "version_major": 2,
              "version_minor": 0,
              "model_id": "f7c978fe6e2b4fa29061f30d8c739687"
            }
          },
          "metadata": {
            "tags": []
          }
        },
        {
          "output_type": "display_data",
          "data": {
            "text/plain": [
              "  0%|          | 0/258 [00:00<?, ?it/s]"
            ],
            "application/vnd.jupyter.widget-view+json": {
              "version_major": 2,
              "version_minor": 0,
              "model_id": "14bfa9c5b13a46c89d1c1e33c55fb081"
            }
          },
          "metadata": {
            "tags": []
          }
        },
        {
          "output_type": "display_data",
          "data": {
            "text/plain": [
              "  0%|          | 0/258 [00:00<?, ?it/s]"
            ],
            "application/vnd.jupyter.widget-view+json": {
              "version_major": 2,
              "version_minor": 0,
              "model_id": "5a0c75053fac44b995e5cd49d8b75f60"
            }
          },
          "metadata": {
            "tags": []
          }
        },
        {
          "output_type": "display_data",
          "data": {
            "text/plain": [
              "  0%|          | 0/258 [00:00<?, ?it/s]"
            ],
            "application/vnd.jupyter.widget-view+json": {
              "version_major": 2,
              "version_minor": 0,
              "model_id": "df97288acd5043b598673d39f08c1f38"
            }
          },
          "metadata": {
            "tags": []
          }
        },
        {
          "output_type": "display_data",
          "data": {
            "text/plain": [
              "  0%|          | 0/258 [00:00<?, ?it/s]"
            ],
            "application/vnd.jupyter.widget-view+json": {
              "version_major": 2,
              "version_minor": 0,
              "model_id": "cd177edae6d849dc96680d5b80353d6c"
            }
          },
          "metadata": {
            "tags": []
          }
        },
        {
          "output_type": "display_data",
          "data": {
            "text/plain": [
              "  0%|          | 0/258 [00:00<?, ?it/s]"
            ],
            "application/vnd.jupyter.widget-view+json": {
              "version_major": 2,
              "version_minor": 0,
              "model_id": "8c98184d252a49719fe617900053a7b4"
            }
          },
          "metadata": {
            "tags": []
          }
        },
        {
          "output_type": "display_data",
          "data": {
            "text/plain": [
              "  0%|          | 0/258 [00:00<?, ?it/s]"
            ],
            "application/vnd.jupyter.widget-view+json": {
              "version_major": 2,
              "version_minor": 0,
              "model_id": "0dfc370285b7477da5508c35afdd1b27"
            }
          },
          "metadata": {
            "tags": []
          }
        },
        {
          "output_type": "display_data",
          "data": {
            "text/plain": [
              "  0%|          | 0/258 [00:00<?, ?it/s]"
            ],
            "application/vnd.jupyter.widget-view+json": {
              "version_major": 2,
              "version_minor": 0,
              "model_id": "1c15d60d1c2647a9b53f6f4ac1ef1169"
            }
          },
          "metadata": {
            "tags": []
          }
        },
        {
          "output_type": "display_data",
          "data": {
            "text/plain": [
              "  0%|          | 0/258 [00:00<?, ?it/s]"
            ],
            "application/vnd.jupyter.widget-view+json": {
              "version_major": 2,
              "version_minor": 0,
              "model_id": "ccb8aeaee25149fd960b442ab901c2de"
            }
          },
          "metadata": {
            "tags": []
          }
        },
        {
          "output_type": "display_data",
          "data": {
            "text/plain": [
              "  0%|          | 0/258 [00:00<?, ?it/s]"
            ],
            "application/vnd.jupyter.widget-view+json": {
              "version_major": 2,
              "version_minor": 0,
              "model_id": "38cae4d324de4c2c96c17b492b63dd87"
            }
          },
          "metadata": {
            "tags": []
          }
        },
        {
          "output_type": "display_data",
          "data": {
            "text/plain": [
              "  0%|          | 0/258 [00:00<?, ?it/s]"
            ],
            "application/vnd.jupyter.widget-view+json": {
              "version_major": 2,
              "version_minor": 0,
              "model_id": "4a9e4926615440dcbae08e07074e4c83"
            }
          },
          "metadata": {
            "tags": []
          }
        },
        {
          "output_type": "display_data",
          "data": {
            "text/plain": [
              "  0%|          | 0/258 [00:00<?, ?it/s]"
            ],
            "application/vnd.jupyter.widget-view+json": {
              "version_major": 2,
              "version_minor": 0,
              "model_id": "e64e7a72f6324d29afa2f4b908d7ebe5"
            }
          },
          "metadata": {
            "tags": []
          }
        },
        {
          "output_type": "display_data",
          "data": {
            "text/plain": [
              "  0%|          | 0/258 [00:00<?, ?it/s]"
            ],
            "application/vnd.jupyter.widget-view+json": {
              "version_major": 2,
              "version_minor": 0,
              "model_id": "3fc757e5026745b598ee69643bb1278d"
            }
          },
          "metadata": {
            "tags": []
          }
        },
        {
          "output_type": "display_data",
          "data": {
            "text/plain": [
              "  0%|          | 0/258 [00:00<?, ?it/s]"
            ],
            "application/vnd.jupyter.widget-view+json": {
              "version_major": 2,
              "version_minor": 0,
              "model_id": "934404e50543477181e717755f5d8f72"
            }
          },
          "metadata": {
            "tags": []
          }
        },
        {
          "output_type": "display_data",
          "data": {
            "text/plain": [
              "  0%|          | 0/258 [00:00<?, ?it/s]"
            ],
            "application/vnd.jupyter.widget-view+json": {
              "version_major": 2,
              "version_minor": 0,
              "model_id": "892d45d52437421bb35cbfd2321f05cc"
            }
          },
          "metadata": {
            "tags": []
          }
        },
        {
          "output_type": "display_data",
          "data": {
            "text/plain": [
              "  0%|          | 0/258 [00:00<?, ?it/s]"
            ],
            "application/vnd.jupyter.widget-view+json": {
              "version_major": 2,
              "version_minor": 0,
              "model_id": "a96b258200714bc191ad7984af9d7005"
            }
          },
          "metadata": {
            "tags": []
          }
        },
        {
          "output_type": "display_data",
          "data": {
            "text/plain": [
              "  0%|          | 0/258 [00:00<?, ?it/s]"
            ],
            "application/vnd.jupyter.widget-view+json": {
              "version_major": 2,
              "version_minor": 0,
              "model_id": "67d9b14c26324781964adbd83d46923e"
            }
          },
          "metadata": {
            "tags": []
          }
        },
        {
          "output_type": "display_data",
          "data": {
            "text/plain": [
              "  0%|          | 0/258 [00:00<?, ?it/s]"
            ],
            "application/vnd.jupyter.widget-view+json": {
              "version_major": 2,
              "version_minor": 0,
              "model_id": "ac24e40571d0412a8d217322a333b132"
            }
          },
          "metadata": {
            "tags": []
          }
        },
        {
          "output_type": "display_data",
          "data": {
            "text/plain": [
              "  0%|          | 0/258 [00:00<?, ?it/s]"
            ],
            "application/vnd.jupyter.widget-view+json": {
              "version_major": 2,
              "version_minor": 0,
              "model_id": "683abc22268b4ddda34ed86a4126021a"
            }
          },
          "metadata": {
            "tags": []
          }
        },
        {
          "output_type": "display_data",
          "data": {
            "text/plain": [
              "  0%|          | 0/258 [00:00<?, ?it/s]"
            ],
            "application/vnd.jupyter.widget-view+json": {
              "version_major": 2,
              "version_minor": 0,
              "model_id": "a9214c629f1a4a059febec39698e98e0"
            }
          },
          "metadata": {
            "tags": []
          }
        },
        {
          "output_type": "display_data",
          "data": {
            "text/plain": [
              "  0%|          | 0/258 [00:00<?, ?it/s]"
            ],
            "application/vnd.jupyter.widget-view+json": {
              "version_major": 2,
              "version_minor": 0,
              "model_id": "f0e633e92dcc4007bf26059fed79620a"
            }
          },
          "metadata": {
            "tags": []
          }
        },
        {
          "output_type": "display_data",
          "data": {
            "text/plain": [
              "  0%|          | 0/258 [00:00<?, ?it/s]"
            ],
            "application/vnd.jupyter.widget-view+json": {
              "version_major": 2,
              "version_minor": 0,
              "model_id": "42490fad8ec34fe9b2cabfc423443966"
            }
          },
          "metadata": {
            "tags": []
          }
        },
        {
          "output_type": "display_data",
          "data": {
            "text/plain": [
              "  0%|          | 0/258 [00:00<?, ?it/s]"
            ],
            "application/vnd.jupyter.widget-view+json": {
              "version_major": 2,
              "version_minor": 0,
              "model_id": "d928ab9d69bb4f0a91568a53780695a3"
            }
          },
          "metadata": {
            "tags": []
          }
        },
        {
          "output_type": "display_data",
          "data": {
            "text/plain": [
              "  0%|          | 0/258 [00:00<?, ?it/s]"
            ],
            "application/vnd.jupyter.widget-view+json": {
              "version_major": 2,
              "version_minor": 0,
              "model_id": "52a30f2dc64745f080ccca3cc9fae959"
            }
          },
          "metadata": {
            "tags": []
          }
        },
        {
          "output_type": "display_data",
          "data": {
            "text/plain": [
              "  0%|          | 0/258 [00:00<?, ?it/s]"
            ],
            "application/vnd.jupyter.widget-view+json": {
              "version_major": 2,
              "version_minor": 0,
              "model_id": "cab67a3c3c4e47789bc3ebe61ad09819"
            }
          },
          "metadata": {
            "tags": []
          }
        },
        {
          "output_type": "display_data",
          "data": {
            "text/plain": [
              "  0%|          | 0/258 [00:00<?, ?it/s]"
            ],
            "application/vnd.jupyter.widget-view+json": {
              "version_major": 2,
              "version_minor": 0,
              "model_id": "b58acf17ed6e4cff8b1ff0bd9f22fa3b"
            }
          },
          "metadata": {
            "tags": []
          }
        },
        {
          "output_type": "display_data",
          "data": {
            "text/plain": [
              "  0%|          | 0/258 [00:00<?, ?it/s]"
            ],
            "application/vnd.jupyter.widget-view+json": {
              "version_major": 2,
              "version_minor": 0,
              "model_id": "5546d31a0d4347979ef89c7d406ccb03"
            }
          },
          "metadata": {
            "tags": []
          }
        },
        {
          "output_type": "display_data",
          "data": {
            "text/plain": [
              "  0%|          | 0/258 [00:00<?, ?it/s]"
            ],
            "application/vnd.jupyter.widget-view+json": {
              "version_major": 2,
              "version_minor": 0,
              "model_id": "bbd0eda545684d2db4ff0058d2788b99"
            }
          },
          "metadata": {
            "tags": []
          }
        },
        {
          "output_type": "display_data",
          "data": {
            "text/plain": [
              "  0%|          | 0/258 [00:00<?, ?it/s]"
            ],
            "application/vnd.jupyter.widget-view+json": {
              "version_major": 2,
              "version_minor": 0,
              "model_id": "4d4e9cb86ed2482cb34d6b79476359ba"
            }
          },
          "metadata": {
            "tags": []
          }
        },
        {
          "output_type": "display_data",
          "data": {
            "text/plain": [
              "  0%|          | 0/258 [00:00<?, ?it/s]"
            ],
            "application/vnd.jupyter.widget-view+json": {
              "version_major": 2,
              "version_minor": 0,
              "model_id": "6ce4beb12cd74fd795ac2659a58251c4"
            }
          },
          "metadata": {
            "tags": []
          }
        },
        {
          "output_type": "display_data",
          "data": {
            "text/plain": [
              "  0%|          | 0/258 [00:00<?, ?it/s]"
            ],
            "application/vnd.jupyter.widget-view+json": {
              "version_major": 2,
              "version_minor": 0,
              "model_id": "59299e6674b9464e9b85c657d52e5798"
            }
          },
          "metadata": {
            "tags": []
          }
        },
        {
          "output_type": "display_data",
          "data": {
            "text/plain": [
              "  0%|          | 0/258 [00:00<?, ?it/s]"
            ],
            "application/vnd.jupyter.widget-view+json": {
              "version_major": 2,
              "version_minor": 0,
              "model_id": "c6b767b75a2e400eb5acd1df80769052"
            }
          },
          "metadata": {
            "tags": []
          }
        },
        {
          "output_type": "display_data",
          "data": {
            "text/plain": [
              "  0%|          | 0/258 [00:00<?, ?it/s]"
            ],
            "application/vnd.jupyter.widget-view+json": {
              "version_major": 2,
              "version_minor": 0,
              "model_id": "f781dd4bb376426c93fecf100136573d"
            }
          },
          "metadata": {
            "tags": []
          }
        },
        {
          "output_type": "display_data",
          "data": {
            "text/plain": [
              "  0%|          | 0/258 [00:00<?, ?it/s]"
            ],
            "application/vnd.jupyter.widget-view+json": {
              "version_major": 2,
              "version_minor": 0,
              "model_id": "5242974750514287a64a1a450874b54d"
            }
          },
          "metadata": {
            "tags": []
          }
        },
        {
          "output_type": "display_data",
          "data": {
            "text/plain": [
              "  0%|          | 0/258 [00:00<?, ?it/s]"
            ],
            "application/vnd.jupyter.widget-view+json": {
              "version_major": 2,
              "version_minor": 0,
              "model_id": "88cbe0e5b71c4a668f679e7502ffab2d"
            }
          },
          "metadata": {
            "tags": []
          }
        },
        {
          "output_type": "display_data",
          "data": {
            "text/plain": [
              "  0%|          | 0/258 [00:00<?, ?it/s]"
            ],
            "application/vnd.jupyter.widget-view+json": {
              "version_major": 2,
              "version_minor": 0,
              "model_id": "d1a30182a40f40dda2a0206ec3a6a2f5"
            }
          },
          "metadata": {
            "tags": []
          }
        },
        {
          "output_type": "display_data",
          "data": {
            "text/plain": [
              "  0%|          | 0/258 [00:00<?, ?it/s]"
            ],
            "application/vnd.jupyter.widget-view+json": {
              "version_major": 2,
              "version_minor": 0,
              "model_id": "f9e5e1fb4d1a42b082c88b2dde00a9af"
            }
          },
          "metadata": {
            "tags": []
          }
        },
        {
          "output_type": "display_data",
          "data": {
            "text/plain": [
              "  0%|          | 0/258 [00:00<?, ?it/s]"
            ],
            "application/vnd.jupyter.widget-view+json": {
              "version_major": 2,
              "version_minor": 0,
              "model_id": "e55feeb6c6984af1be166dc99cb91b0c"
            }
          },
          "metadata": {
            "tags": []
          }
        },
        {
          "output_type": "display_data",
          "data": {
            "text/plain": [
              "  0%|          | 0/258 [00:00<?, ?it/s]"
            ],
            "application/vnd.jupyter.widget-view+json": {
              "version_major": 2,
              "version_minor": 0,
              "model_id": "2e7e9059e42348a4afbd2bd7792c73dc"
            }
          },
          "metadata": {
            "tags": []
          }
        },
        {
          "output_type": "display_data",
          "data": {
            "text/plain": [
              "  0%|          | 0/258 [00:00<?, ?it/s]"
            ],
            "application/vnd.jupyter.widget-view+json": {
              "version_major": 2,
              "version_minor": 0,
              "model_id": "7b8e3578d68c4ccf9fb6132030a49c5c"
            }
          },
          "metadata": {
            "tags": []
          }
        },
        {
          "output_type": "display_data",
          "data": {
            "text/plain": [
              "  0%|          | 0/258 [00:00<?, ?it/s]"
            ],
            "application/vnd.jupyter.widget-view+json": {
              "version_major": 2,
              "version_minor": 0,
              "model_id": "bf6c46b9359546b3b0186af0bc56e2e4"
            }
          },
          "metadata": {
            "tags": []
          }
        },
        {
          "output_type": "display_data",
          "data": {
            "text/plain": [
              "  0%|          | 0/258 [00:00<?, ?it/s]"
            ],
            "application/vnd.jupyter.widget-view+json": {
              "version_major": 2,
              "version_minor": 0,
              "model_id": "f9be6cff198b4c02809e5c1512812ead"
            }
          },
          "metadata": {
            "tags": []
          }
        },
        {
          "output_type": "display_data",
          "data": {
            "text/plain": [
              "  0%|          | 0/258 [00:00<?, ?it/s]"
            ],
            "application/vnd.jupyter.widget-view+json": {
              "version_major": 2,
              "version_minor": 0,
              "model_id": "33a0ffb679ab42a2a3d2074aeadf385e"
            }
          },
          "metadata": {
            "tags": []
          }
        },
        {
          "output_type": "display_data",
          "data": {
            "text/plain": [
              "  0%|          | 0/258 [00:00<?, ?it/s]"
            ],
            "application/vnd.jupyter.widget-view+json": {
              "version_major": 2,
              "version_minor": 0,
              "model_id": "f586cddc945b471597c038c90d12910d"
            }
          },
          "metadata": {
            "tags": []
          }
        },
        {
          "output_type": "display_data",
          "data": {
            "text/plain": [
              "  0%|          | 0/258 [00:00<?, ?it/s]"
            ],
            "application/vnd.jupyter.widget-view+json": {
              "version_major": 2,
              "version_minor": 0,
              "model_id": "d460367e54c14be381a1f5429985b806"
            }
          },
          "metadata": {
            "tags": []
          }
        },
        {
          "output_type": "display_data",
          "data": {
            "text/plain": [
              "  0%|          | 0/258 [00:00<?, ?it/s]"
            ],
            "application/vnd.jupyter.widget-view+json": {
              "version_major": 2,
              "version_minor": 0,
              "model_id": "6c8dea7151524cc69d81d603d567d445"
            }
          },
          "metadata": {
            "tags": []
          }
        },
        {
          "output_type": "display_data",
          "data": {
            "text/plain": [
              "  0%|          | 0/258 [00:00<?, ?it/s]"
            ],
            "application/vnd.jupyter.widget-view+json": {
              "version_major": 2,
              "version_minor": 0,
              "model_id": "574e0ed123024dc3b29f5f9b1ccc633e"
            }
          },
          "metadata": {
            "tags": []
          }
        },
        {
          "output_type": "display_data",
          "data": {
            "text/plain": [
              "  0%|          | 0/258 [00:00<?, ?it/s]"
            ],
            "application/vnd.jupyter.widget-view+json": {
              "version_major": 2,
              "version_minor": 0,
              "model_id": "21820d96a32d4b97aa3bbed642a9554b"
            }
          },
          "metadata": {
            "tags": []
          }
        },
        {
          "output_type": "display_data",
          "data": {
            "text/plain": [
              "  0%|          | 0/258 [00:00<?, ?it/s]"
            ],
            "application/vnd.jupyter.widget-view+json": {
              "version_major": 2,
              "version_minor": 0,
              "model_id": "5caa9b439e644abc83477f27eed60e61"
            }
          },
          "metadata": {
            "tags": []
          }
        },
        {
          "output_type": "display_data",
          "data": {
            "text/plain": [
              "  0%|          | 0/258 [00:00<?, ?it/s]"
            ],
            "application/vnd.jupyter.widget-view+json": {
              "version_major": 2,
              "version_minor": 0,
              "model_id": "37bd6cad921643ad942d5f23d142792f"
            }
          },
          "metadata": {
            "tags": []
          }
        },
        {
          "output_type": "display_data",
          "data": {
            "text/plain": [
              "  0%|          | 0/258 [00:00<?, ?it/s]"
            ],
            "application/vnd.jupyter.widget-view+json": {
              "version_major": 2,
              "version_minor": 0,
              "model_id": "667a2a252fc44d1ca7e3c8135d5632d4"
            }
          },
          "metadata": {
            "tags": []
          }
        },
        {
          "output_type": "display_data",
          "data": {
            "text/plain": [
              "  0%|          | 0/258 [00:00<?, ?it/s]"
            ],
            "application/vnd.jupyter.widget-view+json": {
              "version_major": 2,
              "version_minor": 0,
              "model_id": "e7befe4f7521495b91b5519ec8b54c24"
            }
          },
          "metadata": {
            "tags": []
          }
        },
        {
          "output_type": "display_data",
          "data": {
            "text/plain": [
              "  0%|          | 0/258 [00:00<?, ?it/s]"
            ],
            "application/vnd.jupyter.widget-view+json": {
              "version_major": 2,
              "version_minor": 0,
              "model_id": "a5c7fc016ac24dfcb025d197235d2053"
            }
          },
          "metadata": {
            "tags": []
          }
        },
        {
          "output_type": "display_data",
          "data": {
            "text/plain": [
              "  0%|          | 0/258 [00:00<?, ?it/s]"
            ],
            "application/vnd.jupyter.widget-view+json": {
              "version_major": 2,
              "version_minor": 0,
              "model_id": "7ef6e13af2fa40ce8405cabfdcf8dd25"
            }
          },
          "metadata": {
            "tags": []
          }
        },
        {
          "output_type": "display_data",
          "data": {
            "text/plain": [
              "  0%|          | 0/258 [00:00<?, ?it/s]"
            ],
            "application/vnd.jupyter.widget-view+json": {
              "version_major": 2,
              "version_minor": 0,
              "model_id": "a151f3a61ce5459a888e17833639d430"
            }
          },
          "metadata": {
            "tags": []
          }
        },
        {
          "output_type": "display_data",
          "data": {
            "text/plain": [
              "  0%|          | 0/258 [00:00<?, ?it/s]"
            ],
            "application/vnd.jupyter.widget-view+json": {
              "version_major": 2,
              "version_minor": 0,
              "model_id": "b8819ae846794b5a99dc73f38e8f4015"
            }
          },
          "metadata": {
            "tags": []
          }
        },
        {
          "output_type": "display_data",
          "data": {
            "text/plain": [
              "  0%|          | 0/258 [00:00<?, ?it/s]"
            ],
            "application/vnd.jupyter.widget-view+json": {
              "version_major": 2,
              "version_minor": 0,
              "model_id": "5e9103c458044bff8a2a402b283a550c"
            }
          },
          "metadata": {
            "tags": []
          }
        },
        {
          "output_type": "display_data",
          "data": {
            "text/plain": [
              "  0%|          | 0/258 [00:00<?, ?it/s]"
            ],
            "application/vnd.jupyter.widget-view+json": {
              "version_major": 2,
              "version_minor": 0,
              "model_id": "dfffaf42c5d8459a8a2712fae1b5130e"
            }
          },
          "metadata": {
            "tags": []
          }
        },
        {
          "output_type": "display_data",
          "data": {
            "text/plain": [
              "  0%|          | 0/258 [00:00<?, ?it/s]"
            ],
            "application/vnd.jupyter.widget-view+json": {
              "version_major": 2,
              "version_minor": 0,
              "model_id": "bff277f29cbe44069315740c1edd4e7b"
            }
          },
          "metadata": {
            "tags": []
          }
        },
        {
          "output_type": "display_data",
          "data": {
            "text/plain": [
              "  0%|          | 0/258 [00:00<?, ?it/s]"
            ],
            "application/vnd.jupyter.widget-view+json": {
              "version_major": 2,
              "version_minor": 0,
              "model_id": "946cd25fc871433c9218469295b52a9f"
            }
          },
          "metadata": {
            "tags": []
          }
        },
        {
          "output_type": "display_data",
          "data": {
            "text/plain": [
              "  0%|          | 0/258 [00:00<?, ?it/s]"
            ],
            "application/vnd.jupyter.widget-view+json": {
              "version_major": 2,
              "version_minor": 0,
              "model_id": "4fc78b78ca10487096fb83e973f94da1"
            }
          },
          "metadata": {
            "tags": []
          }
        },
        {
          "output_type": "display_data",
          "data": {
            "text/plain": [
              "  0%|          | 0/258 [00:00<?, ?it/s]"
            ],
            "application/vnd.jupyter.widget-view+json": {
              "version_major": 2,
              "version_minor": 0,
              "model_id": "446418762e3e407d80247c87f15fa7a3"
            }
          },
          "metadata": {
            "tags": []
          }
        },
        {
          "output_type": "display_data",
          "data": {
            "text/plain": [
              "  0%|          | 0/258 [00:00<?, ?it/s]"
            ],
            "application/vnd.jupyter.widget-view+json": {
              "version_major": 2,
              "version_minor": 0,
              "model_id": "a1f31dbaf52544f8aa9a611383334b44"
            }
          },
          "metadata": {
            "tags": []
          }
        },
        {
          "output_type": "display_data",
          "data": {
            "text/plain": [
              "  0%|          | 0/258 [00:00<?, ?it/s]"
            ],
            "application/vnd.jupyter.widget-view+json": {
              "version_major": 2,
              "version_minor": 0,
              "model_id": "2e064181ce184cbea2f759d2ad879cc8"
            }
          },
          "metadata": {
            "tags": []
          }
        },
        {
          "output_type": "display_data",
          "data": {
            "text/plain": [
              "  0%|          | 0/258 [00:00<?, ?it/s]"
            ],
            "application/vnd.jupyter.widget-view+json": {
              "version_major": 2,
              "version_minor": 0,
              "model_id": "b75a1f0ed6724deca77c786a147d2dcc"
            }
          },
          "metadata": {
            "tags": []
          }
        },
        {
          "output_type": "display_data",
          "data": {
            "text/plain": [
              "  0%|          | 0/258 [00:00<?, ?it/s]"
            ],
            "application/vnd.jupyter.widget-view+json": {
              "version_major": 2,
              "version_minor": 0,
              "model_id": "3631dabdeec14010a2354f63f3f2a92f"
            }
          },
          "metadata": {
            "tags": []
          }
        },
        {
          "output_type": "display_data",
          "data": {
            "text/plain": [
              "  0%|          | 0/258 [00:00<?, ?it/s]"
            ],
            "application/vnd.jupyter.widget-view+json": {
              "version_major": 2,
              "version_minor": 0,
              "model_id": "4165a044758241188b3579cba736e86b"
            }
          },
          "metadata": {
            "tags": []
          }
        },
        {
          "output_type": "display_data",
          "data": {
            "text/plain": [
              "  0%|          | 0/258 [00:00<?, ?it/s]"
            ],
            "application/vnd.jupyter.widget-view+json": {
              "version_major": 2,
              "version_minor": 0,
              "model_id": "3cc65fd849b24d228294305cc17dabef"
            }
          },
          "metadata": {
            "tags": []
          }
        },
        {
          "output_type": "display_data",
          "data": {
            "text/plain": [
              "  0%|          | 0/258 [00:00<?, ?it/s]"
            ],
            "application/vnd.jupyter.widget-view+json": {
              "version_major": 2,
              "version_minor": 0,
              "model_id": "8f3ca7e6c70046ab90238b0f727c34e9"
            }
          },
          "metadata": {
            "tags": []
          }
        },
        {
          "output_type": "display_data",
          "data": {
            "text/plain": [
              "  0%|          | 0/258 [00:00<?, ?it/s]"
            ],
            "application/vnd.jupyter.widget-view+json": {
              "version_major": 2,
              "version_minor": 0,
              "model_id": "1207f0e52653471aa54d345631228315"
            }
          },
          "metadata": {
            "tags": []
          }
        },
        {
          "output_type": "display_data",
          "data": {
            "text/plain": [
              "  0%|          | 0/258 [00:00<?, ?it/s]"
            ],
            "application/vnd.jupyter.widget-view+json": {
              "version_major": 2,
              "version_minor": 0,
              "model_id": "f7af4f77c3b04210b8b3242584d185b3"
            }
          },
          "metadata": {
            "tags": []
          }
        },
        {
          "output_type": "display_data",
          "data": {
            "text/plain": [
              "  0%|          | 0/258 [00:00<?, ?it/s]"
            ],
            "application/vnd.jupyter.widget-view+json": {
              "version_major": 2,
              "version_minor": 0,
              "model_id": "64f9026a8c544a29b44c25308c3ab58a"
            }
          },
          "metadata": {
            "tags": []
          }
        },
        {
          "output_type": "display_data",
          "data": {
            "text/plain": [
              "  0%|          | 0/258 [00:00<?, ?it/s]"
            ],
            "application/vnd.jupyter.widget-view+json": {
              "version_major": 2,
              "version_minor": 0,
              "model_id": "b59316c486ae4bcbb321bb9bc4ec7e4d"
            }
          },
          "metadata": {
            "tags": []
          }
        },
        {
          "output_type": "display_data",
          "data": {
            "text/plain": [
              "  0%|          | 0/258 [00:00<?, ?it/s]"
            ],
            "application/vnd.jupyter.widget-view+json": {
              "version_major": 2,
              "version_minor": 0,
              "model_id": "b2ca1cfb8f4b4b8c81060bbb6c139824"
            }
          },
          "metadata": {
            "tags": []
          }
        },
        {
          "output_type": "display_data",
          "data": {
            "text/plain": [
              "  0%|          | 0/258 [00:00<?, ?it/s]"
            ],
            "application/vnd.jupyter.widget-view+json": {
              "version_major": 2,
              "version_minor": 0,
              "model_id": "dbc9c901b1ec46ee84593cd55c77f9bd"
            }
          },
          "metadata": {
            "tags": []
          }
        },
        {
          "output_type": "display_data",
          "data": {
            "text/plain": [
              "  0%|          | 0/258 [00:00<?, ?it/s]"
            ],
            "application/vnd.jupyter.widget-view+json": {
              "version_major": 2,
              "version_minor": 0,
              "model_id": "3f1d977d43a24a8f905d788eb6f4efda"
            }
          },
          "metadata": {
            "tags": []
          }
        },
        {
          "output_type": "display_data",
          "data": {
            "text/plain": [
              "  0%|          | 0/258 [00:00<?, ?it/s]"
            ],
            "application/vnd.jupyter.widget-view+json": {
              "version_major": 2,
              "version_minor": 0,
              "model_id": "fbb8dd21140b4da38d9247614ddeddcf"
            }
          },
          "metadata": {
            "tags": []
          }
        },
        {
          "output_type": "display_data",
          "data": {
            "text/plain": [
              "  0%|          | 0/258 [00:00<?, ?it/s]"
            ],
            "application/vnd.jupyter.widget-view+json": {
              "version_major": 2,
              "version_minor": 0,
              "model_id": "cee288ea623f474c97ba36ac89cd1c90"
            }
          },
          "metadata": {
            "tags": []
          }
        },
        {
          "output_type": "display_data",
          "data": {
            "text/plain": [
              "  0%|          | 0/258 [00:00<?, ?it/s]"
            ],
            "application/vnd.jupyter.widget-view+json": {
              "version_major": 2,
              "version_minor": 0,
              "model_id": "2a66a4b988e74a92b5e7c076e382421a"
            }
          },
          "metadata": {
            "tags": []
          }
        },
        {
          "output_type": "display_data",
          "data": {
            "text/plain": [
              "  0%|          | 0/258 [00:00<?, ?it/s]"
            ],
            "application/vnd.jupyter.widget-view+json": {
              "version_major": 2,
              "version_minor": 0,
              "model_id": "71313b94064749669751faad02340280"
            }
          },
          "metadata": {
            "tags": []
          }
        },
        {
          "output_type": "display_data",
          "data": {
            "text/plain": [
              "  0%|          | 0/258 [00:00<?, ?it/s]"
            ],
            "application/vnd.jupyter.widget-view+json": {
              "version_major": 2,
              "version_minor": 0,
              "model_id": "0286c3eee2c640c285d559c16047c087"
            }
          },
          "metadata": {
            "tags": []
          }
        },
        {
          "output_type": "display_data",
          "data": {
            "text/plain": [
              "  0%|          | 0/258 [00:00<?, ?it/s]"
            ],
            "application/vnd.jupyter.widget-view+json": {
              "version_major": 2,
              "version_minor": 0,
              "model_id": "915ec161a2e542ef816a87f3a47d9edd"
            }
          },
          "metadata": {
            "tags": []
          }
        },
        {
          "output_type": "display_data",
          "data": {
            "text/plain": [
              "  0%|          | 0/258 [00:00<?, ?it/s]"
            ],
            "application/vnd.jupyter.widget-view+json": {
              "version_major": 2,
              "version_minor": 0,
              "model_id": "5885771f10c24ad1bc3dc2351bf801f4"
            }
          },
          "metadata": {
            "tags": []
          }
        },
        {
          "output_type": "display_data",
          "data": {
            "text/plain": [
              "  0%|          | 0/258 [00:00<?, ?it/s]"
            ],
            "application/vnd.jupyter.widget-view+json": {
              "version_major": 2,
              "version_minor": 0,
              "model_id": "84ae5bc061dd4ae984f4723c1d649eb2"
            }
          },
          "metadata": {
            "tags": []
          }
        },
        {
          "output_type": "display_data",
          "data": {
            "text/plain": [
              "  0%|          | 0/258 [00:00<?, ?it/s]"
            ],
            "application/vnd.jupyter.widget-view+json": {
              "version_major": 2,
              "version_minor": 0,
              "model_id": "86c031ec5ed64500b67ae99e1ab010a1"
            }
          },
          "metadata": {
            "tags": []
          }
        },
        {
          "output_type": "display_data",
          "data": {
            "text/plain": [
              "  0%|          | 0/258 [00:00<?, ?it/s]"
            ],
            "application/vnd.jupyter.widget-view+json": {
              "version_major": 2,
              "version_minor": 0,
              "model_id": "002150e8099348c499e386481fec1716"
            }
          },
          "metadata": {
            "tags": []
          }
        },
        {
          "output_type": "display_data",
          "data": {
            "text/plain": [
              "  0%|          | 0/258 [00:00<?, ?it/s]"
            ],
            "application/vnd.jupyter.widget-view+json": {
              "version_major": 2,
              "version_minor": 0,
              "model_id": "43f49db90315439687c9a06392957c1f"
            }
          },
          "metadata": {
            "tags": []
          }
        },
        {
          "output_type": "display_data",
          "data": {
            "text/plain": [
              "  0%|          | 0/258 [00:00<?, ?it/s]"
            ],
            "application/vnd.jupyter.widget-view+json": {
              "version_major": 2,
              "version_minor": 0,
              "model_id": "73a05bba76b4469696ed7a5c17e4ef94"
            }
          },
          "metadata": {
            "tags": []
          }
        },
        {
          "output_type": "display_data",
          "data": {
            "text/plain": [
              "  0%|          | 0/258 [00:00<?, ?it/s]"
            ],
            "application/vnd.jupyter.widget-view+json": {
              "version_major": 2,
              "version_minor": 0,
              "model_id": "85e0ab1348f64480b80dec6a5f2d29e4"
            }
          },
          "metadata": {
            "tags": []
          }
        },
        {
          "output_type": "display_data",
          "data": {
            "text/plain": [
              "  0%|          | 0/258 [00:00<?, ?it/s]"
            ],
            "application/vnd.jupyter.widget-view+json": {
              "version_major": 2,
              "version_minor": 0,
              "model_id": "acd2a0eb4dec4b9396205613ff31b6ee"
            }
          },
          "metadata": {
            "tags": []
          }
        },
        {
          "output_type": "display_data",
          "data": {
            "text/plain": [
              "  0%|          | 0/258 [00:00<?, ?it/s]"
            ],
            "application/vnd.jupyter.widget-view+json": {
              "version_major": 2,
              "version_minor": 0,
              "model_id": "15e20aac71364245be5244b268b618cb"
            }
          },
          "metadata": {
            "tags": []
          }
        },
        {
          "output_type": "display_data",
          "data": {
            "text/plain": [
              "  0%|          | 0/258 [00:00<?, ?it/s]"
            ],
            "application/vnd.jupyter.widget-view+json": {
              "version_major": 2,
              "version_minor": 0,
              "model_id": "d322452685ee4e87860a49b7defa3455"
            }
          },
          "metadata": {
            "tags": []
          }
        },
        {
          "output_type": "display_data",
          "data": {
            "text/plain": [
              "  0%|          | 0/258 [00:00<?, ?it/s]"
            ],
            "application/vnd.jupyter.widget-view+json": {
              "version_major": 2,
              "version_minor": 0,
              "model_id": "31029178c9f14740ae2daa471f311ea1"
            }
          },
          "metadata": {
            "tags": []
          }
        },
        {
          "output_type": "display_data",
          "data": {
            "text/plain": [
              "  0%|          | 0/258 [00:00<?, ?it/s]"
            ],
            "application/vnd.jupyter.widget-view+json": {
              "version_major": 2,
              "version_minor": 0,
              "model_id": "217216b40bcb4060af39e4edcc2e0fc2"
            }
          },
          "metadata": {
            "tags": []
          }
        },
        {
          "output_type": "display_data",
          "data": {
            "text/plain": [
              "  0%|          | 0/258 [00:00<?, ?it/s]"
            ],
            "application/vnd.jupyter.widget-view+json": {
              "version_major": 2,
              "version_minor": 0,
              "model_id": "38250059589c451a9c66f28a1075e4d8"
            }
          },
          "metadata": {
            "tags": []
          }
        },
        {
          "output_type": "display_data",
          "data": {
            "text/plain": [
              "  0%|          | 0/258 [00:00<?, ?it/s]"
            ],
            "application/vnd.jupyter.widget-view+json": {
              "version_major": 2,
              "version_minor": 0,
              "model_id": "defb02953fd145a0b77024c2efa20954"
            }
          },
          "metadata": {
            "tags": []
          }
        },
        {
          "output_type": "display_data",
          "data": {
            "text/plain": [
              "  0%|          | 0/258 [00:00<?, ?it/s]"
            ],
            "application/vnd.jupyter.widget-view+json": {
              "version_major": 2,
              "version_minor": 0,
              "model_id": "7c50850491d245fdb8214a8d23041fd8"
            }
          },
          "metadata": {
            "tags": []
          }
        },
        {
          "output_type": "display_data",
          "data": {
            "text/plain": [
              "  0%|          | 0/258 [00:00<?, ?it/s]"
            ],
            "application/vnd.jupyter.widget-view+json": {
              "version_major": 2,
              "version_minor": 0,
              "model_id": "eacf0bb925024abe8d9a20065aa6445a"
            }
          },
          "metadata": {
            "tags": []
          }
        },
        {
          "output_type": "display_data",
          "data": {
            "text/plain": [
              "  0%|          | 0/258 [00:00<?, ?it/s]"
            ],
            "application/vnd.jupyter.widget-view+json": {
              "version_major": 2,
              "version_minor": 0,
              "model_id": "bc7ba5c75d894117861a76001f20bdfe"
            }
          },
          "metadata": {
            "tags": []
          }
        },
        {
          "output_type": "display_data",
          "data": {
            "text/plain": [
              "  0%|          | 0/258 [00:00<?, ?it/s]"
            ],
            "application/vnd.jupyter.widget-view+json": {
              "version_major": 2,
              "version_minor": 0,
              "model_id": "2ccd645fb14740e2bb6f846989941a0a"
            }
          },
          "metadata": {
            "tags": []
          }
        },
        {
          "output_type": "display_data",
          "data": {
            "text/plain": [
              "  0%|          | 0/258 [00:00<?, ?it/s]"
            ],
            "application/vnd.jupyter.widget-view+json": {
              "version_major": 2,
              "version_minor": 0,
              "model_id": "6020f3f8f106452982c16e15b0742d30"
            }
          },
          "metadata": {
            "tags": []
          }
        },
        {
          "output_type": "display_data",
          "data": {
            "text/plain": [
              "  0%|          | 0/258 [00:00<?, ?it/s]"
            ],
            "application/vnd.jupyter.widget-view+json": {
              "version_major": 2,
              "version_minor": 0,
              "model_id": "dec2d209f8ff4ce4a29095d86c094eba"
            }
          },
          "metadata": {
            "tags": []
          }
        },
        {
          "output_type": "display_data",
          "data": {
            "text/plain": [
              "  0%|          | 0/258 [00:00<?, ?it/s]"
            ],
            "application/vnd.jupyter.widget-view+json": {
              "version_major": 2,
              "version_minor": 0,
              "model_id": "bb24d9bd97ca4f04bc266016e0d6d14c"
            }
          },
          "metadata": {
            "tags": []
          }
        },
        {
          "output_type": "display_data",
          "data": {
            "text/plain": [
              "  0%|          | 0/258 [00:00<?, ?it/s]"
            ],
            "application/vnd.jupyter.widget-view+json": {
              "version_major": 2,
              "version_minor": 0,
              "model_id": "a45ff4c230f04f5194b998782a3b4f90"
            }
          },
          "metadata": {
            "tags": []
          }
        },
        {
          "output_type": "display_data",
          "data": {
            "text/plain": [
              "  0%|          | 0/258 [00:00<?, ?it/s]"
            ],
            "application/vnd.jupyter.widget-view+json": {
              "version_major": 2,
              "version_minor": 0,
              "model_id": "5c08ce62c6054d2ca836d87c2f8a84b7"
            }
          },
          "metadata": {
            "tags": []
          }
        },
        {
          "output_type": "display_data",
          "data": {
            "text/plain": [
              "  0%|          | 0/258 [00:00<?, ?it/s]"
            ],
            "application/vnd.jupyter.widget-view+json": {
              "version_major": 2,
              "version_minor": 0,
              "model_id": "6e57f120422f47df94570def71bdf198"
            }
          },
          "metadata": {
            "tags": []
          }
        },
        {
          "output_type": "display_data",
          "data": {
            "text/plain": [
              "  0%|          | 0/258 [00:00<?, ?it/s]"
            ],
            "application/vnd.jupyter.widget-view+json": {
              "version_major": 2,
              "version_minor": 0,
              "model_id": "39659407dfa747dcb2819d3ff7ca1f2c"
            }
          },
          "metadata": {
            "tags": []
          }
        },
        {
          "output_type": "display_data",
          "data": {
            "text/plain": [
              "  0%|          | 0/258 [00:00<?, ?it/s]"
            ],
            "application/vnd.jupyter.widget-view+json": {
              "version_major": 2,
              "version_minor": 0,
              "model_id": "f0199ac0591b47ea869c30a8c4e2f0c0"
            }
          },
          "metadata": {
            "tags": []
          }
        },
        {
          "output_type": "display_data",
          "data": {
            "text/plain": [
              "  0%|          | 0/258 [00:00<?, ?it/s]"
            ],
            "application/vnd.jupyter.widget-view+json": {
              "version_major": 2,
              "version_minor": 0,
              "model_id": "c4c63f81fe604c83867f7dc76893e98a"
            }
          },
          "metadata": {
            "tags": []
          }
        },
        {
          "output_type": "display_data",
          "data": {
            "text/plain": [
              "  0%|          | 0/258 [00:00<?, ?it/s]"
            ],
            "application/vnd.jupyter.widget-view+json": {
              "version_major": 2,
              "version_minor": 0,
              "model_id": "f420697fa4cc4039b8f10611bd0124b5"
            }
          },
          "metadata": {
            "tags": []
          }
        },
        {
          "output_type": "display_data",
          "data": {
            "text/plain": [
              "  0%|          | 0/258 [00:00<?, ?it/s]"
            ],
            "application/vnd.jupyter.widget-view+json": {
              "version_major": 2,
              "version_minor": 0,
              "model_id": "6b5df9aced27462faad2011fcca5792a"
            }
          },
          "metadata": {
            "tags": []
          }
        },
        {
          "output_type": "display_data",
          "data": {
            "text/plain": [
              "  0%|          | 0/258 [00:00<?, ?it/s]"
            ],
            "application/vnd.jupyter.widget-view+json": {
              "version_major": 2,
              "version_minor": 0,
              "model_id": "398ab196b5684d78b93d9a1b8600c039"
            }
          },
          "metadata": {
            "tags": []
          }
        },
        {
          "output_type": "display_data",
          "data": {
            "text/plain": [
              "  0%|          | 0/258 [00:00<?, ?it/s]"
            ],
            "application/vnd.jupyter.widget-view+json": {
              "version_major": 2,
              "version_minor": 0,
              "model_id": "58d2078c1f3d42589376df7c4873ee59"
            }
          },
          "metadata": {
            "tags": []
          }
        },
        {
          "output_type": "display_data",
          "data": {
            "text/plain": [
              "  0%|          | 0/258 [00:00<?, ?it/s]"
            ],
            "application/vnd.jupyter.widget-view+json": {
              "version_major": 2,
              "version_minor": 0,
              "model_id": "159330995749434ca43996ac30865afa"
            }
          },
          "metadata": {
            "tags": []
          }
        },
        {
          "output_type": "display_data",
          "data": {
            "text/plain": [
              "  0%|          | 0/258 [00:00<?, ?it/s]"
            ],
            "application/vnd.jupyter.widget-view+json": {
              "version_major": 2,
              "version_minor": 0,
              "model_id": "27c9e76e8cfb4e53a6f8cccfa5cf71af"
            }
          },
          "metadata": {
            "tags": []
          }
        },
        {
          "output_type": "display_data",
          "data": {
            "text/plain": [
              "  0%|          | 0/258 [00:00<?, ?it/s]"
            ],
            "application/vnd.jupyter.widget-view+json": {
              "version_major": 2,
              "version_minor": 0,
              "model_id": "167c70435f84416cbd92c57a16ebea88"
            }
          },
          "metadata": {
            "tags": []
          }
        },
        {
          "output_type": "display_data",
          "data": {
            "text/plain": [
              "  0%|          | 0/258 [00:00<?, ?it/s]"
            ],
            "application/vnd.jupyter.widget-view+json": {
              "version_major": 2,
              "version_minor": 0,
              "model_id": "c3c887e63437493788c2f1dbc5f907ef"
            }
          },
          "metadata": {
            "tags": []
          }
        },
        {
          "output_type": "display_data",
          "data": {
            "text/plain": [
              "  0%|          | 0/258 [00:00<?, ?it/s]"
            ],
            "application/vnd.jupyter.widget-view+json": {
              "version_major": 2,
              "version_minor": 0,
              "model_id": "3768cfffa623401b9ec9d635bceacc43"
            }
          },
          "metadata": {
            "tags": []
          }
        },
        {
          "output_type": "display_data",
          "data": {
            "text/plain": [
              "  0%|          | 0/258 [00:00<?, ?it/s]"
            ],
            "application/vnd.jupyter.widget-view+json": {
              "version_major": 2,
              "version_minor": 0,
              "model_id": "a7b792490e154d7a9719b397c7f26bf7"
            }
          },
          "metadata": {
            "tags": []
          }
        },
        {
          "output_type": "display_data",
          "data": {
            "text/plain": [
              "  0%|          | 0/258 [00:00<?, ?it/s]"
            ],
            "application/vnd.jupyter.widget-view+json": {
              "version_major": 2,
              "version_minor": 0,
              "model_id": "ff0c498829504bebb29fcb502786ae87"
            }
          },
          "metadata": {
            "tags": []
          }
        },
        {
          "output_type": "display_data",
          "data": {
            "text/plain": [
              "  0%|          | 0/258 [00:00<?, ?it/s]"
            ],
            "application/vnd.jupyter.widget-view+json": {
              "version_major": 2,
              "version_minor": 0,
              "model_id": "bc0beed801574ad183bbafa00dbe75c1"
            }
          },
          "metadata": {
            "tags": []
          }
        },
        {
          "output_type": "display_data",
          "data": {
            "text/plain": [
              "  0%|          | 0/258 [00:00<?, ?it/s]"
            ],
            "application/vnd.jupyter.widget-view+json": {
              "version_major": 2,
              "version_minor": 0,
              "model_id": "fda1812fae52424a9e642c91c3cdd605"
            }
          },
          "metadata": {
            "tags": []
          }
        },
        {
          "output_type": "display_data",
          "data": {
            "text/plain": [
              "  0%|          | 0/258 [00:00<?, ?it/s]"
            ],
            "application/vnd.jupyter.widget-view+json": {
              "version_major": 2,
              "version_minor": 0,
              "model_id": "22970a15c82a49b09db118e5006a4548"
            }
          },
          "metadata": {
            "tags": []
          }
        },
        {
          "output_type": "display_data",
          "data": {
            "text/plain": [
              "  0%|          | 0/258 [00:00<?, ?it/s]"
            ],
            "application/vnd.jupyter.widget-view+json": {
              "version_major": 2,
              "version_minor": 0,
              "model_id": "ee48db16370e4daea27a700f288703ce"
            }
          },
          "metadata": {
            "tags": []
          }
        },
        {
          "output_type": "display_data",
          "data": {
            "text/plain": [
              "  0%|          | 0/258 [00:00<?, ?it/s]"
            ],
            "application/vnd.jupyter.widget-view+json": {
              "version_major": 2,
              "version_minor": 0,
              "model_id": "008d217412254d549c242a79e3b784ab"
            }
          },
          "metadata": {
            "tags": []
          }
        },
        {
          "output_type": "display_data",
          "data": {
            "text/plain": [
              "  0%|          | 0/258 [00:00<?, ?it/s]"
            ],
            "application/vnd.jupyter.widget-view+json": {
              "version_major": 2,
              "version_minor": 0,
              "model_id": "ae318c7197a1462891e909724058bb52"
            }
          },
          "metadata": {
            "tags": []
          }
        },
        {
          "output_type": "display_data",
          "data": {
            "text/plain": [
              "  0%|          | 0/258 [00:00<?, ?it/s]"
            ],
            "application/vnd.jupyter.widget-view+json": {
              "version_major": 2,
              "version_minor": 0,
              "model_id": "db73977d95f145748d6f585fbe4f2cbe"
            }
          },
          "metadata": {
            "tags": []
          }
        },
        {
          "output_type": "display_data",
          "data": {
            "text/plain": [
              "  0%|          | 0/258 [00:00<?, ?it/s]"
            ],
            "application/vnd.jupyter.widget-view+json": {
              "version_major": 2,
              "version_minor": 0,
              "model_id": "66bf290c6b0c4fc4ad401722795f8dee"
            }
          },
          "metadata": {
            "tags": []
          }
        },
        {
          "output_type": "display_data",
          "data": {
            "text/plain": [
              "  0%|          | 0/258 [00:00<?, ?it/s]"
            ],
            "application/vnd.jupyter.widget-view+json": {
              "version_major": 2,
              "version_minor": 0,
              "model_id": "bbf9fa565fda43a59c31e84365eec167"
            }
          },
          "metadata": {
            "tags": []
          }
        },
        {
          "output_type": "display_data",
          "data": {
            "text/plain": [
              "  0%|          | 0/258 [00:00<?, ?it/s]"
            ],
            "application/vnd.jupyter.widget-view+json": {
              "version_major": 2,
              "version_minor": 0,
              "model_id": "608a7cde049b4ef5ae13f6cd4722006c"
            }
          },
          "metadata": {
            "tags": []
          }
        },
        {
          "output_type": "display_data",
          "data": {
            "text/plain": [
              "  0%|          | 0/258 [00:00<?, ?it/s]"
            ],
            "application/vnd.jupyter.widget-view+json": {
              "version_major": 2,
              "version_minor": 0,
              "model_id": "77c0aea08fd74d718815e3bb043fa245"
            }
          },
          "metadata": {
            "tags": []
          }
        },
        {
          "output_type": "display_data",
          "data": {
            "text/plain": [
              "  0%|          | 0/258 [00:00<?, ?it/s]"
            ],
            "application/vnd.jupyter.widget-view+json": {
              "version_major": 2,
              "version_minor": 0,
              "model_id": "724d7e6a67b84b0a945a2389493d3164"
            }
          },
          "metadata": {
            "tags": []
          }
        },
        {
          "output_type": "display_data",
          "data": {
            "text/plain": [
              "  0%|          | 0/258 [00:00<?, ?it/s]"
            ],
            "application/vnd.jupyter.widget-view+json": {
              "version_major": 2,
              "version_minor": 0,
              "model_id": "15fb49e7c2d04da28e366b222657bd1e"
            }
          },
          "metadata": {
            "tags": []
          }
        },
        {
          "output_type": "display_data",
          "data": {
            "text/plain": [
              "  0%|          | 0/258 [00:00<?, ?it/s]"
            ],
            "application/vnd.jupyter.widget-view+json": {
              "version_major": 2,
              "version_minor": 0,
              "model_id": "1179f37fef4a4de39d8b5f4cf0aedfff"
            }
          },
          "metadata": {
            "tags": []
          }
        },
        {
          "output_type": "display_data",
          "data": {
            "text/plain": [
              "  0%|          | 0/258 [00:00<?, ?it/s]"
            ],
            "application/vnd.jupyter.widget-view+json": {
              "version_major": 2,
              "version_minor": 0,
              "model_id": "575dc5e2d6484c10b78bd483c982c255"
            }
          },
          "metadata": {
            "tags": []
          }
        },
        {
          "output_type": "display_data",
          "data": {
            "text/plain": [
              "  0%|          | 0/258 [00:00<?, ?it/s]"
            ],
            "application/vnd.jupyter.widget-view+json": {
              "version_major": 2,
              "version_minor": 0,
              "model_id": "f64640cd5da04166bc96ab09c5cdbb16"
            }
          },
          "metadata": {
            "tags": []
          }
        },
        {
          "output_type": "display_data",
          "data": {
            "text/plain": [
              "  0%|          | 0/258 [00:00<?, ?it/s]"
            ],
            "application/vnd.jupyter.widget-view+json": {
              "version_major": 2,
              "version_minor": 0,
              "model_id": "c4f4e4ae8f6f4547a9379cadbf69b557"
            }
          },
          "metadata": {
            "tags": []
          }
        },
        {
          "output_type": "display_data",
          "data": {
            "text/plain": [
              "  0%|          | 0/258 [00:00<?, ?it/s]"
            ],
            "application/vnd.jupyter.widget-view+json": {
              "version_major": 2,
              "version_minor": 0,
              "model_id": "2fd2bacd98924c02a60ba0b78bea3e3e"
            }
          },
          "metadata": {
            "tags": []
          }
        },
        {
          "output_type": "display_data",
          "data": {
            "text/plain": [
              "  0%|          | 0/258 [00:00<?, ?it/s]"
            ],
            "application/vnd.jupyter.widget-view+json": {
              "version_major": 2,
              "version_minor": 0,
              "model_id": "6c70c0e0e9b84804a452e622c9762ea8"
            }
          },
          "metadata": {
            "tags": []
          }
        },
        {
          "output_type": "display_data",
          "data": {
            "text/plain": [
              "  0%|          | 0/258 [00:00<?, ?it/s]"
            ],
            "application/vnd.jupyter.widget-view+json": {
              "version_major": 2,
              "version_minor": 0,
              "model_id": "56ca384a64f54b199c6e6a143b3596bb"
            }
          },
          "metadata": {
            "tags": []
          }
        },
        {
          "output_type": "display_data",
          "data": {
            "text/plain": [
              "  0%|          | 0/258 [00:00<?, ?it/s]"
            ],
            "application/vnd.jupyter.widget-view+json": {
              "version_major": 2,
              "version_minor": 0,
              "model_id": "1033ad879b75403884b5a9d628c90fee"
            }
          },
          "metadata": {
            "tags": []
          }
        },
        {
          "output_type": "display_data",
          "data": {
            "text/plain": [
              "  0%|          | 0/258 [00:00<?, ?it/s]"
            ],
            "application/vnd.jupyter.widget-view+json": {
              "version_major": 2,
              "version_minor": 0,
              "model_id": "292ad24159e049628ec02ee022aaee21"
            }
          },
          "metadata": {
            "tags": []
          }
        },
        {
          "output_type": "display_data",
          "data": {
            "text/plain": [
              "  0%|          | 0/258 [00:00<?, ?it/s]"
            ],
            "application/vnd.jupyter.widget-view+json": {
              "version_major": 2,
              "version_minor": 0,
              "model_id": "0ab66b58fe6e457197539ed4fb13030f"
            }
          },
          "metadata": {
            "tags": []
          }
        },
        {
          "output_type": "display_data",
          "data": {
            "text/plain": [
              "  0%|          | 0/258 [00:00<?, ?it/s]"
            ],
            "application/vnd.jupyter.widget-view+json": {
              "version_major": 2,
              "version_minor": 0,
              "model_id": "ebba63b6339849848d6686e67c296aef"
            }
          },
          "metadata": {
            "tags": []
          }
        },
        {
          "output_type": "display_data",
          "data": {
            "text/plain": [
              "  0%|          | 0/258 [00:00<?, ?it/s]"
            ],
            "application/vnd.jupyter.widget-view+json": {
              "version_major": 2,
              "version_minor": 0,
              "model_id": "be53cde350774861a569f3a40764ca56"
            }
          },
          "metadata": {
            "tags": []
          }
        },
        {
          "output_type": "display_data",
          "data": {
            "text/plain": [
              "  0%|          | 0/258 [00:00<?, ?it/s]"
            ],
            "application/vnd.jupyter.widget-view+json": {
              "version_major": 2,
              "version_minor": 0,
              "model_id": "3c0ad701587c491abb06c91476409730"
            }
          },
          "metadata": {
            "tags": []
          }
        },
        {
          "output_type": "display_data",
          "data": {
            "text/plain": [
              "  0%|          | 0/258 [00:00<?, ?it/s]"
            ],
            "application/vnd.jupyter.widget-view+json": {
              "version_major": 2,
              "version_minor": 0,
              "model_id": "a97fea578a074397b428c41d85554d10"
            }
          },
          "metadata": {
            "tags": []
          }
        },
        {
          "output_type": "display_data",
          "data": {
            "text/plain": [
              "  0%|          | 0/258 [00:00<?, ?it/s]"
            ],
            "application/vnd.jupyter.widget-view+json": {
              "version_major": 2,
              "version_minor": 0,
              "model_id": "37d2a22623234d99982499371516da18"
            }
          },
          "metadata": {
            "tags": []
          }
        },
        {
          "output_type": "display_data",
          "data": {
            "text/plain": [
              "  0%|          | 0/258 [00:00<?, ?it/s]"
            ],
            "application/vnd.jupyter.widget-view+json": {
              "version_major": 2,
              "version_minor": 0,
              "model_id": "00398ee3adc14570bbf03aeed5acd710"
            }
          },
          "metadata": {
            "tags": []
          }
        },
        {
          "output_type": "display_data",
          "data": {
            "text/plain": [
              "  0%|          | 0/258 [00:00<?, ?it/s]"
            ],
            "application/vnd.jupyter.widget-view+json": {
              "version_major": 2,
              "version_minor": 0,
              "model_id": "4f9f4e320ea444b583f28abfbe7693f8"
            }
          },
          "metadata": {
            "tags": []
          }
        },
        {
          "output_type": "display_data",
          "data": {
            "text/plain": [
              "  0%|          | 0/258 [00:00<?, ?it/s]"
            ],
            "application/vnd.jupyter.widget-view+json": {
              "version_major": 2,
              "version_minor": 0,
              "model_id": "e0989023e52449b6957a5708a64a5e6b"
            }
          },
          "metadata": {
            "tags": []
          }
        },
        {
          "output_type": "display_data",
          "data": {
            "text/plain": [
              "  0%|          | 0/258 [00:00<?, ?it/s]"
            ],
            "application/vnd.jupyter.widget-view+json": {
              "version_major": 2,
              "version_minor": 0,
              "model_id": "cd0c10c60db248fdb2e9845fa3fd3fc1"
            }
          },
          "metadata": {
            "tags": []
          }
        },
        {
          "output_type": "display_data",
          "data": {
            "text/plain": [
              "  0%|          | 0/258 [00:00<?, ?it/s]"
            ],
            "application/vnd.jupyter.widget-view+json": {
              "version_major": 2,
              "version_minor": 0,
              "model_id": "fc214327fa3d4e62980aa4d33158c303"
            }
          },
          "metadata": {
            "tags": []
          }
        },
        {
          "output_type": "display_data",
          "data": {
            "text/plain": [
              "  0%|          | 0/258 [00:00<?, ?it/s]"
            ],
            "application/vnd.jupyter.widget-view+json": {
              "version_major": 2,
              "version_minor": 0,
              "model_id": "a7917ae09d7644559636803fbd46baa7"
            }
          },
          "metadata": {
            "tags": []
          }
        },
        {
          "output_type": "display_data",
          "data": {
            "text/plain": [
              "  0%|          | 0/258 [00:00<?, ?it/s]"
            ],
            "application/vnd.jupyter.widget-view+json": {
              "version_major": 2,
              "version_minor": 0,
              "model_id": "1703c99399b84ea482414f1f6a794489"
            }
          },
          "metadata": {
            "tags": []
          }
        },
        {
          "output_type": "display_data",
          "data": {
            "text/plain": [
              "  0%|          | 0/258 [00:00<?, ?it/s]"
            ],
            "application/vnd.jupyter.widget-view+json": {
              "version_major": 2,
              "version_minor": 0,
              "model_id": "1e77c2adff5a49f182722230f4d2884f"
            }
          },
          "metadata": {
            "tags": []
          }
        },
        {
          "output_type": "display_data",
          "data": {
            "text/plain": [
              "  0%|          | 0/258 [00:00<?, ?it/s]"
            ],
            "application/vnd.jupyter.widget-view+json": {
              "version_major": 2,
              "version_minor": 0,
              "model_id": "9ea3e31bcf0740b9b614589d161dbab5"
            }
          },
          "metadata": {
            "tags": []
          }
        },
        {
          "output_type": "display_data",
          "data": {
            "text/plain": [
              "  0%|          | 0/258 [00:00<?, ?it/s]"
            ],
            "application/vnd.jupyter.widget-view+json": {
              "version_major": 2,
              "version_minor": 0,
              "model_id": "1edeac094234431f8377202e91d131cb"
            }
          },
          "metadata": {
            "tags": []
          }
        },
        {
          "output_type": "display_data",
          "data": {
            "text/plain": [
              "  0%|          | 0/258 [00:00<?, ?it/s]"
            ],
            "application/vnd.jupyter.widget-view+json": {
              "version_major": 2,
              "version_minor": 0,
              "model_id": "4aa51b6ebe1243bc9cd7f18f831eef45"
            }
          },
          "metadata": {
            "tags": []
          }
        },
        {
          "output_type": "display_data",
          "data": {
            "text/plain": [
              "  0%|          | 0/258 [00:00<?, ?it/s]"
            ],
            "application/vnd.jupyter.widget-view+json": {
              "version_major": 2,
              "version_minor": 0,
              "model_id": "c41676cfcbd44cd5843326abb6ab661a"
            }
          },
          "metadata": {
            "tags": []
          }
        },
        {
          "output_type": "display_data",
          "data": {
            "text/plain": [
              "  0%|          | 0/258 [00:00<?, ?it/s]"
            ],
            "application/vnd.jupyter.widget-view+json": {
              "version_major": 2,
              "version_minor": 0,
              "model_id": "ec1dd0bbbb2e4e4daaffd5245dd2655d"
            }
          },
          "metadata": {
            "tags": []
          }
        },
        {
          "output_type": "display_data",
          "data": {
            "text/plain": [
              "  0%|          | 0/258 [00:00<?, ?it/s]"
            ],
            "application/vnd.jupyter.widget-view+json": {
              "version_major": 2,
              "version_minor": 0,
              "model_id": "6fce0b7699ae431f927ee0dbe54c09c9"
            }
          },
          "metadata": {
            "tags": []
          }
        },
        {
          "output_type": "display_data",
          "data": {
            "text/plain": [
              "  0%|          | 0/258 [00:00<?, ?it/s]"
            ],
            "application/vnd.jupyter.widget-view+json": {
              "version_major": 2,
              "version_minor": 0,
              "model_id": "084549f40bf241b7bd5a7f2ae2df99ae"
            }
          },
          "metadata": {
            "tags": []
          }
        },
        {
          "output_type": "display_data",
          "data": {
            "text/plain": [
              "  0%|          | 0/258 [00:00<?, ?it/s]"
            ],
            "application/vnd.jupyter.widget-view+json": {
              "version_major": 2,
              "version_minor": 0,
              "model_id": "3ee5646108654361988846368921abf3"
            }
          },
          "metadata": {
            "tags": []
          }
        },
        {
          "output_type": "display_data",
          "data": {
            "text/plain": [
              "  0%|          | 0/258 [00:00<?, ?it/s]"
            ],
            "application/vnd.jupyter.widget-view+json": {
              "version_major": 2,
              "version_minor": 0,
              "model_id": "846a5e0d217c4faf8d417677de2baf6e"
            }
          },
          "metadata": {
            "tags": []
          }
        },
        {
          "output_type": "display_data",
          "data": {
            "text/plain": [
              "  0%|          | 0/258 [00:00<?, ?it/s]"
            ],
            "application/vnd.jupyter.widget-view+json": {
              "version_major": 2,
              "version_minor": 0,
              "model_id": "e03a7898655b45d7af154c30752dfc19"
            }
          },
          "metadata": {
            "tags": []
          }
        },
        {
          "output_type": "display_data",
          "data": {
            "text/plain": [
              "  0%|          | 0/258 [00:00<?, ?it/s]"
            ],
            "application/vnd.jupyter.widget-view+json": {
              "version_major": 2,
              "version_minor": 0,
              "model_id": "0709b03562ab4ca3a951ff86dbadb9f4"
            }
          },
          "metadata": {
            "tags": []
          }
        },
        {
          "output_type": "display_data",
          "data": {
            "text/plain": [
              "  0%|          | 0/258 [00:00<?, ?it/s]"
            ],
            "application/vnd.jupyter.widget-view+json": {
              "version_major": 2,
              "version_minor": 0,
              "model_id": "75b1d760dac246bfb00aa4554c8c5928"
            }
          },
          "metadata": {
            "tags": []
          }
        },
        {
          "output_type": "display_data",
          "data": {
            "text/plain": [
              "  0%|          | 0/258 [00:00<?, ?it/s]"
            ],
            "application/vnd.jupyter.widget-view+json": {
              "version_major": 2,
              "version_minor": 0,
              "model_id": "152df105436b4cd486ca67bdc23fe54b"
            }
          },
          "metadata": {
            "tags": []
          }
        },
        {
          "output_type": "display_data",
          "data": {
            "text/plain": [
              "  0%|          | 0/258 [00:00<?, ?it/s]"
            ],
            "application/vnd.jupyter.widget-view+json": {
              "version_major": 2,
              "version_minor": 0,
              "model_id": "0b9158d3c2da4288922e13cc05f6eaa5"
            }
          },
          "metadata": {
            "tags": []
          }
        },
        {
          "output_type": "display_data",
          "data": {
            "text/plain": [
              "  0%|          | 0/258 [00:00<?, ?it/s]"
            ],
            "application/vnd.jupyter.widget-view+json": {
              "version_major": 2,
              "version_minor": 0,
              "model_id": "a88a4b6a99354db3af01751e3e956646"
            }
          },
          "metadata": {
            "tags": []
          }
        },
        {
          "output_type": "display_data",
          "data": {
            "text/plain": [
              "  0%|          | 0/258 [00:00<?, ?it/s]"
            ],
            "application/vnd.jupyter.widget-view+json": {
              "version_major": 2,
              "version_minor": 0,
              "model_id": "d3d352de94204720ba04ac235792119f"
            }
          },
          "metadata": {
            "tags": []
          }
        },
        {
          "output_type": "display_data",
          "data": {
            "text/plain": [
              "  0%|          | 0/258 [00:00<?, ?it/s]"
            ],
            "application/vnd.jupyter.widget-view+json": {
              "version_major": 2,
              "version_minor": 0,
              "model_id": "5833e38d527741d3843f5c5eabeebaff"
            }
          },
          "metadata": {
            "tags": []
          }
        },
        {
          "output_type": "display_data",
          "data": {
            "text/plain": [
              "  0%|          | 0/258 [00:00<?, ?it/s]"
            ],
            "application/vnd.jupyter.widget-view+json": {
              "version_major": 2,
              "version_minor": 0,
              "model_id": "75e68fd14b0840af8009fe37e77c0763"
            }
          },
          "metadata": {
            "tags": []
          }
        },
        {
          "output_type": "display_data",
          "data": {
            "text/plain": [
              "  0%|          | 0/258 [00:00<?, ?it/s]"
            ],
            "application/vnd.jupyter.widget-view+json": {
              "version_major": 2,
              "version_minor": 0,
              "model_id": "ba8381a2d25d4c01b3b0457c61307847"
            }
          },
          "metadata": {
            "tags": []
          }
        },
        {
          "output_type": "display_data",
          "data": {
            "text/plain": [
              "  0%|          | 0/258 [00:00<?, ?it/s]"
            ],
            "application/vnd.jupyter.widget-view+json": {
              "version_major": 2,
              "version_minor": 0,
              "model_id": "088842d6d9ad449680752501f280a6b2"
            }
          },
          "metadata": {
            "tags": []
          }
        },
        {
          "output_type": "display_data",
          "data": {
            "text/plain": [
              "  0%|          | 0/258 [00:00<?, ?it/s]"
            ],
            "application/vnd.jupyter.widget-view+json": {
              "version_major": 2,
              "version_minor": 0,
              "model_id": "5a7baa59aa9b4d1abdd9c13fa26e5847"
            }
          },
          "metadata": {
            "tags": []
          }
        },
        {
          "output_type": "display_data",
          "data": {
            "text/plain": [
              "  0%|          | 0/258 [00:00<?, ?it/s]"
            ],
            "application/vnd.jupyter.widget-view+json": {
              "version_major": 2,
              "version_minor": 0,
              "model_id": "75eb2153d0d44a43b70901217d0cc101"
            }
          },
          "metadata": {
            "tags": []
          }
        },
        {
          "output_type": "display_data",
          "data": {
            "text/plain": [
              "  0%|          | 0/258 [00:00<?, ?it/s]"
            ],
            "application/vnd.jupyter.widget-view+json": {
              "version_major": 2,
              "version_minor": 0,
              "model_id": "b880837c137f4ad08cf12eb4296125bd"
            }
          },
          "metadata": {
            "tags": []
          }
        },
        {
          "output_type": "display_data",
          "data": {
            "text/plain": [
              "  0%|          | 0/258 [00:00<?, ?it/s]"
            ],
            "application/vnd.jupyter.widget-view+json": {
              "version_major": 2,
              "version_minor": 0,
              "model_id": "cc3c29ec4400414e983bdf48aaf46b8d"
            }
          },
          "metadata": {
            "tags": []
          }
        }
      ]
    },
    {
      "cell_type": "code",
      "metadata": {
        "id": "1RS3A4sVxMJV"
      },
      "source": [
        "# Let's save the model for future usage\n",
        "\n",
        "torch.save(model.state_dict(), \"/io/models/mol_classifier.pt\")"
      ],
      "execution_count": null,
      "outputs": []
    },
    {
      "cell_type": "code",
      "metadata": {
        "id": "95gebEqHxMJW",
        "outputId": "c6ba015e-ea2b-43d9-ac77-9b71235ebff2"
      },
      "source": [
        "# TRAINING VISUALIZATION\n",
        "\n",
        "fig, ax = plt.subplots(dpi=120)\n",
        "\n",
        "ax.plot(train_accs, c=\"steelblue\", label=\"Training\")\n",
        "ax.plot(val_accs, c=\"orangered\", label=\"Validation\")\n",
        "ax.grid()\n",
        "ax.legend()\n",
        "\n",
        "plt.show()"
      ],
      "execution_count": null,
      "outputs": [
        {
          "output_type": "display_data",
          "data": {
            "text/plain": [
              "<Figure size 720x480 with 1 Axes>"
            ],
            "image/svg+xml": "<?xml version=\"1.0\" encoding=\"utf-8\" standalone=\"no\"?>\n<!DOCTYPE svg PUBLIC \"-//W3C//DTD SVG 1.1//EN\"\n  \"http://www.w3.org/Graphics/SVG/1.1/DTD/svg11.dtd\">\n<!-- Created with matplotlib (https://matplotlib.org/) -->\n<svg height=\"248.518125pt\" version=\"1.1\" viewBox=\"0 0 384.828125 248.518125\" width=\"384.828125pt\" xmlns=\"http://www.w3.org/2000/svg\" xmlns:xlink=\"http://www.w3.org/1999/xlink\">\n <metadata>\n  <rdf:RDF xmlns:cc=\"http://creativecommons.org/ns#\" xmlns:dc=\"http://purl.org/dc/elements/1.1/\" xmlns:rdf=\"http://www.w3.org/1999/02/22-rdf-syntax-ns#\">\n   <cc:Work>\n    <dc:type rdf:resource=\"http://purl.org/dc/dcmitype/StillImage\"/>\n    <dc:date>2021-03-17T09:10:37.148074</dc:date>\n    <dc:format>image/svg+xml</dc:format>\n    <dc:creator>\n     <cc:Agent>\n      <dc:title>Matplotlib v3.3.4, https://matplotlib.org/</dc:title>\n     </cc:Agent>\n    </dc:creator>\n   </cc:Work>\n  </rdf:RDF>\n </metadata>\n <defs>\n  <style type=\"text/css\">*{stroke-linecap:butt;stroke-linejoin:round;}</style>\n </defs>\n <g id=\"figure_1\">\n  <g id=\"patch_1\">\n   <path d=\"M 0 248.518125 \nL 384.828125 248.518125 \nL 384.828125 0 \nL 0 0 \nz\n\" style=\"fill:none;\"/>\n  </g>\n  <g id=\"axes_1\">\n   <g id=\"patch_2\">\n    <path d=\"M 42.828125 224.64 \nL 377.628125 224.64 \nL 377.628125 7.2 \nL 42.828125 7.2 \nz\n\" style=\"fill:#ffffff;\"/>\n   </g>\n   <g id=\"matplotlib.axis_1\">\n    <g id=\"xtick_1\">\n     <g id=\"line2d_1\">\n      <path clip-path=\"url(#pe85d287bed)\" d=\"M 58.046307 224.64 \nL 58.046307 7.2 \n\" style=\"fill:none;stroke:#b0b0b0;stroke-linecap:square;stroke-width:0.8;\"/>\n     </g>\n     <g id=\"line2d_2\">\n      <defs>\n       <path d=\"M 0 0 \nL 0 3.5 \n\" id=\"m5608ab988b\" style=\"stroke:#000000;stroke-width:0.8;\"/>\n      </defs>\n      <g>\n       <use style=\"stroke:#000000;stroke-width:0.8;\" x=\"58.046307\" xlink:href=\"#m5608ab988b\" y=\"224.64\"/>\n      </g>\n     </g>\n     <g id=\"text_1\">\n      <!-- 0 -->\n      <g transform=\"translate(54.865057 239.238438)scale(0.1 -0.1)\">\n       <defs>\n        <path d=\"M 31.78125 66.40625 \nQ 24.171875 66.40625 20.328125 58.90625 \nQ 16.5 51.421875 16.5 36.375 \nQ 16.5 21.390625 20.328125 13.890625 \nQ 24.171875 6.390625 31.78125 6.390625 \nQ 39.453125 6.390625 43.28125 13.890625 \nQ 47.125 21.390625 47.125 36.375 \nQ 47.125 51.421875 43.28125 58.90625 \nQ 39.453125 66.40625 31.78125 66.40625 \nz\nM 31.78125 74.21875 \nQ 44.046875 74.21875 50.515625 64.515625 \nQ 56.984375 54.828125 56.984375 36.375 \nQ 56.984375 17.96875 50.515625 8.265625 \nQ 44.046875 -1.421875 31.78125 -1.421875 \nQ 19.53125 -1.421875 13.0625 8.265625 \nQ 6.59375 17.96875 6.59375 36.375 \nQ 6.59375 54.828125 13.0625 64.515625 \nQ 19.53125 74.21875 31.78125 74.21875 \nz\n\" id=\"DejaVuSans-48\"/>\n       </defs>\n       <use xlink:href=\"#DejaVuSans-48\"/>\n      </g>\n     </g>\n    </g>\n    <g id=\"xtick_2\">\n     <g id=\"line2d_3\">\n      <path clip-path=\"url(#pe85d287bed)\" d=\"M 96.282945 224.64 \nL 96.282945 7.2 \n\" style=\"fill:none;stroke:#b0b0b0;stroke-linecap:square;stroke-width:0.8;\"/>\n     </g>\n     <g id=\"line2d_4\">\n      <g>\n       <use style=\"stroke:#000000;stroke-width:0.8;\" x=\"96.282945\" xlink:href=\"#m5608ab988b\" y=\"224.64\"/>\n      </g>\n     </g>\n     <g id=\"text_2\">\n      <!-- 25 -->\n      <g transform=\"translate(89.920445 239.238438)scale(0.1 -0.1)\">\n       <defs>\n        <path d=\"M 19.1875 8.296875 \nL 53.609375 8.296875 \nL 53.609375 0 \nL 7.328125 0 \nL 7.328125 8.296875 \nQ 12.9375 14.109375 22.625 23.890625 \nQ 32.328125 33.6875 34.8125 36.53125 \nQ 39.546875 41.84375 41.421875 45.53125 \nQ 43.3125 49.21875 43.3125 52.78125 \nQ 43.3125 58.59375 39.234375 62.25 \nQ 35.15625 65.921875 28.609375 65.921875 \nQ 23.96875 65.921875 18.8125 64.3125 \nQ 13.671875 62.703125 7.8125 59.421875 \nL 7.8125 69.390625 \nQ 13.765625 71.78125 18.9375 73 \nQ 24.125 74.21875 28.421875 74.21875 \nQ 39.75 74.21875 46.484375 68.546875 \nQ 53.21875 62.890625 53.21875 53.421875 \nQ 53.21875 48.921875 51.53125 44.890625 \nQ 49.859375 40.875 45.40625 35.40625 \nQ 44.1875 33.984375 37.640625 27.21875 \nQ 31.109375 20.453125 19.1875 8.296875 \nz\n\" id=\"DejaVuSans-50\"/>\n        <path d=\"M 10.796875 72.90625 \nL 49.515625 72.90625 \nL 49.515625 64.59375 \nL 19.828125 64.59375 \nL 19.828125 46.734375 \nQ 21.96875 47.46875 24.109375 47.828125 \nQ 26.265625 48.1875 28.421875 48.1875 \nQ 40.625 48.1875 47.75 41.5 \nQ 54.890625 34.8125 54.890625 23.390625 \nQ 54.890625 11.625 47.5625 5.09375 \nQ 40.234375 -1.421875 26.90625 -1.421875 \nQ 22.3125 -1.421875 17.546875 -0.640625 \nQ 12.796875 0.140625 7.71875 1.703125 \nL 7.71875 11.625 \nQ 12.109375 9.234375 16.796875 8.0625 \nQ 21.484375 6.890625 26.703125 6.890625 \nQ 35.15625 6.890625 40.078125 11.328125 \nQ 45.015625 15.765625 45.015625 23.390625 \nQ 45.015625 31 40.078125 35.4375 \nQ 35.15625 39.890625 26.703125 39.890625 \nQ 22.75 39.890625 18.8125 39.015625 \nQ 14.890625 38.140625 10.796875 36.28125 \nz\n\" id=\"DejaVuSans-53\"/>\n       </defs>\n       <use xlink:href=\"#DejaVuSans-50\"/>\n       <use x=\"63.623047\" xlink:href=\"#DejaVuSans-53\"/>\n      </g>\n     </g>\n    </g>\n    <g id=\"xtick_3\">\n     <g id=\"line2d_5\">\n      <path clip-path=\"url(#pe85d287bed)\" d=\"M 134.519582 224.64 \nL 134.519582 7.2 \n\" style=\"fill:none;stroke:#b0b0b0;stroke-linecap:square;stroke-width:0.8;\"/>\n     </g>\n     <g id=\"line2d_6\">\n      <g>\n       <use style=\"stroke:#000000;stroke-width:0.8;\" x=\"134.519582\" xlink:href=\"#m5608ab988b\" y=\"224.64\"/>\n      </g>\n     </g>\n     <g id=\"text_3\">\n      <!-- 50 -->\n      <g transform=\"translate(128.157082 239.238438)scale(0.1 -0.1)\">\n       <use xlink:href=\"#DejaVuSans-53\"/>\n       <use x=\"63.623047\" xlink:href=\"#DejaVuSans-48\"/>\n      </g>\n     </g>\n    </g>\n    <g id=\"xtick_4\">\n     <g id=\"line2d_7\">\n      <path clip-path=\"url(#pe85d287bed)\" d=\"M 172.75622 224.64 \nL 172.75622 7.2 \n\" style=\"fill:none;stroke:#b0b0b0;stroke-linecap:square;stroke-width:0.8;\"/>\n     </g>\n     <g id=\"line2d_8\">\n      <g>\n       <use style=\"stroke:#000000;stroke-width:0.8;\" x=\"172.75622\" xlink:href=\"#m5608ab988b\" y=\"224.64\"/>\n      </g>\n     </g>\n     <g id=\"text_4\">\n      <!-- 75 -->\n      <g transform=\"translate(166.39372 239.238438)scale(0.1 -0.1)\">\n       <defs>\n        <path d=\"M 8.203125 72.90625 \nL 55.078125 72.90625 \nL 55.078125 68.703125 \nL 28.609375 0 \nL 18.3125 0 \nL 43.21875 64.59375 \nL 8.203125 64.59375 \nz\n\" id=\"DejaVuSans-55\"/>\n       </defs>\n       <use xlink:href=\"#DejaVuSans-55\"/>\n       <use x=\"63.623047\" xlink:href=\"#DejaVuSans-53\"/>\n      </g>\n     </g>\n    </g>\n    <g id=\"xtick_5\">\n     <g id=\"line2d_9\">\n      <path clip-path=\"url(#pe85d287bed)\" d=\"M 210.992858 224.64 \nL 210.992858 7.2 \n\" style=\"fill:none;stroke:#b0b0b0;stroke-linecap:square;stroke-width:0.8;\"/>\n     </g>\n     <g id=\"line2d_10\">\n      <g>\n       <use style=\"stroke:#000000;stroke-width:0.8;\" x=\"210.992858\" xlink:href=\"#m5608ab988b\" y=\"224.64\"/>\n      </g>\n     </g>\n     <g id=\"text_5\">\n      <!-- 100 -->\n      <g transform=\"translate(201.449108 239.238438)scale(0.1 -0.1)\">\n       <defs>\n        <path d=\"M 12.40625 8.296875 \nL 28.515625 8.296875 \nL 28.515625 63.921875 \nL 10.984375 60.40625 \nL 10.984375 69.390625 \nL 28.421875 72.90625 \nL 38.28125 72.90625 \nL 38.28125 8.296875 \nL 54.390625 8.296875 \nL 54.390625 0 \nL 12.40625 0 \nz\n\" id=\"DejaVuSans-49\"/>\n       </defs>\n       <use xlink:href=\"#DejaVuSans-49\"/>\n       <use x=\"63.623047\" xlink:href=\"#DejaVuSans-48\"/>\n       <use x=\"127.246094\" xlink:href=\"#DejaVuSans-48\"/>\n      </g>\n     </g>\n    </g>\n    <g id=\"xtick_6\">\n     <g id=\"line2d_11\">\n      <path clip-path=\"url(#pe85d287bed)\" d=\"M 249.229495 224.64 \nL 249.229495 7.2 \n\" style=\"fill:none;stroke:#b0b0b0;stroke-linecap:square;stroke-width:0.8;\"/>\n     </g>\n     <g id=\"line2d_12\">\n      <g>\n       <use style=\"stroke:#000000;stroke-width:0.8;\" x=\"249.229495\" xlink:href=\"#m5608ab988b\" y=\"224.64\"/>\n      </g>\n     </g>\n     <g id=\"text_6\">\n      <!-- 125 -->\n      <g transform=\"translate(239.685745 239.238438)scale(0.1 -0.1)\">\n       <use xlink:href=\"#DejaVuSans-49\"/>\n       <use x=\"63.623047\" xlink:href=\"#DejaVuSans-50\"/>\n       <use x=\"127.246094\" xlink:href=\"#DejaVuSans-53\"/>\n      </g>\n     </g>\n    </g>\n    <g id=\"xtick_7\">\n     <g id=\"line2d_13\">\n      <path clip-path=\"url(#pe85d287bed)\" d=\"M 287.466133 224.64 \nL 287.466133 7.2 \n\" style=\"fill:none;stroke:#b0b0b0;stroke-linecap:square;stroke-width:0.8;\"/>\n     </g>\n     <g id=\"line2d_14\">\n      <g>\n       <use style=\"stroke:#000000;stroke-width:0.8;\" x=\"287.466133\" xlink:href=\"#m5608ab988b\" y=\"224.64\"/>\n      </g>\n     </g>\n     <g id=\"text_7\">\n      <!-- 150 -->\n      <g transform=\"translate(277.922383 239.238438)scale(0.1 -0.1)\">\n       <use xlink:href=\"#DejaVuSans-49\"/>\n       <use x=\"63.623047\" xlink:href=\"#DejaVuSans-53\"/>\n       <use x=\"127.246094\" xlink:href=\"#DejaVuSans-48\"/>\n      </g>\n     </g>\n    </g>\n    <g id=\"xtick_8\">\n     <g id=\"line2d_15\">\n      <path clip-path=\"url(#pe85d287bed)\" d=\"M 325.702771 224.64 \nL 325.702771 7.2 \n\" style=\"fill:none;stroke:#b0b0b0;stroke-linecap:square;stroke-width:0.8;\"/>\n     </g>\n     <g id=\"line2d_16\">\n      <g>\n       <use style=\"stroke:#000000;stroke-width:0.8;\" x=\"325.702771\" xlink:href=\"#m5608ab988b\" y=\"224.64\"/>\n      </g>\n     </g>\n     <g id=\"text_8\">\n      <!-- 175 -->\n      <g transform=\"translate(316.159021 239.238438)scale(0.1 -0.1)\">\n       <use xlink:href=\"#DejaVuSans-49\"/>\n       <use x=\"63.623047\" xlink:href=\"#DejaVuSans-55\"/>\n       <use x=\"127.246094\" xlink:href=\"#DejaVuSans-53\"/>\n      </g>\n     </g>\n    </g>\n    <g id=\"xtick_9\">\n     <g id=\"line2d_17\">\n      <path clip-path=\"url(#pe85d287bed)\" d=\"M 363.939409 224.64 \nL 363.939409 7.2 \n\" style=\"fill:none;stroke:#b0b0b0;stroke-linecap:square;stroke-width:0.8;\"/>\n     </g>\n     <g id=\"line2d_18\">\n      <g>\n       <use style=\"stroke:#000000;stroke-width:0.8;\" x=\"363.939409\" xlink:href=\"#m5608ab988b\" y=\"224.64\"/>\n      </g>\n     </g>\n     <g id=\"text_9\">\n      <!-- 200 -->\n      <g transform=\"translate(354.395659 239.238438)scale(0.1 -0.1)\">\n       <use xlink:href=\"#DejaVuSans-50\"/>\n       <use x=\"63.623047\" xlink:href=\"#DejaVuSans-48\"/>\n       <use x=\"127.246094\" xlink:href=\"#DejaVuSans-48\"/>\n      </g>\n     </g>\n    </g>\n   </g>\n   <g id=\"matplotlib.axis_2\">\n    <g id=\"ytick_1\">\n     <g id=\"line2d_19\">\n      <path clip-path=\"url(#pe85d287bed)\" d=\"M 42.828125 221.794257 \nL 377.628125 221.794257 \n\" style=\"fill:none;stroke:#b0b0b0;stroke-linecap:square;stroke-width:0.8;\"/>\n     </g>\n     <g id=\"line2d_20\">\n      <defs>\n       <path d=\"M 0 0 \nL -3.5 0 \n\" id=\"m06726a78a1\" style=\"stroke:#000000;stroke-width:0.8;\"/>\n      </defs>\n      <g>\n       <use style=\"stroke:#000000;stroke-width:0.8;\" x=\"42.828125\" xlink:href=\"#m06726a78a1\" y=\"221.794257\"/>\n      </g>\n     </g>\n     <g id=\"text_10\">\n      <!-- 121.5 -->\n      <g transform=\"translate(7.2 225.593476)scale(0.1 -0.1)\">\n       <defs>\n        <path d=\"M 10.6875 12.40625 \nL 21 12.40625 \nL 21 0 \nL 10.6875 0 \nz\n\" id=\"DejaVuSans-46\"/>\n       </defs>\n       <use xlink:href=\"#DejaVuSans-49\"/>\n       <use x=\"63.623047\" xlink:href=\"#DejaVuSans-50\"/>\n       <use x=\"127.246094\" xlink:href=\"#DejaVuSans-49\"/>\n       <use x=\"190.869141\" xlink:href=\"#DejaVuSans-46\"/>\n       <use x=\"222.65625\" xlink:href=\"#DejaVuSans-53\"/>\n      </g>\n     </g>\n    </g>\n    <g id=\"ytick_2\">\n     <g id=\"line2d_21\">\n      <path clip-path=\"url(#pe85d287bed)\" d=\"M 42.828125 193.344357 \nL 377.628125 193.344357 \n\" style=\"fill:none;stroke:#b0b0b0;stroke-linecap:square;stroke-width:0.8;\"/>\n     </g>\n     <g id=\"line2d_22\">\n      <g>\n       <use style=\"stroke:#000000;stroke-width:0.8;\" x=\"42.828125\" xlink:href=\"#m06726a78a1\" y=\"193.344357\"/>\n      </g>\n     </g>\n     <g id=\"text_11\">\n      <!-- 122.0 -->\n      <g transform=\"translate(7.2 197.143576)scale(0.1 -0.1)\">\n       <use xlink:href=\"#DejaVuSans-49\"/>\n       <use x=\"63.623047\" xlink:href=\"#DejaVuSans-50\"/>\n       <use x=\"127.246094\" xlink:href=\"#DejaVuSans-50\"/>\n       <use x=\"190.869141\" xlink:href=\"#DejaVuSans-46\"/>\n       <use x=\"222.65625\" xlink:href=\"#DejaVuSans-48\"/>\n      </g>\n     </g>\n    </g>\n    <g id=\"ytick_3\">\n     <g id=\"line2d_23\">\n      <path clip-path=\"url(#pe85d287bed)\" d=\"M 42.828125 164.894458 \nL 377.628125 164.894458 \n\" style=\"fill:none;stroke:#b0b0b0;stroke-linecap:square;stroke-width:0.8;\"/>\n     </g>\n     <g id=\"line2d_24\">\n      <g>\n       <use style=\"stroke:#000000;stroke-width:0.8;\" x=\"42.828125\" xlink:href=\"#m06726a78a1\" y=\"164.894458\"/>\n      </g>\n     </g>\n     <g id=\"text_12\">\n      <!-- 122.5 -->\n      <g transform=\"translate(7.2 168.693676)scale(0.1 -0.1)\">\n       <use xlink:href=\"#DejaVuSans-49\"/>\n       <use x=\"63.623047\" xlink:href=\"#DejaVuSans-50\"/>\n       <use x=\"127.246094\" xlink:href=\"#DejaVuSans-50\"/>\n       <use x=\"190.869141\" xlink:href=\"#DejaVuSans-46\"/>\n       <use x=\"222.65625\" xlink:href=\"#DejaVuSans-53\"/>\n      </g>\n     </g>\n    </g>\n    <g id=\"ytick_4\">\n     <g id=\"line2d_25\">\n      <path clip-path=\"url(#pe85d287bed)\" d=\"M 42.828125 136.444558 \nL 377.628125 136.444558 \n\" style=\"fill:none;stroke:#b0b0b0;stroke-linecap:square;stroke-width:0.8;\"/>\n     </g>\n     <g id=\"line2d_26\">\n      <g>\n       <use style=\"stroke:#000000;stroke-width:0.8;\" x=\"42.828125\" xlink:href=\"#m06726a78a1\" y=\"136.444558\"/>\n      </g>\n     </g>\n     <g id=\"text_13\">\n      <!-- 123.0 -->\n      <g transform=\"translate(7.2 140.243777)scale(0.1 -0.1)\">\n       <defs>\n        <path d=\"M 40.578125 39.3125 \nQ 47.65625 37.796875 51.625 33 \nQ 55.609375 28.21875 55.609375 21.1875 \nQ 55.609375 10.40625 48.1875 4.484375 \nQ 40.765625 -1.421875 27.09375 -1.421875 \nQ 22.515625 -1.421875 17.65625 -0.515625 \nQ 12.796875 0.390625 7.625 2.203125 \nL 7.625 11.71875 \nQ 11.71875 9.328125 16.59375 8.109375 \nQ 21.484375 6.890625 26.8125 6.890625 \nQ 36.078125 6.890625 40.9375 10.546875 \nQ 45.796875 14.203125 45.796875 21.1875 \nQ 45.796875 27.640625 41.28125 31.265625 \nQ 36.765625 34.90625 28.71875 34.90625 \nL 20.21875 34.90625 \nL 20.21875 43.015625 \nL 29.109375 43.015625 \nQ 36.375 43.015625 40.234375 45.921875 \nQ 44.09375 48.828125 44.09375 54.296875 \nQ 44.09375 59.90625 40.109375 62.90625 \nQ 36.140625 65.921875 28.71875 65.921875 \nQ 24.65625 65.921875 20.015625 65.03125 \nQ 15.375 64.15625 9.8125 62.3125 \nL 9.8125 71.09375 \nQ 15.4375 72.65625 20.34375 73.4375 \nQ 25.25 74.21875 29.59375 74.21875 \nQ 40.828125 74.21875 47.359375 69.109375 \nQ 53.90625 64.015625 53.90625 55.328125 \nQ 53.90625 49.265625 50.4375 45.09375 \nQ 46.96875 40.921875 40.578125 39.3125 \nz\n\" id=\"DejaVuSans-51\"/>\n       </defs>\n       <use xlink:href=\"#DejaVuSans-49\"/>\n       <use x=\"63.623047\" xlink:href=\"#DejaVuSans-50\"/>\n       <use x=\"127.246094\" xlink:href=\"#DejaVuSans-51\"/>\n       <use x=\"190.869141\" xlink:href=\"#DejaVuSans-46\"/>\n       <use x=\"222.65625\" xlink:href=\"#DejaVuSans-48\"/>\n      </g>\n     </g>\n    </g>\n    <g id=\"ytick_5\">\n     <g id=\"line2d_27\">\n      <path clip-path=\"url(#pe85d287bed)\" d=\"M 42.828125 107.994658 \nL 377.628125 107.994658 \n\" style=\"fill:none;stroke:#b0b0b0;stroke-linecap:square;stroke-width:0.8;\"/>\n     </g>\n     <g id=\"line2d_28\">\n      <g>\n       <use style=\"stroke:#000000;stroke-width:0.8;\" x=\"42.828125\" xlink:href=\"#m06726a78a1\" y=\"107.994658\"/>\n      </g>\n     </g>\n     <g id=\"text_14\">\n      <!-- 123.5 -->\n      <g transform=\"translate(7.2 111.793877)scale(0.1 -0.1)\">\n       <use xlink:href=\"#DejaVuSans-49\"/>\n       <use x=\"63.623047\" xlink:href=\"#DejaVuSans-50\"/>\n       <use x=\"127.246094\" xlink:href=\"#DejaVuSans-51\"/>\n       <use x=\"190.869141\" xlink:href=\"#DejaVuSans-46\"/>\n       <use x=\"222.65625\" xlink:href=\"#DejaVuSans-53\"/>\n      </g>\n     </g>\n    </g>\n    <g id=\"ytick_6\">\n     <g id=\"line2d_29\">\n      <path clip-path=\"url(#pe85d287bed)\" d=\"M 42.828125 79.544758 \nL 377.628125 79.544758 \n\" style=\"fill:none;stroke:#b0b0b0;stroke-linecap:square;stroke-width:0.8;\"/>\n     </g>\n     <g id=\"line2d_30\">\n      <g>\n       <use style=\"stroke:#000000;stroke-width:0.8;\" x=\"42.828125\" xlink:href=\"#m06726a78a1\" y=\"79.544758\"/>\n      </g>\n     </g>\n     <g id=\"text_15\">\n      <!-- 124.0 -->\n      <g transform=\"translate(7.2 83.343977)scale(0.1 -0.1)\">\n       <defs>\n        <path d=\"M 37.796875 64.3125 \nL 12.890625 25.390625 \nL 37.796875 25.390625 \nz\nM 35.203125 72.90625 \nL 47.609375 72.90625 \nL 47.609375 25.390625 \nL 58.015625 25.390625 \nL 58.015625 17.1875 \nL 47.609375 17.1875 \nL 47.609375 0 \nL 37.796875 0 \nL 37.796875 17.1875 \nL 4.890625 17.1875 \nL 4.890625 26.703125 \nz\n\" id=\"DejaVuSans-52\"/>\n       </defs>\n       <use xlink:href=\"#DejaVuSans-49\"/>\n       <use x=\"63.623047\" xlink:href=\"#DejaVuSans-50\"/>\n       <use x=\"127.246094\" xlink:href=\"#DejaVuSans-52\"/>\n       <use x=\"190.869141\" xlink:href=\"#DejaVuSans-46\"/>\n       <use x=\"222.65625\" xlink:href=\"#DejaVuSans-48\"/>\n      </g>\n     </g>\n    </g>\n    <g id=\"ytick_7\">\n     <g id=\"line2d_31\">\n      <path clip-path=\"url(#pe85d287bed)\" d=\"M 42.828125 51.094859 \nL 377.628125 51.094859 \n\" style=\"fill:none;stroke:#b0b0b0;stroke-linecap:square;stroke-width:0.8;\"/>\n     </g>\n     <g id=\"line2d_32\">\n      <g>\n       <use style=\"stroke:#000000;stroke-width:0.8;\" x=\"42.828125\" xlink:href=\"#m06726a78a1\" y=\"51.094859\"/>\n      </g>\n     </g>\n     <g id=\"text_16\">\n      <!-- 124.5 -->\n      <g transform=\"translate(7.2 54.894077)scale(0.1 -0.1)\">\n       <use xlink:href=\"#DejaVuSans-49\"/>\n       <use x=\"63.623047\" xlink:href=\"#DejaVuSans-50\"/>\n       <use x=\"127.246094\" xlink:href=\"#DejaVuSans-52\"/>\n       <use x=\"190.869141\" xlink:href=\"#DejaVuSans-46\"/>\n       <use x=\"222.65625\" xlink:href=\"#DejaVuSans-53\"/>\n      </g>\n     </g>\n    </g>\n    <g id=\"ytick_8\">\n     <g id=\"line2d_33\">\n      <path clip-path=\"url(#pe85d287bed)\" d=\"M 42.828125 22.644959 \nL 377.628125 22.644959 \n\" style=\"fill:none;stroke:#b0b0b0;stroke-linecap:square;stroke-width:0.8;\"/>\n     </g>\n     <g id=\"line2d_34\">\n      <g>\n       <use style=\"stroke:#000000;stroke-width:0.8;\" x=\"42.828125\" xlink:href=\"#m06726a78a1\" y=\"22.644959\"/>\n      </g>\n     </g>\n     <g id=\"text_17\">\n      <!-- 125.0 -->\n      <g transform=\"translate(7.2 26.444178)scale(0.1 -0.1)\">\n       <use xlink:href=\"#DejaVuSans-49\"/>\n       <use x=\"63.623047\" xlink:href=\"#DejaVuSans-50\"/>\n       <use x=\"127.246094\" xlink:href=\"#DejaVuSans-53\"/>\n       <use x=\"190.869141\" xlink:href=\"#DejaVuSans-46\"/>\n       <use x=\"222.65625\" xlink:href=\"#DejaVuSans-48\"/>\n      </g>\n     </g>\n    </g>\n   </g>\n   <g id=\"line2d_35\">\n    <path clip-path=\"url(#pe85d287bed)\" d=\"M 58.046307 125.732502 \nL 68.752565 125.732502 \nL 70.282031 125.519783 \nL 71.811496 125.732502 \nL 74.870427 125.732502 \nL 76.399893 126.126811 \nL 77.929358 125.732502 \nL 79.458824 125.732502 \nL 80.988289 125.933115 \nL 84.04722 125.936574 \nL 85.576686 126.147564 \nL 87.106151 125.723855 \nL 88.635617 125.732502 \nL 90.165083 126.147564 \nL 91.694548 125.519783 \nL 93.224014 127.368537 \nL 94.753479 125.732502 \nL 96.282945 127.174842 \nL 97.81241 126.962123 \nL 99.341876 126.538414 \nL 100.871341 125.732502 \nL 102.400807 133.316029 \nL 103.930272 125.519783 \nL 105.459738 129.76552 \nL 106.989203 128.620641 \nL 108.518669 128.969985 \nL 110.048134 126.766698 \nL 111.5776 128.366415 \nL 113.107065 129.257069 \nL 114.636531 126.979417 \nL 116.165996 153.967088 \nL 117.695462 127.162736 \nL 119.224927 127.579527 \nL 120.754393 130.339689 \nL 122.283858 131.097177 \nL 123.813324 127.18176 \nL 125.342789 128.848925 \nL 126.872255 135.17516 \nL 128.40172 127.569151 \nL 129.931186 131.090259 \nL 131.460651 143.175479 \nL 132.990117 131.654052 \nL 134.519582 130.433078 \nL 136.049048 128.404463 \nL 137.578513 128.219414 \nL 139.107979 140.124773 \nL 140.637444 133.286629 \nL 142.16691 128.347392 \nL 143.696375 134.237812 \nL 145.225841 137.122492 \nL 146.755306 128.98382 \nL 148.284772 138.39189 \nL 149.814237 129.146386 \nL 151.343703 139.86536 \nL 152.873168 156.104657 \nL 154.402634 136.218003 \nL 155.932099 127.140253 \nL 157.461565 140.64706 \nL 158.99103 127.704046 \nL 160.520496 136.537947 \nL 162.049961 151.182715 \nL 163.579427 130.222088 \nL 165.108892 152.787621 \nL 166.638358 135.258173 \nL 168.167823 135.427656 \nL 169.697289 148.868744 \nL 171.226755 133.061803 \nL 172.75622 136.358087 \nL 174.285686 149.81301 \nL 175.815151 133.186322 \nL 177.344617 139.419168 \nL 178.874082 128.584323 \nL 180.403548 138.206842 \nL 181.933013 126.950017 \nL 183.462479 189.707377 \nL 184.991944 148.083586 \nL 186.52141 133.466489 \nL 188.050875 133.988775 \nL 189.580341 154.707282 \nL 191.109806 145.856087 \nL 192.639272 138.317525 \nL 194.168737 135.493374 \nL 195.698203 147.416028 \nL 197.227668 145.297483 \nL 198.757134 131.59871 \nL 200.286599 139.7443 \nL 203.34553 177.795101 \nL 204.874996 137.527178 \nL 206.404461 130.038769 \nL 207.933927 153.788957 \nL 209.463392 128.129484 \nL 210.992858 142.694698 \nL 212.522323 143.749647 \nL 214.051789 141.390712 \nL 215.581254 167.78865 \nL 217.11072 139.14246 \nL 218.640185 133.016838 \nL 220.169651 159.172656 \nL 221.699116 142.566721 \nL 223.228582 134.116752 \nL 224.758047 142.950653 \nL 226.287513 140.999862 \nL 227.816978 126.140646 \nL 229.346444 134.877699 \nL 230.875909 137.463189 \nL 232.405375 142.642816 \nL 233.93484 144.870315 \nL 235.464306 164.020233 \nL 236.993771 130.33623 \nL 238.523237 175.775133 \nL 240.052702 177.068742 \nL 241.582168 127.72134 \nL 243.111633 140.334034 \nL 244.641099 173.852012 \nL 246.170564 145.748862 \nL 247.70003 156.647696 \nL 249.229495 128.375063 \nL 250.758961 136.721266 \nL 252.288427 138.893423 \nL 253.817892 149.636609 \nL 255.347358 128.153696 \nL 256.876823 136.506817 \nL 258.406289 138.101347 \nL 259.935754 145.15394 \nL 261.46522 176.712481 \nL 262.994685 146.848776 \nL 264.524151 157.180359 \nL 266.053616 139.951831 \nL 267.583082 182.471465 \nL 269.112547 143.600917 \nL 270.642013 139.820395 \nL 272.171478 137.693202 \nL 273.700944 154.987449 \nL 276.759875 129.592578 \nL 278.28934 138.741234 \nL 279.818806 138.236242 \nL 281.348271 132.115808 \nL 282.877737 126.538414 \nL 284.407202 128.738242 \nL 285.936668 156.339859 \nL 287.466133 145.122811 \nL 288.995599 185.048307 \nL 290.525064 185.242003 \nL 292.05453 147.879513 \nL 293.583995 138.09097 \nL 295.113461 132.131373 \nL 296.642926 195.916012 \nL 299.701857 132.944202 \nL 301.231323 140.270045 \nL 302.760788 156.685744 \nL 304.290254 161.763334 \nL 305.819719 138.945306 \nL 307.349185 151.179256 \nL 308.87865 192.509045 \nL 310.408116 145.420272 \nL 311.937581 157.367137 \nL 313.467047 138.563103 \nL 314.996512 187.50409 \nL 316.525978 136.28891 \nL 318.055443 161.17533 \nL 319.584909 143.05096 \nL 321.114374 136.396134 \nL 322.64384 141.380336 \nL 324.173305 165.741011 \nL 325.702771 139.934537 \nL 327.232236 135.043724 \nL 328.761702 144.552101 \nL 330.291167 199.802029 \nL 331.820633 149.757669 \nL 333.350099 169.666805 \nL 334.879564 161.981242 \nL 336.40903 143.784236 \nL 337.938495 157.105994 \nL 339.467961 135.628269 \nL 340.997426 146.402585 \nL 342.526892 147.630476 \nL 344.056357 195.175818 \nL 345.585823 127.147171 \nL 347.115288 179.517608 \nL 348.644754 143.327668 \nL 350.174219 186.224316 \nL 351.703685 162.562329 \nL 353.23315 190.862633 \nL 354.762616 140.190492 \nL 356.292081 157.626551 \nL 357.821547 155.22265 \nL 359.351012 127.57261 \nL 360.880478 161.213377 \nL 362.409943 214.756364 \nL 362.409943 214.756364 \n\" style=\"fill:none;stroke:#4682b4;stroke-linecap:square;stroke-width:1.5;\"/>\n   </g>\n   <g id=\"line2d_36\">\n    <path clip-path=\"url(#pe85d287bed)\" d=\"M 58.046307 19.947302 \nL 59.575772 21.482891 \nL 73.340962 21.482891 \nL 74.870427 19.947302 \nL 76.399893 21.482891 \nL 90.165083 21.482891 \nL 91.694548 19.947302 \nL 93.224014 21.482891 \nL 94.753479 21.482891 \nL 96.282945 19.947302 \nL 97.81241 21.482891 \nL 99.341876 19.947302 \nL 100.871341 21.482891 \nL 102.400807 23.198324 \nL 103.930272 19.947302 \nL 105.459738 21.482891 \nL 106.989203 21.482891 \nL 108.518669 21.635067 \nL 110.048134 21.482891 \nL 111.5776 23.087651 \nL 113.107065 21.662735 \nL 114.636531 21.690404 \nL 116.165996 43.75585 \nL 117.695462 21.607399 \nL 119.224927 20.099478 \nL 120.754393 23.198324 \nL 122.283858 23.225993 \nL 123.813324 23.087651 \nL 125.342789 23.115319 \nL 126.872255 24.913757 \nL 128.40172 23.225993 \nL 129.931186 23.225993 \nL 131.460651 35.26169 \nL 132.990117 23.225993 \nL 137.578513 23.170656 \nL 139.107979 33.380248 \nL 140.637444 21.662735 \nL 142.16691 23.115319 \nL 143.696375 21.57973 \nL 145.225841 26.490849 \nL 146.755306 23.170656 \nL 148.284772 26.573853 \nL 149.814237 23.170656 \nL 151.343703 25.121269 \nL 152.873168 38.415873 \nL 154.402634 23.336666 \nL 155.932099 23.198324 \nL 157.461565 26.546185 \nL 158.99103 21.718072 \nL 160.520496 26.490849 \nL 162.049961 38.332869 \nL 163.579427 17.083636 \nL 165.108892 37.917844 \nL 166.638358 23.378168 \nL 168.167823 26.407844 \nL 169.697289 38.194527 \nL 171.226755 21.607399 \nL 172.75622 26.601522 \nL 174.285686 38.498878 \nL 175.815151 24.858421 \nL 177.344617 23.41967 \nL 178.874082 23.225993 \nL 180.403548 26.546185 \nL 181.933013 23.170656 \nL 183.462479 53.550418 \nL 184.991944 38.277532 \nL 186.52141 26.435512 \nL 188.050875 21.870247 \nL 189.580341 38.415873 \nL 191.109806 36.811114 \nL 192.639272 28.012603 \nL 194.168737 26.601522 \nL 195.698203 36.838782 \nL 197.227668 38.388205 \nL 198.757134 24.886089 \nL 200.286599 29.783373 \nL 201.816065 38.360537 \nL 203.34553 45.222268 \nL 204.874996 28.23395 \nL 206.404461 23.142988 \nL 207.933927 38.222195 \nL 209.463392 23.115319 \nL 210.992858 38.111522 \nL 212.522323 34.888169 \nL 214.051789 28.206281 \nL 215.581254 46.965369 \nL 217.11072 29.921714 \nL 218.640185 25.065933 \nL 220.169651 38.581883 \nL 221.699116 33.269575 \nL 223.228582 26.643024 \nL 224.758047 35.054178 \nL 226.287513 28.275452 \nL 227.816978 23.225993 \nL 229.346444 26.490849 \nL 230.875909 28.206281 \nL 232.405375 36.658938 \nL 235.464306 36.686606 \nL 236.993771 23.225993 \nL 238.523237 44.890249 \nL 240.052702 46.63335 \nL 241.582168 23.225993 \nL 243.111633 34.957339 \nL 244.641099 43.728181 \nL 246.170564 38.222195 \nL 247.70003 40.103638 \nL 249.229495 23.170656 \nL 252.288427 29.949382 \nL 253.817892 38.332869 \nL 255.347358 23.115319 \nL 256.876823 24.927591 \nL 258.406289 28.455296 \nL 259.935754 38.222195 \nL 261.46522 43.520669 \nL 262.994685 38.388205 \nL 264.524151 43.119479 \nL 266.053616 31.858493 \nL 267.583082 42.400104 \nL 270.642013 26.809034 \nL 272.171478 24.858421 \nL 273.700944 40.14514 \nL 275.230409 31.844659 \nL 276.759875 21.718072 \nL 278.28934 29.700368 \nL 279.818806 28.040272 \nL 281.348271 24.858421 \nL 282.877737 23.198324 \nL 284.407202 24.886089 \nL 285.936668 41.929744 \nL 287.466133 34.929671 \nL 288.995599 53.647257 \nL 290.525064 55.321187 \nL 292.05453 35.054178 \nL 293.583995 26.490849 \nL 295.113461 23.322831 \nL 296.642926 52.070165 \nL 298.172392 41.805237 \nL 299.701857 24.858421 \nL 301.231323 28.206281 \nL 302.760788 38.3052 \nL 304.290254 39.771619 \nL 305.819719 26.518517 \nL 307.349185 35.19252 \nL 308.87865 53.550418 \nL 310.408116 30.060056 \nL 311.937581 40.006799 \nL 313.467047 28.206281 \nL 314.996512 53.467413 \nL 316.525978 24.913757 \nL 318.055443 38.360537 \nL 319.584909 28.261618 \nL 321.114374 26.573853 \nL 322.64384 28.358457 \nL 324.173305 46.744023 \nL 325.702771 28.178613 \nL 327.232236 24.830752 \nL 328.761702 35.012676 \nL 330.291167 55.487197 \nL 331.820633 36.562099 \nL 333.350099 50.230225 \nL 334.879564 46.384335 \nL 336.40903 35.178686 \nL 337.938495 40.048301 \nL 339.467961 24.913757 \nL 340.997426 39.826955 \nL 342.526892 26.490849 \nL 344.056357 53.163062 \nL 345.585823 21.482891 \nL 347.115288 53.605754 \nL 348.644754 30.004719 \nL 350.174219 53.384408 \nL 351.703685 43.451499 \nL 353.23315 54.933831 \nL 354.762616 28.23395 \nL 356.292081 47.131379 \nL 357.821547 46.688686 \nL 359.351012 23.225993 \nL 360.880478 41.487051 \nL 362.409943 61.92007 \nL 362.409943 61.92007 \n\" style=\"fill:none;stroke:#ff4500;stroke-linecap:square;stroke-width:1.5;\"/>\n   </g>\n   <g id=\"patch_3\">\n    <path d=\"M 42.828125 224.64 \nL 42.828125 7.2 \n\" style=\"fill:none;stroke:#000000;stroke-linecap:square;stroke-linejoin:miter;stroke-width:0.8;\"/>\n   </g>\n   <g id=\"patch_4\">\n    <path d=\"M 377.628125 224.64 \nL 377.628125 7.2 \n\" style=\"fill:none;stroke:#000000;stroke-linecap:square;stroke-linejoin:miter;stroke-width:0.8;\"/>\n   </g>\n   <g id=\"patch_5\">\n    <path d=\"M 42.828125 224.64 \nL 377.628125 224.64 \n\" style=\"fill:none;stroke:#000000;stroke-linecap:square;stroke-linejoin:miter;stroke-width:0.8;\"/>\n   </g>\n   <g id=\"patch_6\">\n    <path d=\"M 42.828125 7.2 \nL 377.628125 7.2 \n\" style=\"fill:none;stroke:#000000;stroke-linecap:square;stroke-linejoin:miter;stroke-width:0.8;\"/>\n   </g>\n   <g id=\"legend_1\">\n    <g id=\"patch_7\">\n     <path d=\"M 49.828125 219.64 \nL 131.209375 219.64 \nQ 133.209375 219.64 133.209375 217.64 \nL 133.209375 189.28375 \nQ 133.209375 187.28375 131.209375 187.28375 \nL 49.828125 187.28375 \nQ 47.828125 187.28375 47.828125 189.28375 \nL 47.828125 217.64 \nQ 47.828125 219.64 49.828125 219.64 \nz\n\" style=\"fill:#ffffff;opacity:0.8;stroke:#cccccc;stroke-linejoin:miter;\"/>\n    </g>\n    <g id=\"line2d_37\">\n     <path d=\"M 51.828125 195.382188 \nL 71.828125 195.382188 \n\" style=\"fill:none;stroke:#4682b4;stroke-linecap:square;stroke-width:1.5;\"/>\n    </g>\n    <g id=\"line2d_38\"/>\n    <g id=\"text_18\">\n     <!-- Training -->\n     <g transform=\"translate(79.828125 198.882188)scale(0.1 -0.1)\">\n      <defs>\n       <path d=\"M -0.296875 72.90625 \nL 61.375 72.90625 \nL 61.375 64.59375 \nL 35.5 64.59375 \nL 35.5 0 \nL 25.59375 0 \nL 25.59375 64.59375 \nL -0.296875 64.59375 \nz\n\" id=\"DejaVuSans-84\"/>\n       <path d=\"M 41.109375 46.296875 \nQ 39.59375 47.171875 37.8125 47.578125 \nQ 36.03125 48 33.890625 48 \nQ 26.265625 48 22.1875 43.046875 \nQ 18.109375 38.09375 18.109375 28.8125 \nL 18.109375 0 \nL 9.078125 0 \nL 9.078125 54.6875 \nL 18.109375 54.6875 \nL 18.109375 46.1875 \nQ 20.953125 51.171875 25.484375 53.578125 \nQ 30.03125 56 36.53125 56 \nQ 37.453125 56 38.578125 55.875 \nQ 39.703125 55.765625 41.0625 55.515625 \nz\n\" id=\"DejaVuSans-114\"/>\n       <path d=\"M 34.28125 27.484375 \nQ 23.390625 27.484375 19.1875 25 \nQ 14.984375 22.515625 14.984375 16.5 \nQ 14.984375 11.71875 18.140625 8.90625 \nQ 21.296875 6.109375 26.703125 6.109375 \nQ 34.1875 6.109375 38.703125 11.40625 \nQ 43.21875 16.703125 43.21875 25.484375 \nL 43.21875 27.484375 \nz\nM 52.203125 31.203125 \nL 52.203125 0 \nL 43.21875 0 \nL 43.21875 8.296875 \nQ 40.140625 3.328125 35.546875 0.953125 \nQ 30.953125 -1.421875 24.3125 -1.421875 \nQ 15.921875 -1.421875 10.953125 3.296875 \nQ 6 8.015625 6 15.921875 \nQ 6 25.140625 12.171875 29.828125 \nQ 18.359375 34.515625 30.609375 34.515625 \nL 43.21875 34.515625 \nL 43.21875 35.40625 \nQ 43.21875 41.609375 39.140625 45 \nQ 35.0625 48.390625 27.6875 48.390625 \nQ 23 48.390625 18.546875 47.265625 \nQ 14.109375 46.140625 10.015625 43.890625 \nL 10.015625 52.203125 \nQ 14.9375 54.109375 19.578125 55.046875 \nQ 24.21875 56 28.609375 56 \nQ 40.484375 56 46.34375 49.84375 \nQ 52.203125 43.703125 52.203125 31.203125 \nz\n\" id=\"DejaVuSans-97\"/>\n       <path d=\"M 9.421875 54.6875 \nL 18.40625 54.6875 \nL 18.40625 0 \nL 9.421875 0 \nz\nM 9.421875 75.984375 \nL 18.40625 75.984375 \nL 18.40625 64.59375 \nL 9.421875 64.59375 \nz\n\" id=\"DejaVuSans-105\"/>\n       <path d=\"M 54.890625 33.015625 \nL 54.890625 0 \nL 45.90625 0 \nL 45.90625 32.71875 \nQ 45.90625 40.484375 42.875 44.328125 \nQ 39.84375 48.1875 33.796875 48.1875 \nQ 26.515625 48.1875 22.3125 43.546875 \nQ 18.109375 38.921875 18.109375 30.90625 \nL 18.109375 0 \nL 9.078125 0 \nL 9.078125 54.6875 \nL 18.109375 54.6875 \nL 18.109375 46.1875 \nQ 21.34375 51.125 25.703125 53.5625 \nQ 30.078125 56 35.796875 56 \nQ 45.21875 56 50.046875 50.171875 \nQ 54.890625 44.34375 54.890625 33.015625 \nz\n\" id=\"DejaVuSans-110\"/>\n       <path d=\"M 45.40625 27.984375 \nQ 45.40625 37.75 41.375 43.109375 \nQ 37.359375 48.484375 30.078125 48.484375 \nQ 22.859375 48.484375 18.828125 43.109375 \nQ 14.796875 37.75 14.796875 27.984375 \nQ 14.796875 18.265625 18.828125 12.890625 \nQ 22.859375 7.515625 30.078125 7.515625 \nQ 37.359375 7.515625 41.375 12.890625 \nQ 45.40625 18.265625 45.40625 27.984375 \nz\nM 54.390625 6.78125 \nQ 54.390625 -7.171875 48.1875 -13.984375 \nQ 42 -20.796875 29.203125 -20.796875 \nQ 24.46875 -20.796875 20.265625 -20.09375 \nQ 16.0625 -19.390625 12.109375 -17.921875 \nL 12.109375 -9.1875 \nQ 16.0625 -11.328125 19.921875 -12.34375 \nQ 23.78125 -13.375 27.78125 -13.375 \nQ 36.625 -13.375 41.015625 -8.765625 \nQ 45.40625 -4.15625 45.40625 5.171875 \nL 45.40625 9.625 \nQ 42.625 4.78125 38.28125 2.390625 \nQ 33.9375 0 27.875 0 \nQ 17.828125 0 11.671875 7.65625 \nQ 5.515625 15.328125 5.515625 27.984375 \nQ 5.515625 40.671875 11.671875 48.328125 \nQ 17.828125 56 27.875 56 \nQ 33.9375 56 38.28125 53.609375 \nQ 42.625 51.21875 45.40625 46.390625 \nL 45.40625 54.6875 \nL 54.390625 54.6875 \nz\n\" id=\"DejaVuSans-103\"/>\n      </defs>\n      <use xlink:href=\"#DejaVuSans-84\"/>\n      <use x=\"46.333984\" xlink:href=\"#DejaVuSans-114\"/>\n      <use x=\"87.447266\" xlink:href=\"#DejaVuSans-97\"/>\n      <use x=\"148.726562\" xlink:href=\"#DejaVuSans-105\"/>\n      <use x=\"176.509766\" xlink:href=\"#DejaVuSans-110\"/>\n      <use x=\"239.888672\" xlink:href=\"#DejaVuSans-105\"/>\n      <use x=\"267.671875\" xlink:href=\"#DejaVuSans-110\"/>\n      <use x=\"331.050781\" xlink:href=\"#DejaVuSans-103\"/>\n     </g>\n    </g>\n    <g id=\"line2d_39\">\n     <path d=\"M 51.828125 210.060313 \nL 71.828125 210.060313 \n\" style=\"fill:none;stroke:#ff4500;stroke-linecap:square;stroke-width:1.5;\"/>\n    </g>\n    <g id=\"line2d_40\"/>\n    <g id=\"text_19\">\n     <!-- Validation -->\n     <g transform=\"translate(79.828125 213.560313)scale(0.1 -0.1)\">\n      <defs>\n       <path d=\"M 28.609375 0 \nL 0.78125 72.90625 \nL 11.078125 72.90625 \nL 34.1875 11.53125 \nL 57.328125 72.90625 \nL 67.578125 72.90625 \nL 39.796875 0 \nz\n\" id=\"DejaVuSans-86\"/>\n       <path d=\"M 9.421875 75.984375 \nL 18.40625 75.984375 \nL 18.40625 0 \nL 9.421875 0 \nz\n\" id=\"DejaVuSans-108\"/>\n       <path d=\"M 45.40625 46.390625 \nL 45.40625 75.984375 \nL 54.390625 75.984375 \nL 54.390625 0 \nL 45.40625 0 \nL 45.40625 8.203125 \nQ 42.578125 3.328125 38.25 0.953125 \nQ 33.9375 -1.421875 27.875 -1.421875 \nQ 17.96875 -1.421875 11.734375 6.484375 \nQ 5.515625 14.40625 5.515625 27.296875 \nQ 5.515625 40.1875 11.734375 48.09375 \nQ 17.96875 56 27.875 56 \nQ 33.9375 56 38.25 53.625 \nQ 42.578125 51.265625 45.40625 46.390625 \nz\nM 14.796875 27.296875 \nQ 14.796875 17.390625 18.875 11.75 \nQ 22.953125 6.109375 30.078125 6.109375 \nQ 37.203125 6.109375 41.296875 11.75 \nQ 45.40625 17.390625 45.40625 27.296875 \nQ 45.40625 37.203125 41.296875 42.84375 \nQ 37.203125 48.484375 30.078125 48.484375 \nQ 22.953125 48.484375 18.875 42.84375 \nQ 14.796875 37.203125 14.796875 27.296875 \nz\n\" id=\"DejaVuSans-100\"/>\n       <path d=\"M 18.3125 70.21875 \nL 18.3125 54.6875 \nL 36.8125 54.6875 \nL 36.8125 47.703125 \nL 18.3125 47.703125 \nL 18.3125 18.015625 \nQ 18.3125 11.328125 20.140625 9.421875 \nQ 21.96875 7.515625 27.59375 7.515625 \nL 36.8125 7.515625 \nL 36.8125 0 \nL 27.59375 0 \nQ 17.1875 0 13.234375 3.875 \nQ 9.28125 7.765625 9.28125 18.015625 \nL 9.28125 47.703125 \nL 2.6875 47.703125 \nL 2.6875 54.6875 \nL 9.28125 54.6875 \nL 9.28125 70.21875 \nz\n\" id=\"DejaVuSans-116\"/>\n       <path d=\"M 30.609375 48.390625 \nQ 23.390625 48.390625 19.1875 42.75 \nQ 14.984375 37.109375 14.984375 27.296875 \nQ 14.984375 17.484375 19.15625 11.84375 \nQ 23.34375 6.203125 30.609375 6.203125 \nQ 37.796875 6.203125 41.984375 11.859375 \nQ 46.1875 17.53125 46.1875 27.296875 \nQ 46.1875 37.015625 41.984375 42.703125 \nQ 37.796875 48.390625 30.609375 48.390625 \nz\nM 30.609375 56 \nQ 42.328125 56 49.015625 48.375 \nQ 55.71875 40.765625 55.71875 27.296875 \nQ 55.71875 13.875 49.015625 6.21875 \nQ 42.328125 -1.421875 30.609375 -1.421875 \nQ 18.84375 -1.421875 12.171875 6.21875 \nQ 5.515625 13.875 5.515625 27.296875 \nQ 5.515625 40.765625 12.171875 48.375 \nQ 18.84375 56 30.609375 56 \nz\n\" id=\"DejaVuSans-111\"/>\n      </defs>\n      <use xlink:href=\"#DejaVuSans-86\"/>\n      <use x=\"60.658203\" xlink:href=\"#DejaVuSans-97\"/>\n      <use x=\"121.9375\" xlink:href=\"#DejaVuSans-108\"/>\n      <use x=\"149.720703\" xlink:href=\"#DejaVuSans-105\"/>\n      <use x=\"177.503906\" xlink:href=\"#DejaVuSans-100\"/>\n      <use x=\"240.980469\" xlink:href=\"#DejaVuSans-97\"/>\n      <use x=\"302.259766\" xlink:href=\"#DejaVuSans-116\"/>\n      <use x=\"341.46875\" xlink:href=\"#DejaVuSans-105\"/>\n      <use x=\"369.251953\" xlink:href=\"#DejaVuSans-111\"/>\n      <use x=\"430.433594\" xlink:href=\"#DejaVuSans-110\"/>\n     </g>\n    </g>\n   </g>\n  </g>\n </g>\n <defs>\n  <clipPath id=\"pe85d287bed\">\n   <rect height=\"217.44\" width=\"334.8\" x=\"42.828125\" y=\"7.2\"/>\n  </clipPath>\n </defs>\n</svg>\n",
            "image/png": "[encoded data removed]"
          },
          "metadata": {
            "tags": [],
            "needs_background": "light"
          }
        }
      ]
    },
    {
      "cell_type": "markdown",
      "metadata": {
        "id": "Kj9UUDWHxMJW"
      },
      "source": [
        "As multiple papers pointed out ([Xu et al. (2018)](https://arxiv.org/abs/1810.00826), [Morris et al. (2018)](https://arxiv.org/abs/1810.02244)), applying **neighborhood normalization decreases the expressivity of GNNs in distinguishing certain graph structures**.\n",
        "An alternative formulation ([Morris et al. (2018)](https://arxiv.org/abs/1810.02244)) omits neighborhood normalization completely and adds a simple skip-connection to the GNN layer in order to preserve central node information:\n",
        "\n",
        "$$\n",
        "\\mathbf{x}_v^{(\\ell+1)} = \\mathbf{W}^{(\\ell + 1)}_1 \\mathbf{x}_v^{(\\ell)} + \\mathbf{W}^{(\\ell + 1)}_2 \\sum_{w \\in \\mathcal{N}(v)} \\mathbf{x}_w^{(\\ell)}\n",
        "$$\n",
        "\n",
        "This layer is implemented under the name [`GraphConv`](https://pytorch-geometric.readthedocs.io/en/latest/modules/nn.html#torch_geometric.nn.conv.GraphConv) in PyTorch Geometric."
      ]
    },
    {
      "cell_type": "markdown",
      "metadata": {
        "id": "QZ_RkrdhxMJW"
      },
      "source": [
        "### Evaluation"
      ]
    },
    {
      "cell_type": "code",
      "metadata": {
        "id": "6tGBEQ0dxMJX"
      },
      "source": [
        "from sklearn.metrics import confusion_matrix"
      ],
      "execution_count": null,
      "outputs": []
    },
    {
      "cell_type": "code",
      "metadata": {
        "colab": {
          "referenced_widgets": [
            "e617caae9b894d1bbf7214902288840f"
          ]
        },
        "id": "uZnEwAgWxMJX",
        "outputId": "54dd39a3-69d5-4317-abdd-0ec04b1fad7b"
      },
      "source": [
        "with torch.no_grad():\n",
        "    model.eval()\n",
        "\n",
        "    y_pred = torch.cat(\n",
        "        [model(batch.to(device)) for batch in tqdm(loader_te)]\n",
        "    )"
      ],
      "execution_count": null,
      "outputs": [
        {
          "output_type": "display_data",
          "data": {
            "text/plain": [
              "  0%|          | 0/33 [00:00<?, ?it/s]"
            ],
            "application/vnd.jupyter.widget-view+json": {
              "version_major": 2,
              "version_minor": 0,
              "model_id": "e617caae9b894d1bbf7214902288840f"
            }
          },
          "metadata": {
            "tags": []
          }
        }
      ]
    },
    {
      "cell_type": "code",
      "metadata": {
        "id": "QZKM_irCxMJX",
        "outputId": "19ffbdaf-778d-4258-ca12-7495b666b088"
      },
      "source": [
        "y_pred"
      ],
      "execution_count": null,
      "outputs": [
        {
          "output_type": "execute_result",
          "data": {
            "text/plain": [
              "tensor([[-2.1410e-03, -6.1476e+00],\n",
              "        [-9.7667e-03, -4.6337e+00],\n",
              "        [-7.2614e-02, -2.6587e+00],\n",
              "        ...,\n",
              "        [-3.4323e-02, -3.3891e+00],\n",
              "        [-6.9137e-02, -2.7060e+00],\n",
              "        [-5.7012e-03, -5.1699e+00]])"
            ]
          },
          "metadata": {
            "tags": []
          },
          "execution_count": 24
        }
      ]
    },
    {
      "cell_type": "code",
      "metadata": {
        "id": "_18-TOtSxMJY",
        "outputId": "331784e4-6b2a-4bc4-9c9b-3f7eaec3d528"
      },
      "source": [
        "from ogb.graphproppred import Evaluator\n",
        "\n",
        "evaluator = Evaluator(name = \"ogbg-molhiv\")\n",
        "print(evaluator.expected_input_format) \n",
        "print(evaluator.expected_output_format)  "
      ],
      "execution_count": null,
      "outputs": [
        {
          "output_type": "stream",
          "text": [
            "==== Expected input format of Evaluator for ogbg-molhiv\n",
            "{'y_true': y_true, 'y_pred': y_pred}\n",
            "- y_true: numpy ndarray or torch tensor of shape (num_graph, num_task)\n",
            "- y_pred: numpy ndarray or torch tensor of shape (num_graph, num_task)\n",
            "where y_pred stores score values (for computing AUC score),\n",
            "num_task is 1, and each row corresponds to one graph.\n",
            "nan values in y_true are ignored during evaluation.\n",
            "\n",
            "==== Expected output format of Evaluator for ogbg-molhiv\n",
            "{'rocauc': rocauc}\n",
            "- rocauc (float): ROC-AUC score averaged across 1 task(s)\n",
            "\n"
          ],
          "name": "stdout"
        }
      ]
    },
    {
      "cell_type": "code",
      "metadata": {
        "id": "zQUlrMfExMJY"
      },
      "source": [
        "# In most cases, input_dict is\n",
        "y_true = torch.cat(\n",
        "    [batch.y for batch in loader_te]\n",
        ")\n",
        "input_dict = {\n",
        "    \"y_true\": y_true,\n",
        "    #\"y_pred\": torch.stack([y_pred[i, correct] for i, correct in enumerate(y_true)])\n",
        "    \"y_pred\": y_pred.argmax(dim=1).reshape((-1,1))\n",
        "}\n",
        "\n",
        "result_dict = evaluator.eval(input_dict)"
      ],
      "execution_count": null,
      "outputs": []
    },
    {
      "cell_type": "code",
      "metadata": {
        "id": "WbslVdcixMJY",
        "outputId": "18be03d6-a86e-425d-ff92-8fae27599c90"
      },
      "source": [
        "result_dict"
      ],
      "execution_count": null,
      "outputs": [
        {
          "output_type": "execute_result",
          "data": {
            "text/plain": [
              "{'rocauc': 0.5859508681125554}"
            ]
          },
          "metadata": {
            "tags": []
          },
          "execution_count": 36
        }
      ]
    },
    {
      "cell_type": "code",
      "metadata": {
        "id": "jNk-PQ_lxMJY",
        "outputId": "ac3e55a7-1142-4d58-9d67-208dbd2ec0ab"
      },
      "source": [
        "cm = confusion_matrix(y_true.flatten(), y_pred.argmax(dim=1))\n",
        "print(f\"\"\"\n",
        "Confusion matrix:\n",
        "{cm}\n",
        "\n",
        "Accuracy: {\n",
        "    ((y_true.flatten() == y_pred.argmax(dim=1)).sum() / len(y_pred)).item()\n",
        "}\n",
        "\"\"\")"
      ],
      "execution_count": null,
      "outputs": [
        {
          "output_type": "stream",
          "text": [
            "\n",
            "Confusion matrix:\n",
            "[[3963   20]\n",
            " [ 107   23]]\n",
            "\n",
            "Accuracy: 0.9691222906112671\n",
            "\n"
          ],
          "name": "stdout"
        }
      ]
    },
    {
      "cell_type": "code",
      "metadata": {
        "id": "RO6ONlCexMJZ",
        "outputId": "2be5043a-2a3e-4b66-95ae-b337960138cb"
      },
      "source": [
        "print(f\"Negative samples : {(1 - y_true).sum().item()}, Positive samples : {y_true.sum().item()}\")"
      ],
      "execution_count": null,
      "outputs": [
        {
          "output_type": "stream",
          "text": [
            "Negative samples : 3983, Positive samples : 130\n"
          ],
          "name": "stdout"
        }
      ]
    },
    {
      "cell_type": "code",
      "metadata": {
        "id": "QjTHotPuxMJZ"
      },
      "source": [
        ""
      ],
      "execution_count": null,
      "outputs": []
    }
  ]
}